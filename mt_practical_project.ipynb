{
  "nbformat": 4,
  "nbformat_minor": 0,
  "metadata": {
    "colab": {
      "name": "mt_practical_project.ipynb",
      "provenance": [],
      "collapsed_sections": []
    },
    "kernelspec": {
      "display_name": "Python 3",
      "language": "python",
      "name": "python3"
    },
    "language_info": {
      "codemirror_mode": {
        "name": "ipython",
        "version": 3
      },
      "file_extension": ".py",
      "mimetype": "text/x-python",
      "name": "python",
      "nbconvert_exporter": "python",
      "pygments_lexer": "ipython3",
      "version": "3.6.9"
    },
    "widgets": {
      "application/vnd.jupyter.widget-state+json": {
        "66b0764608084423a56e3c0d808da44e": {
          "model_module": "@jupyter-widgets/controls",
          "model_name": "HBoxModel",
          "state": {
            "_view_name": "HBoxView",
            "_dom_classes": [],
            "_model_name": "HBoxModel",
            "_view_module": "@jupyter-widgets/controls",
            "_model_module_version": "1.5.0",
            "_view_count": null,
            "_view_module_version": "1.5.0",
            "box_style": "",
            "layout": "IPY_MODEL_9cad21872846471597c080eab431b35a",
            "_model_module": "@jupyter-widgets/controls",
            "children": [
              "IPY_MODEL_c496147d9ddc47dfbeb2499c0541a8b4",
              "IPY_MODEL_ed074e76f4ef41f387236a10577fabfb"
            ]
          }
        },
        "9cad21872846471597c080eab431b35a": {
          "model_module": "@jupyter-widgets/base",
          "model_name": "LayoutModel",
          "state": {
            "_view_name": "LayoutView",
            "grid_template_rows": null,
            "right": null,
            "justify_content": null,
            "_view_module": "@jupyter-widgets/base",
            "overflow": null,
            "_model_module_version": "1.2.0",
            "_view_count": null,
            "flex_flow": null,
            "width": null,
            "min_width": null,
            "border": null,
            "align_items": null,
            "bottom": null,
            "_model_module": "@jupyter-widgets/base",
            "top": null,
            "grid_column": null,
            "overflow_y": null,
            "overflow_x": null,
            "grid_auto_flow": null,
            "grid_area": null,
            "grid_template_columns": null,
            "flex": null,
            "_model_name": "LayoutModel",
            "justify_items": null,
            "grid_row": null,
            "max_height": null,
            "align_content": null,
            "visibility": null,
            "align_self": null,
            "height": null,
            "min_height": null,
            "padding": null,
            "grid_auto_rows": null,
            "grid_gap": null,
            "max_width": null,
            "order": null,
            "_view_module_version": "1.2.0",
            "grid_template_areas": null,
            "object_position": null,
            "object_fit": null,
            "grid_auto_columns": null,
            "margin": null,
            "display": null,
            "left": null
          }
        },
        "c496147d9ddc47dfbeb2499c0541a8b4": {
          "model_module": "@jupyter-widgets/controls",
          "model_name": "FloatProgressModel",
          "state": {
            "_view_name": "ProgressView",
            "style": "IPY_MODEL_aa8f30ddb9954e7caa926e0082823257",
            "_dom_classes": [],
            "description": "Downloading: 100%",
            "_model_name": "FloatProgressModel",
            "bar_style": "success",
            "max": 209528,
            "_view_module": "@jupyter-widgets/controls",
            "_model_module_version": "1.5.0",
            "value": 209528,
            "_view_count": null,
            "_view_module_version": "1.5.0",
            "orientation": "horizontal",
            "min": 0,
            "description_tooltip": null,
            "_model_module": "@jupyter-widgets/controls",
            "layout": "IPY_MODEL_824495fb0db744d399d7882b3ccbc08e"
          }
        },
        "ed074e76f4ef41f387236a10577fabfb": {
          "model_module": "@jupyter-widgets/controls",
          "model_name": "HTMLModel",
          "state": {
            "_view_name": "HTMLView",
            "style": "IPY_MODEL_97f8aaaca1a1494ca1c5546091742d00",
            "_dom_classes": [],
            "description": "",
            "_model_name": "HTMLModel",
            "placeholder": "​",
            "_view_module": "@jupyter-widgets/controls",
            "_model_module_version": "1.5.0",
            "value": " 210k/210k [00:00&lt;00:00, 1.12MB/s]",
            "_view_count": null,
            "_view_module_version": "1.5.0",
            "description_tooltip": null,
            "_model_module": "@jupyter-widgets/controls",
            "layout": "IPY_MODEL_b10fa7c5d8d44eadbd2cf3ad7980bde1"
          }
        },
        "aa8f30ddb9954e7caa926e0082823257": {
          "model_module": "@jupyter-widgets/controls",
          "model_name": "ProgressStyleModel",
          "state": {
            "_view_name": "StyleView",
            "_model_name": "ProgressStyleModel",
            "description_width": "initial",
            "_view_module": "@jupyter-widgets/base",
            "_model_module_version": "1.5.0",
            "_view_count": null,
            "_view_module_version": "1.2.0",
            "bar_color": null,
            "_model_module": "@jupyter-widgets/controls"
          }
        },
        "824495fb0db744d399d7882b3ccbc08e": {
          "model_module": "@jupyter-widgets/base",
          "model_name": "LayoutModel",
          "state": {
            "_view_name": "LayoutView",
            "grid_template_rows": null,
            "right": null,
            "justify_content": null,
            "_view_module": "@jupyter-widgets/base",
            "overflow": null,
            "_model_module_version": "1.2.0",
            "_view_count": null,
            "flex_flow": null,
            "width": null,
            "min_width": null,
            "border": null,
            "align_items": null,
            "bottom": null,
            "_model_module": "@jupyter-widgets/base",
            "top": null,
            "grid_column": null,
            "overflow_y": null,
            "overflow_x": null,
            "grid_auto_flow": null,
            "grid_area": null,
            "grid_template_columns": null,
            "flex": null,
            "_model_name": "LayoutModel",
            "justify_items": null,
            "grid_row": null,
            "max_height": null,
            "align_content": null,
            "visibility": null,
            "align_self": null,
            "height": null,
            "min_height": null,
            "padding": null,
            "grid_auto_rows": null,
            "grid_gap": null,
            "max_width": null,
            "order": null,
            "_view_module_version": "1.2.0",
            "grid_template_areas": null,
            "object_position": null,
            "object_fit": null,
            "grid_auto_columns": null,
            "margin": null,
            "display": null,
            "left": null
          }
        },
        "97f8aaaca1a1494ca1c5546091742d00": {
          "model_module": "@jupyter-widgets/controls",
          "model_name": "DescriptionStyleModel",
          "state": {
            "_view_name": "StyleView",
            "_model_name": "DescriptionStyleModel",
            "description_width": "",
            "_view_module": "@jupyter-widgets/base",
            "_model_module_version": "1.5.0",
            "_view_count": null,
            "_view_module_version": "1.2.0",
            "_model_module": "@jupyter-widgets/controls"
          }
        },
        "b10fa7c5d8d44eadbd2cf3ad7980bde1": {
          "model_module": "@jupyter-widgets/base",
          "model_name": "LayoutModel",
          "state": {
            "_view_name": "LayoutView",
            "grid_template_rows": null,
            "right": null,
            "justify_content": null,
            "_view_module": "@jupyter-widgets/base",
            "overflow": null,
            "_model_module_version": "1.2.0",
            "_view_count": null,
            "flex_flow": null,
            "width": null,
            "min_width": null,
            "border": null,
            "align_items": null,
            "bottom": null,
            "_model_module": "@jupyter-widgets/base",
            "top": null,
            "grid_column": null,
            "overflow_y": null,
            "overflow_x": null,
            "grid_auto_flow": null,
            "grid_area": null,
            "grid_template_columns": null,
            "flex": null,
            "_model_name": "LayoutModel",
            "justify_items": null,
            "grid_row": null,
            "max_height": null,
            "align_content": null,
            "visibility": null,
            "align_self": null,
            "height": null,
            "min_height": null,
            "padding": null,
            "grid_auto_rows": null,
            "grid_gap": null,
            "max_width": null,
            "order": null,
            "_view_module_version": "1.2.0",
            "grid_template_areas": null,
            "object_position": null,
            "object_fit": null,
            "grid_auto_columns": null,
            "margin": null,
            "display": null,
            "left": null
          }
        },
        "02295b0504074036a54e62ece05fc72f": {
          "model_module": "@jupyter-widgets/controls",
          "model_name": "HBoxModel",
          "state": {
            "_view_name": "HBoxView",
            "_dom_classes": [],
            "_model_name": "HBoxModel",
            "_view_module": "@jupyter-widgets/controls",
            "_model_module_version": "1.5.0",
            "_view_count": null,
            "_view_module_version": "1.5.0",
            "box_style": "",
            "layout": "IPY_MODEL_c0e7784b762b45b28e48fe84f5120f53",
            "_model_module": "@jupyter-widgets/controls",
            "children": [
              "IPY_MODEL_29f6c23b0ac94c489a760eadfcede5d0",
              "IPY_MODEL_060c6aa91a7e4004924ab8a94ae715a0"
            ]
          }
        },
        "c0e7784b762b45b28e48fe84f5120f53": {
          "model_module": "@jupyter-widgets/base",
          "model_name": "LayoutModel",
          "state": {
            "_view_name": "LayoutView",
            "grid_template_rows": null,
            "right": null,
            "justify_content": null,
            "_view_module": "@jupyter-widgets/base",
            "overflow": null,
            "_model_module_version": "1.2.0",
            "_view_count": null,
            "flex_flow": null,
            "width": null,
            "min_width": null,
            "border": null,
            "align_items": null,
            "bottom": null,
            "_model_module": "@jupyter-widgets/base",
            "top": null,
            "grid_column": null,
            "overflow_y": null,
            "overflow_x": null,
            "grid_auto_flow": null,
            "grid_area": null,
            "grid_template_columns": null,
            "flex": null,
            "_model_name": "LayoutModel",
            "justify_items": null,
            "grid_row": null,
            "max_height": null,
            "align_content": null,
            "visibility": null,
            "align_self": null,
            "height": null,
            "min_height": null,
            "padding": null,
            "grid_auto_rows": null,
            "grid_gap": null,
            "max_width": null,
            "order": null,
            "_view_module_version": "1.2.0",
            "grid_template_areas": null,
            "object_position": null,
            "object_fit": null,
            "grid_auto_columns": null,
            "margin": null,
            "display": null,
            "left": null
          }
        },
        "29f6c23b0ac94c489a760eadfcede5d0": {
          "model_module": "@jupyter-widgets/controls",
          "model_name": "FloatProgressModel",
          "state": {
            "_view_name": "ProgressView",
            "style": "IPY_MODEL_aed72b499e38440c8931796e583954dd",
            "_dom_classes": [],
            "description": "Downloading: 100%",
            "_model_name": "FloatProgressModel",
            "bar_style": "success",
            "max": 2,
            "_view_module": "@jupyter-widgets/controls",
            "_model_module_version": "1.5.0",
            "value": 2,
            "_view_count": null,
            "_view_module_version": "1.5.0",
            "orientation": "horizontal",
            "min": 0,
            "description_tooltip": null,
            "_model_module": "@jupyter-widgets/controls",
            "layout": "IPY_MODEL_3f06dd8ceb024ba1bbf1b7d103a630c2"
          }
        },
        "060c6aa91a7e4004924ab8a94ae715a0": {
          "model_module": "@jupyter-widgets/controls",
          "model_name": "HTMLModel",
          "state": {
            "_view_name": "HTMLView",
            "style": "IPY_MODEL_0b5d57c994064d4a80599d9131404859",
            "_dom_classes": [],
            "description": "",
            "_model_name": "HTMLModel",
            "placeholder": "​",
            "_view_module": "@jupyter-widgets/controls",
            "_model_module_version": "1.5.0",
            "value": " 2.00/2.00 [00:00&lt;00:00, 21.0B/s]",
            "_view_count": null,
            "_view_module_version": "1.5.0",
            "description_tooltip": null,
            "_model_module": "@jupyter-widgets/controls",
            "layout": "IPY_MODEL_622ef2d60812429ca56c9039fb63c905"
          }
        },
        "aed72b499e38440c8931796e583954dd": {
          "model_module": "@jupyter-widgets/controls",
          "model_name": "ProgressStyleModel",
          "state": {
            "_view_name": "StyleView",
            "_model_name": "ProgressStyleModel",
            "description_width": "initial",
            "_view_module": "@jupyter-widgets/base",
            "_model_module_version": "1.5.0",
            "_view_count": null,
            "_view_module_version": "1.2.0",
            "bar_color": null,
            "_model_module": "@jupyter-widgets/controls"
          }
        },
        "3f06dd8ceb024ba1bbf1b7d103a630c2": {
          "model_module": "@jupyter-widgets/base",
          "model_name": "LayoutModel",
          "state": {
            "_view_name": "LayoutView",
            "grid_template_rows": null,
            "right": null,
            "justify_content": null,
            "_view_module": "@jupyter-widgets/base",
            "overflow": null,
            "_model_module_version": "1.2.0",
            "_view_count": null,
            "flex_flow": null,
            "width": null,
            "min_width": null,
            "border": null,
            "align_items": null,
            "bottom": null,
            "_model_module": "@jupyter-widgets/base",
            "top": null,
            "grid_column": null,
            "overflow_y": null,
            "overflow_x": null,
            "grid_auto_flow": null,
            "grid_area": null,
            "grid_template_columns": null,
            "flex": null,
            "_model_name": "LayoutModel",
            "justify_items": null,
            "grid_row": null,
            "max_height": null,
            "align_content": null,
            "visibility": null,
            "align_self": null,
            "height": null,
            "min_height": null,
            "padding": null,
            "grid_auto_rows": null,
            "grid_gap": null,
            "max_width": null,
            "order": null,
            "_view_module_version": "1.2.0",
            "grid_template_areas": null,
            "object_position": null,
            "object_fit": null,
            "grid_auto_columns": null,
            "margin": null,
            "display": null,
            "left": null
          }
        },
        "0b5d57c994064d4a80599d9131404859": {
          "model_module": "@jupyter-widgets/controls",
          "model_name": "DescriptionStyleModel",
          "state": {
            "_view_name": "StyleView",
            "_model_name": "DescriptionStyleModel",
            "description_width": "",
            "_view_module": "@jupyter-widgets/base",
            "_model_module_version": "1.5.0",
            "_view_count": null,
            "_view_module_version": "1.2.0",
            "_model_module": "@jupyter-widgets/controls"
          }
        },
        "622ef2d60812429ca56c9039fb63c905": {
          "model_module": "@jupyter-widgets/base",
          "model_name": "LayoutModel",
          "state": {
            "_view_name": "LayoutView",
            "grid_template_rows": null,
            "right": null,
            "justify_content": null,
            "_view_module": "@jupyter-widgets/base",
            "overflow": null,
            "_model_module_version": "1.2.0",
            "_view_count": null,
            "flex_flow": null,
            "width": null,
            "min_width": null,
            "border": null,
            "align_items": null,
            "bottom": null,
            "_model_module": "@jupyter-widgets/base",
            "top": null,
            "grid_column": null,
            "overflow_y": null,
            "overflow_x": null,
            "grid_auto_flow": null,
            "grid_area": null,
            "grid_template_columns": null,
            "flex": null,
            "_model_name": "LayoutModel",
            "justify_items": null,
            "grid_row": null,
            "max_height": null,
            "align_content": null,
            "visibility": null,
            "align_self": null,
            "height": null,
            "min_height": null,
            "padding": null,
            "grid_auto_rows": null,
            "grid_gap": null,
            "max_width": null,
            "order": null,
            "_view_module_version": "1.2.0",
            "grid_template_areas": null,
            "object_position": null,
            "object_fit": null,
            "grid_auto_columns": null,
            "margin": null,
            "display": null,
            "left": null
          }
        },
        "4f763b15d1bc48fe9b8ec7c26d076574": {
          "model_module": "@jupyter-widgets/controls",
          "model_name": "HBoxModel",
          "state": {
            "_view_name": "HBoxView",
            "_dom_classes": [],
            "_model_name": "HBoxModel",
            "_view_module": "@jupyter-widgets/controls",
            "_model_module_version": "1.5.0",
            "_view_count": null,
            "_view_module_version": "1.5.0",
            "box_style": "",
            "layout": "IPY_MODEL_bd9346c206774a43a782818d1ed49fdb",
            "_model_module": "@jupyter-widgets/controls",
            "children": [
              "IPY_MODEL_8af132aabd6843988f7f7860ebaef9b6",
              "IPY_MODEL_f246a36dbe0744daa67f2bdecc55e4f7"
            ]
          }
        },
        "bd9346c206774a43a782818d1ed49fdb": {
          "model_module": "@jupyter-widgets/base",
          "model_name": "LayoutModel",
          "state": {
            "_view_name": "LayoutView",
            "grid_template_rows": null,
            "right": null,
            "justify_content": null,
            "_view_module": "@jupyter-widgets/base",
            "overflow": null,
            "_model_module_version": "1.2.0",
            "_view_count": null,
            "flex_flow": null,
            "width": null,
            "min_width": null,
            "border": null,
            "align_items": null,
            "bottom": null,
            "_model_module": "@jupyter-widgets/base",
            "top": null,
            "grid_column": null,
            "overflow_y": null,
            "overflow_x": null,
            "grid_auto_flow": null,
            "grid_area": null,
            "grid_template_columns": null,
            "flex": null,
            "_model_name": "LayoutModel",
            "justify_items": null,
            "grid_row": null,
            "max_height": null,
            "align_content": null,
            "visibility": null,
            "align_self": null,
            "height": null,
            "min_height": null,
            "padding": null,
            "grid_auto_rows": null,
            "grid_gap": null,
            "max_width": null,
            "order": null,
            "_view_module_version": "1.2.0",
            "grid_template_areas": null,
            "object_position": null,
            "object_fit": null,
            "grid_auto_columns": null,
            "margin": null,
            "display": null,
            "left": null
          }
        },
        "8af132aabd6843988f7f7860ebaef9b6": {
          "model_module": "@jupyter-widgets/controls",
          "model_name": "FloatProgressModel",
          "state": {
            "_view_name": "ProgressView",
            "style": "IPY_MODEL_94c99c9b49c745e19485384705390681",
            "_dom_classes": [],
            "description": "Downloading: 100%",
            "_model_name": "FloatProgressModel",
            "bar_style": "success",
            "max": 112,
            "_view_module": "@jupyter-widgets/controls",
            "_model_module_version": "1.5.0",
            "value": 112,
            "_view_count": null,
            "_view_module_version": "1.5.0",
            "orientation": "horizontal",
            "min": 0,
            "description_tooltip": null,
            "_model_module": "@jupyter-widgets/controls",
            "layout": "IPY_MODEL_19ea6b12069948ae81ab626dd3802201"
          }
        },
        "f246a36dbe0744daa67f2bdecc55e4f7": {
          "model_module": "@jupyter-widgets/controls",
          "model_name": "HTMLModel",
          "state": {
            "_view_name": "HTMLView",
            "style": "IPY_MODEL_c7d7eefbacc9497ca193ee144b10ded5",
            "_dom_classes": [],
            "description": "",
            "_model_name": "HTMLModel",
            "placeholder": "​",
            "_view_module": "@jupyter-widgets/controls",
            "_model_module_version": "1.5.0",
            "value": " 112/112 [00:00&lt;00:00, 621B/s]",
            "_view_count": null,
            "_view_module_version": "1.5.0",
            "description_tooltip": null,
            "_model_module": "@jupyter-widgets/controls",
            "layout": "IPY_MODEL_96e71d3d682748cebf77341af10d3c46"
          }
        },
        "94c99c9b49c745e19485384705390681": {
          "model_module": "@jupyter-widgets/controls",
          "model_name": "ProgressStyleModel",
          "state": {
            "_view_name": "StyleView",
            "_model_name": "ProgressStyleModel",
            "description_width": "initial",
            "_view_module": "@jupyter-widgets/base",
            "_model_module_version": "1.5.0",
            "_view_count": null,
            "_view_module_version": "1.2.0",
            "bar_color": null,
            "_model_module": "@jupyter-widgets/controls"
          }
        },
        "19ea6b12069948ae81ab626dd3802201": {
          "model_module": "@jupyter-widgets/base",
          "model_name": "LayoutModel",
          "state": {
            "_view_name": "LayoutView",
            "grid_template_rows": null,
            "right": null,
            "justify_content": null,
            "_view_module": "@jupyter-widgets/base",
            "overflow": null,
            "_model_module_version": "1.2.0",
            "_view_count": null,
            "flex_flow": null,
            "width": null,
            "min_width": null,
            "border": null,
            "align_items": null,
            "bottom": null,
            "_model_module": "@jupyter-widgets/base",
            "top": null,
            "grid_column": null,
            "overflow_y": null,
            "overflow_x": null,
            "grid_auto_flow": null,
            "grid_area": null,
            "grid_template_columns": null,
            "flex": null,
            "_model_name": "LayoutModel",
            "justify_items": null,
            "grid_row": null,
            "max_height": null,
            "align_content": null,
            "visibility": null,
            "align_self": null,
            "height": null,
            "min_height": null,
            "padding": null,
            "grid_auto_rows": null,
            "grid_gap": null,
            "max_width": null,
            "order": null,
            "_view_module_version": "1.2.0",
            "grid_template_areas": null,
            "object_position": null,
            "object_fit": null,
            "grid_auto_columns": null,
            "margin": null,
            "display": null,
            "left": null
          }
        },
        "c7d7eefbacc9497ca193ee144b10ded5": {
          "model_module": "@jupyter-widgets/controls",
          "model_name": "DescriptionStyleModel",
          "state": {
            "_view_name": "StyleView",
            "_model_name": "DescriptionStyleModel",
            "description_width": "",
            "_view_module": "@jupyter-widgets/base",
            "_model_module_version": "1.5.0",
            "_view_count": null,
            "_view_module_version": "1.2.0",
            "_model_module": "@jupyter-widgets/controls"
          }
        },
        "96e71d3d682748cebf77341af10d3c46": {
          "model_module": "@jupyter-widgets/base",
          "model_name": "LayoutModel",
          "state": {
            "_view_name": "LayoutView",
            "grid_template_rows": null,
            "right": null,
            "justify_content": null,
            "_view_module": "@jupyter-widgets/base",
            "overflow": null,
            "_model_module_version": "1.2.0",
            "_view_count": null,
            "flex_flow": null,
            "width": null,
            "min_width": null,
            "border": null,
            "align_items": null,
            "bottom": null,
            "_model_module": "@jupyter-widgets/base",
            "top": null,
            "grid_column": null,
            "overflow_y": null,
            "overflow_x": null,
            "grid_auto_flow": null,
            "grid_area": null,
            "grid_template_columns": null,
            "flex": null,
            "_model_name": "LayoutModel",
            "justify_items": null,
            "grid_row": null,
            "max_height": null,
            "align_content": null,
            "visibility": null,
            "align_self": null,
            "height": null,
            "min_height": null,
            "padding": null,
            "grid_auto_rows": null,
            "grid_gap": null,
            "max_width": null,
            "order": null,
            "_view_module_version": "1.2.0",
            "grid_template_areas": null,
            "object_position": null,
            "object_fit": null,
            "grid_auto_columns": null,
            "margin": null,
            "display": null,
            "left": null
          }
        },
        "f758d929de9c4fba99c2ed0370836dd2": {
          "model_module": "@jupyter-widgets/controls",
          "model_name": "HBoxModel",
          "state": {
            "_view_name": "HBoxView",
            "_dom_classes": [],
            "_model_name": "HBoxModel",
            "_view_module": "@jupyter-widgets/controls",
            "_model_module_version": "1.5.0",
            "_view_count": null,
            "_view_module_version": "1.5.0",
            "box_style": "",
            "layout": "IPY_MODEL_e16cc8f4c067425fb36b8859c33e8d22",
            "_model_module": "@jupyter-widgets/controls",
            "children": [
              "IPY_MODEL_37bbb4588d384ae9929383c7e2f64f17",
              "IPY_MODEL_8fd0d20db16b4c449b210bee0865e122"
            ]
          }
        },
        "e16cc8f4c067425fb36b8859c33e8d22": {
          "model_module": "@jupyter-widgets/base",
          "model_name": "LayoutModel",
          "state": {
            "_view_name": "LayoutView",
            "grid_template_rows": null,
            "right": null,
            "justify_content": null,
            "_view_module": "@jupyter-widgets/base",
            "overflow": null,
            "_model_module_version": "1.2.0",
            "_view_count": null,
            "flex_flow": null,
            "width": null,
            "min_width": null,
            "border": null,
            "align_items": null,
            "bottom": null,
            "_model_module": "@jupyter-widgets/base",
            "top": null,
            "grid_column": null,
            "overflow_y": null,
            "overflow_x": null,
            "grid_auto_flow": null,
            "grid_area": null,
            "grid_template_columns": null,
            "flex": null,
            "_model_name": "LayoutModel",
            "justify_items": null,
            "grid_row": null,
            "max_height": null,
            "align_content": null,
            "visibility": null,
            "align_self": null,
            "height": null,
            "min_height": null,
            "padding": null,
            "grid_auto_rows": null,
            "grid_gap": null,
            "max_width": null,
            "order": null,
            "_view_module_version": "1.2.0",
            "grid_template_areas": null,
            "object_position": null,
            "object_fit": null,
            "grid_auto_columns": null,
            "margin": null,
            "display": null,
            "left": null
          }
        },
        "37bbb4588d384ae9929383c7e2f64f17": {
          "model_module": "@jupyter-widgets/controls",
          "model_name": "FloatProgressModel",
          "state": {
            "_view_name": "ProgressView",
            "style": "IPY_MODEL_d70b9eebfdd44f91a8d77d5f07b67bc0",
            "_dom_classes": [],
            "description": "Downloading: 100%",
            "_model_name": "FloatProgressModel",
            "bar_style": "success",
            "max": 43,
            "_view_module": "@jupyter-widgets/controls",
            "_model_module_version": "1.5.0",
            "value": 43,
            "_view_count": null,
            "_view_module_version": "1.5.0",
            "orientation": "horizontal",
            "min": 0,
            "description_tooltip": null,
            "_model_module": "@jupyter-widgets/controls",
            "layout": "IPY_MODEL_977dc8a871c3469cb4bb97a5397de3c3"
          }
        },
        "8fd0d20db16b4c449b210bee0865e122": {
          "model_module": "@jupyter-widgets/controls",
          "model_name": "HTMLModel",
          "state": {
            "_view_name": "HTMLView",
            "style": "IPY_MODEL_51237ced20a54c9fa4a651bb91e01e1c",
            "_dom_classes": [],
            "description": "",
            "_model_name": "HTMLModel",
            "placeholder": "​",
            "_view_module": "@jupyter-widgets/controls",
            "_model_module_version": "1.5.0",
            "value": " 43.0/43.0 [00:00&lt;00:00, 507B/s]",
            "_view_count": null,
            "_view_module_version": "1.5.0",
            "description_tooltip": null,
            "_model_module": "@jupyter-widgets/controls",
            "layout": "IPY_MODEL_ac8cabfbff7c4005bece96c12976a754"
          }
        },
        "d70b9eebfdd44f91a8d77d5f07b67bc0": {
          "model_module": "@jupyter-widgets/controls",
          "model_name": "ProgressStyleModel",
          "state": {
            "_view_name": "StyleView",
            "_model_name": "ProgressStyleModel",
            "description_width": "initial",
            "_view_module": "@jupyter-widgets/base",
            "_model_module_version": "1.5.0",
            "_view_count": null,
            "_view_module_version": "1.2.0",
            "bar_color": null,
            "_model_module": "@jupyter-widgets/controls"
          }
        },
        "977dc8a871c3469cb4bb97a5397de3c3": {
          "model_module": "@jupyter-widgets/base",
          "model_name": "LayoutModel",
          "state": {
            "_view_name": "LayoutView",
            "grid_template_rows": null,
            "right": null,
            "justify_content": null,
            "_view_module": "@jupyter-widgets/base",
            "overflow": null,
            "_model_module_version": "1.2.0",
            "_view_count": null,
            "flex_flow": null,
            "width": null,
            "min_width": null,
            "border": null,
            "align_items": null,
            "bottom": null,
            "_model_module": "@jupyter-widgets/base",
            "top": null,
            "grid_column": null,
            "overflow_y": null,
            "overflow_x": null,
            "grid_auto_flow": null,
            "grid_area": null,
            "grid_template_columns": null,
            "flex": null,
            "_model_name": "LayoutModel",
            "justify_items": null,
            "grid_row": null,
            "max_height": null,
            "align_content": null,
            "visibility": null,
            "align_self": null,
            "height": null,
            "min_height": null,
            "padding": null,
            "grid_auto_rows": null,
            "grid_gap": null,
            "max_width": null,
            "order": null,
            "_view_module_version": "1.2.0",
            "grid_template_areas": null,
            "object_position": null,
            "object_fit": null,
            "grid_auto_columns": null,
            "margin": null,
            "display": null,
            "left": null
          }
        },
        "51237ced20a54c9fa4a651bb91e01e1c": {
          "model_module": "@jupyter-widgets/controls",
          "model_name": "DescriptionStyleModel",
          "state": {
            "_view_name": "StyleView",
            "_model_name": "DescriptionStyleModel",
            "description_width": "",
            "_view_module": "@jupyter-widgets/base",
            "_model_module_version": "1.5.0",
            "_view_count": null,
            "_view_module_version": "1.2.0",
            "_model_module": "@jupyter-widgets/controls"
          }
        },
        "ac8cabfbff7c4005bece96c12976a754": {
          "model_module": "@jupyter-widgets/base",
          "model_name": "LayoutModel",
          "state": {
            "_view_name": "LayoutView",
            "grid_template_rows": null,
            "right": null,
            "justify_content": null,
            "_view_module": "@jupyter-widgets/base",
            "overflow": null,
            "_model_module_version": "1.2.0",
            "_view_count": null,
            "flex_flow": null,
            "width": null,
            "min_width": null,
            "border": null,
            "align_items": null,
            "bottom": null,
            "_model_module": "@jupyter-widgets/base",
            "top": null,
            "grid_column": null,
            "overflow_y": null,
            "overflow_x": null,
            "grid_auto_flow": null,
            "grid_area": null,
            "grid_template_columns": null,
            "flex": null,
            "_model_name": "LayoutModel",
            "justify_items": null,
            "grid_row": null,
            "max_height": null,
            "align_content": null,
            "visibility": null,
            "align_self": null,
            "height": null,
            "min_height": null,
            "padding": null,
            "grid_auto_rows": null,
            "grid_gap": null,
            "max_width": null,
            "order": null,
            "_view_module_version": "1.2.0",
            "grid_template_areas": null,
            "object_position": null,
            "object_fit": null,
            "grid_auto_columns": null,
            "margin": null,
            "display": null,
            "left": null
          }
        },
        "6cc0018d24f14e369ff8f47d910cf94c": {
          "model_module": "@jupyter-widgets/controls",
          "model_name": "HBoxModel",
          "state": {
            "_view_name": "HBoxView",
            "_dom_classes": [],
            "_model_name": "HBoxModel",
            "_view_module": "@jupyter-widgets/controls",
            "_model_module_version": "1.5.0",
            "_view_count": null,
            "_view_module_version": "1.5.0",
            "box_style": "",
            "layout": "IPY_MODEL_d0e1252ca49841d1bd642964851d58cc",
            "_model_module": "@jupyter-widgets/controls",
            "children": [
              "IPY_MODEL_285004772b0e4ce9a87d94e8692f9158",
              "IPY_MODEL_e1f8f59be6cd49ae81b060b33ebc93df"
            ]
          }
        },
        "d0e1252ca49841d1bd642964851d58cc": {
          "model_module": "@jupyter-widgets/base",
          "model_name": "LayoutModel",
          "state": {
            "_view_name": "LayoutView",
            "grid_template_rows": null,
            "right": null,
            "justify_content": null,
            "_view_module": "@jupyter-widgets/base",
            "overflow": null,
            "_model_module_version": "1.2.0",
            "_view_count": null,
            "flex_flow": null,
            "width": null,
            "min_width": null,
            "border": null,
            "align_items": null,
            "bottom": null,
            "_model_module": "@jupyter-widgets/base",
            "top": null,
            "grid_column": null,
            "overflow_y": null,
            "overflow_x": null,
            "grid_auto_flow": null,
            "grid_area": null,
            "grid_template_columns": null,
            "flex": null,
            "_model_name": "LayoutModel",
            "justify_items": null,
            "grid_row": null,
            "max_height": null,
            "align_content": null,
            "visibility": null,
            "align_self": null,
            "height": null,
            "min_height": null,
            "padding": null,
            "grid_auto_rows": null,
            "grid_gap": null,
            "max_width": null,
            "order": null,
            "_view_module_version": "1.2.0",
            "grid_template_areas": null,
            "object_position": null,
            "object_fit": null,
            "grid_auto_columns": null,
            "margin": null,
            "display": null,
            "left": null
          }
        },
        "285004772b0e4ce9a87d94e8692f9158": {
          "model_module": "@jupyter-widgets/controls",
          "model_name": "FloatProgressModel",
          "state": {
            "_view_name": "ProgressView",
            "style": "IPY_MODEL_a1b4b6436e1e42d7b2d1d41a23ba9a87",
            "_dom_classes": [],
            "description": "Downloading: 100%",
            "_model_name": "FloatProgressModel",
            "bar_style": "success",
            "max": 647,
            "_view_module": "@jupyter-widgets/controls",
            "_model_module_version": "1.5.0",
            "value": 647,
            "_view_count": null,
            "_view_module_version": "1.5.0",
            "orientation": "horizontal",
            "min": 0,
            "description_tooltip": null,
            "_model_module": "@jupyter-widgets/controls",
            "layout": "IPY_MODEL_95cda272dd284b4c8b3a7cba3f897888"
          }
        },
        "e1f8f59be6cd49ae81b060b33ebc93df": {
          "model_module": "@jupyter-widgets/controls",
          "model_name": "HTMLModel",
          "state": {
            "_view_name": "HTMLView",
            "style": "IPY_MODEL_a891ee3661994345ae129d52d75620bd",
            "_dom_classes": [],
            "description": "",
            "_model_name": "HTMLModel",
            "placeholder": "​",
            "_view_module": "@jupyter-widgets/controls",
            "_model_module_version": "1.5.0",
            "value": " 647/647 [00:00&lt;00:00, 1.84kB/s]",
            "_view_count": null,
            "_view_module_version": "1.5.0",
            "description_tooltip": null,
            "_model_module": "@jupyter-widgets/controls",
            "layout": "IPY_MODEL_9142519cceab494ea312c749cfc4318c"
          }
        },
        "a1b4b6436e1e42d7b2d1d41a23ba9a87": {
          "model_module": "@jupyter-widgets/controls",
          "model_name": "ProgressStyleModel",
          "state": {
            "_view_name": "StyleView",
            "_model_name": "ProgressStyleModel",
            "description_width": "initial",
            "_view_module": "@jupyter-widgets/base",
            "_model_module_version": "1.5.0",
            "_view_count": null,
            "_view_module_version": "1.2.0",
            "bar_color": null,
            "_model_module": "@jupyter-widgets/controls"
          }
        },
        "95cda272dd284b4c8b3a7cba3f897888": {
          "model_module": "@jupyter-widgets/base",
          "model_name": "LayoutModel",
          "state": {
            "_view_name": "LayoutView",
            "grid_template_rows": null,
            "right": null,
            "justify_content": null,
            "_view_module": "@jupyter-widgets/base",
            "overflow": null,
            "_model_module_version": "1.2.0",
            "_view_count": null,
            "flex_flow": null,
            "width": null,
            "min_width": null,
            "border": null,
            "align_items": null,
            "bottom": null,
            "_model_module": "@jupyter-widgets/base",
            "top": null,
            "grid_column": null,
            "overflow_y": null,
            "overflow_x": null,
            "grid_auto_flow": null,
            "grid_area": null,
            "grid_template_columns": null,
            "flex": null,
            "_model_name": "LayoutModel",
            "justify_items": null,
            "grid_row": null,
            "max_height": null,
            "align_content": null,
            "visibility": null,
            "align_self": null,
            "height": null,
            "min_height": null,
            "padding": null,
            "grid_auto_rows": null,
            "grid_gap": null,
            "max_width": null,
            "order": null,
            "_view_module_version": "1.2.0",
            "grid_template_areas": null,
            "object_position": null,
            "object_fit": null,
            "grid_auto_columns": null,
            "margin": null,
            "display": null,
            "left": null
          }
        },
        "a891ee3661994345ae129d52d75620bd": {
          "model_module": "@jupyter-widgets/controls",
          "model_name": "DescriptionStyleModel",
          "state": {
            "_view_name": "StyleView",
            "_model_name": "DescriptionStyleModel",
            "description_width": "",
            "_view_module": "@jupyter-widgets/base",
            "_model_module_version": "1.5.0",
            "_view_count": null,
            "_view_module_version": "1.2.0",
            "_model_module": "@jupyter-widgets/controls"
          }
        },
        "9142519cceab494ea312c749cfc4318c": {
          "model_module": "@jupyter-widgets/base",
          "model_name": "LayoutModel",
          "state": {
            "_view_name": "LayoutView",
            "grid_template_rows": null,
            "right": null,
            "justify_content": null,
            "_view_module": "@jupyter-widgets/base",
            "overflow": null,
            "_model_module_version": "1.2.0",
            "_view_count": null,
            "flex_flow": null,
            "width": null,
            "min_width": null,
            "border": null,
            "align_items": null,
            "bottom": null,
            "_model_module": "@jupyter-widgets/base",
            "top": null,
            "grid_column": null,
            "overflow_y": null,
            "overflow_x": null,
            "grid_auto_flow": null,
            "grid_area": null,
            "grid_template_columns": null,
            "flex": null,
            "_model_name": "LayoutModel",
            "justify_items": null,
            "grid_row": null,
            "max_height": null,
            "align_content": null,
            "visibility": null,
            "align_self": null,
            "height": null,
            "min_height": null,
            "padding": null,
            "grid_auto_rows": null,
            "grid_gap": null,
            "max_width": null,
            "order": null,
            "_view_module_version": "1.2.0",
            "grid_template_areas": null,
            "object_position": null,
            "object_fit": null,
            "grid_auto_columns": null,
            "margin": null,
            "display": null,
            "left": null
          }
        },
        "e05ec4adce2b4ddd9cc7c13187b5e7fd": {
          "model_module": "@jupyter-widgets/controls",
          "model_name": "HBoxModel",
          "state": {
            "_view_name": "HBoxView",
            "_dom_classes": [],
            "_model_name": "HBoxModel",
            "_view_module": "@jupyter-widgets/controls",
            "_model_module_version": "1.5.0",
            "_view_count": null,
            "_view_module_version": "1.5.0",
            "box_style": "",
            "layout": "IPY_MODEL_c0162d6c92bf4013a44fb3bd77ce1986",
            "_model_module": "@jupyter-widgets/controls",
            "children": [
              "IPY_MODEL_a8e2d4cc58b842f091c364c0eb756a18",
              "IPY_MODEL_f1adc9f5cd0845d28d042d6c6e4584a8"
            ]
          }
        },
        "c0162d6c92bf4013a44fb3bd77ce1986": {
          "model_module": "@jupyter-widgets/base",
          "model_name": "LayoutModel",
          "state": {
            "_view_name": "LayoutView",
            "grid_template_rows": null,
            "right": null,
            "justify_content": null,
            "_view_module": "@jupyter-widgets/base",
            "overflow": null,
            "_model_module_version": "1.2.0",
            "_view_count": null,
            "flex_flow": null,
            "width": null,
            "min_width": null,
            "border": null,
            "align_items": null,
            "bottom": null,
            "_model_module": "@jupyter-widgets/base",
            "top": null,
            "grid_column": null,
            "overflow_y": null,
            "overflow_x": null,
            "grid_auto_flow": null,
            "grid_area": null,
            "grid_template_columns": null,
            "flex": null,
            "_model_name": "LayoutModel",
            "justify_items": null,
            "grid_row": null,
            "max_height": null,
            "align_content": null,
            "visibility": null,
            "align_self": null,
            "height": null,
            "min_height": null,
            "padding": null,
            "grid_auto_rows": null,
            "grid_gap": null,
            "max_width": null,
            "order": null,
            "_view_module_version": "1.2.0",
            "grid_template_areas": null,
            "object_position": null,
            "object_fit": null,
            "grid_auto_columns": null,
            "margin": null,
            "display": null,
            "left": null
          }
        },
        "a8e2d4cc58b842f091c364c0eb756a18": {
          "model_module": "@jupyter-widgets/controls",
          "model_name": "FloatProgressModel",
          "state": {
            "_view_name": "ProgressView",
            "style": "IPY_MODEL_3de199039eed4daaa0c27b0657116085",
            "_dom_classes": [],
            "description": "Downloading: 100%",
            "_model_name": "FloatProgressModel",
            "bar_style": "success",
            "max": 438235074,
            "_view_module": "@jupyter-widgets/controls",
            "_model_module_version": "1.5.0",
            "value": 438235074,
            "_view_count": null,
            "_view_module_version": "1.5.0",
            "orientation": "horizontal",
            "min": 0,
            "description_tooltip": null,
            "_model_module": "@jupyter-widgets/controls",
            "layout": "IPY_MODEL_11a7c0dd84514a6fbc9049688aa59ffd"
          }
        },
        "f1adc9f5cd0845d28d042d6c6e4584a8": {
          "model_module": "@jupyter-widgets/controls",
          "model_name": "HTMLModel",
          "state": {
            "_view_name": "HTMLView",
            "style": "IPY_MODEL_3eedd1372c1a46bda1bfbb7c2f09464d",
            "_dom_classes": [],
            "description": "",
            "_model_name": "HTMLModel",
            "placeholder": "​",
            "_view_module": "@jupyter-widgets/controls",
            "_model_module_version": "1.5.0",
            "value": " 438M/438M [00:10&lt;00:00, 41.8MB/s]",
            "_view_count": null,
            "_view_module_version": "1.5.0",
            "description_tooltip": null,
            "_model_module": "@jupyter-widgets/controls",
            "layout": "IPY_MODEL_fe0f02567de944f192d3b7ed6ecfc434"
          }
        },
        "3de199039eed4daaa0c27b0657116085": {
          "model_module": "@jupyter-widgets/controls",
          "model_name": "ProgressStyleModel",
          "state": {
            "_view_name": "StyleView",
            "_model_name": "ProgressStyleModel",
            "description_width": "initial",
            "_view_module": "@jupyter-widgets/base",
            "_model_module_version": "1.5.0",
            "_view_count": null,
            "_view_module_version": "1.2.0",
            "bar_color": null,
            "_model_module": "@jupyter-widgets/controls"
          }
        },
        "11a7c0dd84514a6fbc9049688aa59ffd": {
          "model_module": "@jupyter-widgets/base",
          "model_name": "LayoutModel",
          "state": {
            "_view_name": "LayoutView",
            "grid_template_rows": null,
            "right": null,
            "justify_content": null,
            "_view_module": "@jupyter-widgets/base",
            "overflow": null,
            "_model_module_version": "1.2.0",
            "_view_count": null,
            "flex_flow": null,
            "width": null,
            "min_width": null,
            "border": null,
            "align_items": null,
            "bottom": null,
            "_model_module": "@jupyter-widgets/base",
            "top": null,
            "grid_column": null,
            "overflow_y": null,
            "overflow_x": null,
            "grid_auto_flow": null,
            "grid_area": null,
            "grid_template_columns": null,
            "flex": null,
            "_model_name": "LayoutModel",
            "justify_items": null,
            "grid_row": null,
            "max_height": null,
            "align_content": null,
            "visibility": null,
            "align_self": null,
            "height": null,
            "min_height": null,
            "padding": null,
            "grid_auto_rows": null,
            "grid_gap": null,
            "max_width": null,
            "order": null,
            "_view_module_version": "1.2.0",
            "grid_template_areas": null,
            "object_position": null,
            "object_fit": null,
            "grid_auto_columns": null,
            "margin": null,
            "display": null,
            "left": null
          }
        },
        "3eedd1372c1a46bda1bfbb7c2f09464d": {
          "model_module": "@jupyter-widgets/controls",
          "model_name": "DescriptionStyleModel",
          "state": {
            "_view_name": "StyleView",
            "_model_name": "DescriptionStyleModel",
            "description_width": "",
            "_view_module": "@jupyter-widgets/base",
            "_model_module_version": "1.5.0",
            "_view_count": null,
            "_view_module_version": "1.2.0",
            "_model_module": "@jupyter-widgets/controls"
          }
        },
        "fe0f02567de944f192d3b7ed6ecfc434": {
          "model_module": "@jupyter-widgets/base",
          "model_name": "LayoutModel",
          "state": {
            "_view_name": "LayoutView",
            "grid_template_rows": null,
            "right": null,
            "justify_content": null,
            "_view_module": "@jupyter-widgets/base",
            "overflow": null,
            "_model_module_version": "1.2.0",
            "_view_count": null,
            "flex_flow": null,
            "width": null,
            "min_width": null,
            "border": null,
            "align_items": null,
            "bottom": null,
            "_model_module": "@jupyter-widgets/base",
            "top": null,
            "grid_column": null,
            "overflow_y": null,
            "overflow_x": null,
            "grid_auto_flow": null,
            "grid_area": null,
            "grid_template_columns": null,
            "flex": null,
            "_model_name": "LayoutModel",
            "justify_items": null,
            "grid_row": null,
            "max_height": null,
            "align_content": null,
            "visibility": null,
            "align_self": null,
            "height": null,
            "min_height": null,
            "padding": null,
            "grid_auto_rows": null,
            "grid_gap": null,
            "max_width": null,
            "order": null,
            "_view_module_version": "1.2.0",
            "grid_template_areas": null,
            "object_position": null,
            "object_fit": null,
            "grid_auto_columns": null,
            "margin": null,
            "display": null,
            "left": null
          }
        },
        "cb4c8c85b080415c80b41be93d960403": {
          "model_module": "@jupyter-widgets/controls",
          "model_name": "HBoxModel",
          "state": {
            "_view_name": "HBoxView",
            "_dom_classes": [],
            "_model_name": "HBoxModel",
            "_view_module": "@jupyter-widgets/controls",
            "_model_module_version": "1.5.0",
            "_view_count": null,
            "_view_module_version": "1.5.0",
            "box_style": "",
            "layout": "IPY_MODEL_69bcbd4e249a4f55bc0be2643b7f81b0",
            "_model_module": "@jupyter-widgets/controls",
            "children": [
              "IPY_MODEL_144b9b7fd1614c268f5c3b79c612c09f",
              "IPY_MODEL_e6c9eae17d72423c97800e2c3ec83ab8"
            ]
          }
        },
        "69bcbd4e249a4f55bc0be2643b7f81b0": {
          "model_module": "@jupyter-widgets/base",
          "model_name": "LayoutModel",
          "state": {
            "_view_name": "LayoutView",
            "grid_template_rows": null,
            "right": null,
            "justify_content": null,
            "_view_module": "@jupyter-widgets/base",
            "overflow": null,
            "_model_module_version": "1.2.0",
            "_view_count": null,
            "flex_flow": null,
            "width": null,
            "min_width": null,
            "border": null,
            "align_items": null,
            "bottom": null,
            "_model_module": "@jupyter-widgets/base",
            "top": null,
            "grid_column": null,
            "overflow_y": null,
            "overflow_x": null,
            "grid_auto_flow": null,
            "grid_area": null,
            "grid_template_columns": null,
            "flex": null,
            "_model_name": "LayoutModel",
            "justify_items": null,
            "grid_row": null,
            "max_height": null,
            "align_content": null,
            "visibility": null,
            "align_self": null,
            "height": null,
            "min_height": null,
            "padding": null,
            "grid_auto_rows": null,
            "grid_gap": null,
            "max_width": null,
            "order": null,
            "_view_module_version": "1.2.0",
            "grid_template_areas": null,
            "object_position": null,
            "object_fit": null,
            "grid_auto_columns": null,
            "margin": null,
            "display": null,
            "left": null
          }
        },
        "144b9b7fd1614c268f5c3b79c612c09f": {
          "model_module": "@jupyter-widgets/controls",
          "model_name": "FloatProgressModel",
          "state": {
            "_view_name": "ProgressView",
            "style": "IPY_MODEL_03062345e7fa4b0484c53eec9bc385a1",
            "_dom_classes": [],
            "description": "100%",
            "_model_name": "FloatProgressModel",
            "bar_style": "success",
            "max": 3,
            "_view_module": "@jupyter-widgets/controls",
            "_model_module_version": "1.5.0",
            "value": 3,
            "_view_count": null,
            "_view_module_version": "1.5.0",
            "orientation": "horizontal",
            "min": 0,
            "description_tooltip": null,
            "_model_module": "@jupyter-widgets/controls",
            "layout": "IPY_MODEL_216ebb07d8f1469499dd8bb863047c55"
          }
        },
        "e6c9eae17d72423c97800e2c3ec83ab8": {
          "model_module": "@jupyter-widgets/controls",
          "model_name": "HTMLModel",
          "state": {
            "_view_name": "HTMLView",
            "style": "IPY_MODEL_853139c1849c4dc5a52733f405f900dc",
            "_dom_classes": [],
            "description": "",
            "_model_name": "HTMLModel",
            "placeholder": "​",
            "_view_module": "@jupyter-widgets/controls",
            "_model_module_version": "1.5.0",
            "value": " 3/3 [2:19:40&lt;00:00, 2793.52s/it]",
            "_view_count": null,
            "_view_module_version": "1.5.0",
            "description_tooltip": null,
            "_model_module": "@jupyter-widgets/controls",
            "layout": "IPY_MODEL_d4f2da2abc9e48e3a99c70b8fea055c3"
          }
        },
        "03062345e7fa4b0484c53eec9bc385a1": {
          "model_module": "@jupyter-widgets/controls",
          "model_name": "ProgressStyleModel",
          "state": {
            "_view_name": "StyleView",
            "_model_name": "ProgressStyleModel",
            "description_width": "initial",
            "_view_module": "@jupyter-widgets/base",
            "_model_module_version": "1.5.0",
            "_view_count": null,
            "_view_module_version": "1.2.0",
            "bar_color": null,
            "_model_module": "@jupyter-widgets/controls"
          }
        },
        "216ebb07d8f1469499dd8bb863047c55": {
          "model_module": "@jupyter-widgets/base",
          "model_name": "LayoutModel",
          "state": {
            "_view_name": "LayoutView",
            "grid_template_rows": null,
            "right": null,
            "justify_content": null,
            "_view_module": "@jupyter-widgets/base",
            "overflow": null,
            "_model_module_version": "1.2.0",
            "_view_count": null,
            "flex_flow": null,
            "width": null,
            "min_width": null,
            "border": null,
            "align_items": null,
            "bottom": null,
            "_model_module": "@jupyter-widgets/base",
            "top": null,
            "grid_column": null,
            "overflow_y": null,
            "overflow_x": null,
            "grid_auto_flow": null,
            "grid_area": null,
            "grid_template_columns": null,
            "flex": null,
            "_model_name": "LayoutModel",
            "justify_items": null,
            "grid_row": null,
            "max_height": null,
            "align_content": null,
            "visibility": null,
            "align_self": null,
            "height": null,
            "min_height": null,
            "padding": null,
            "grid_auto_rows": null,
            "grid_gap": null,
            "max_width": null,
            "order": null,
            "_view_module_version": "1.2.0",
            "grid_template_areas": null,
            "object_position": null,
            "object_fit": null,
            "grid_auto_columns": null,
            "margin": null,
            "display": null,
            "left": null
          }
        },
        "853139c1849c4dc5a52733f405f900dc": {
          "model_module": "@jupyter-widgets/controls",
          "model_name": "DescriptionStyleModel",
          "state": {
            "_view_name": "StyleView",
            "_model_name": "DescriptionStyleModel",
            "description_width": "",
            "_view_module": "@jupyter-widgets/base",
            "_model_module_version": "1.5.0",
            "_view_count": null,
            "_view_module_version": "1.2.0",
            "_model_module": "@jupyter-widgets/controls"
          }
        },
        "d4f2da2abc9e48e3a99c70b8fea055c3": {
          "model_module": "@jupyter-widgets/base",
          "model_name": "LayoutModel",
          "state": {
            "_view_name": "LayoutView",
            "grid_template_rows": null,
            "right": null,
            "justify_content": null,
            "_view_module": "@jupyter-widgets/base",
            "overflow": null,
            "_model_module_version": "1.2.0",
            "_view_count": null,
            "flex_flow": null,
            "width": null,
            "min_width": null,
            "border": null,
            "align_items": null,
            "bottom": null,
            "_model_module": "@jupyter-widgets/base",
            "top": null,
            "grid_column": null,
            "overflow_y": null,
            "overflow_x": null,
            "grid_auto_flow": null,
            "grid_area": null,
            "grid_template_columns": null,
            "flex": null,
            "_model_name": "LayoutModel",
            "justify_items": null,
            "grid_row": null,
            "max_height": null,
            "align_content": null,
            "visibility": null,
            "align_self": null,
            "height": null,
            "min_height": null,
            "padding": null,
            "grid_auto_rows": null,
            "grid_gap": null,
            "max_width": null,
            "order": null,
            "_view_module_version": "1.2.0",
            "grid_template_areas": null,
            "object_position": null,
            "object_fit": null,
            "grid_auto_columns": null,
            "margin": null,
            "display": null,
            "left": null
          }
        },
        "705eefbc2ecc4d178e7f1957779291c5": {
          "model_module": "@jupyter-widgets/controls",
          "model_name": "HBoxModel",
          "state": {
            "_view_name": "HBoxView",
            "_dom_classes": [],
            "_model_name": "HBoxModel",
            "_view_module": "@jupyter-widgets/controls",
            "_model_module_version": "1.5.0",
            "_view_count": null,
            "_view_module_version": "1.5.0",
            "box_style": "",
            "layout": "IPY_MODEL_615ba4661c144be8a67233c6221518be",
            "_model_module": "@jupyter-widgets/controls",
            "children": [
              "IPY_MODEL_95bbbb6322cb4ac6a4f7d04282a2571f",
              "IPY_MODEL_eff2ffcd66284d89b741a149a9570548"
            ]
          }
        },
        "615ba4661c144be8a67233c6221518be": {
          "model_module": "@jupyter-widgets/base",
          "model_name": "LayoutModel",
          "state": {
            "_view_name": "LayoutView",
            "grid_template_rows": null,
            "right": null,
            "justify_content": null,
            "_view_module": "@jupyter-widgets/base",
            "overflow": null,
            "_model_module_version": "1.2.0",
            "_view_count": null,
            "flex_flow": null,
            "width": null,
            "min_width": null,
            "border": null,
            "align_items": null,
            "bottom": null,
            "_model_module": "@jupyter-widgets/base",
            "top": null,
            "grid_column": null,
            "overflow_y": null,
            "overflow_x": null,
            "grid_auto_flow": null,
            "grid_area": null,
            "grid_template_columns": null,
            "flex": null,
            "_model_name": "LayoutModel",
            "justify_items": null,
            "grid_row": null,
            "max_height": null,
            "align_content": null,
            "visibility": null,
            "align_self": null,
            "height": null,
            "min_height": null,
            "padding": null,
            "grid_auto_rows": null,
            "grid_gap": null,
            "max_width": null,
            "order": null,
            "_view_module_version": "1.2.0",
            "grid_template_areas": null,
            "object_position": null,
            "object_fit": null,
            "grid_auto_columns": null,
            "margin": null,
            "display": null,
            "left": null
          }
        },
        "95bbbb6322cb4ac6a4f7d04282a2571f": {
          "model_module": "@jupyter-widgets/controls",
          "model_name": "FloatProgressModel",
          "state": {
            "_view_name": "ProgressView",
            "style": "IPY_MODEL_566ed5a0df90445683e6bd6cac352c26",
            "_dom_classes": [],
            "description": "Epoch 1: 100%",
            "_model_name": "FloatProgressModel",
            "bar_style": "",
            "max": 1595,
            "_view_module": "@jupyter-widgets/controls",
            "_model_module_version": "1.5.0",
            "value": 1595,
            "_view_count": null,
            "_view_module_version": "1.5.0",
            "orientation": "horizontal",
            "min": 0,
            "description_tooltip": null,
            "_model_module": "@jupyter-widgets/controls",
            "layout": "IPY_MODEL_f02754d36be5415d90c87d17ffbce438"
          }
        },
        "eff2ffcd66284d89b741a149a9570548": {
          "model_module": "@jupyter-widgets/controls",
          "model_name": "HTMLModel",
          "state": {
            "_view_name": "HTMLView",
            "style": "IPY_MODEL_3b3c2288da3f4e7bb66922fcd590a2b2",
            "_dom_classes": [],
            "description": "",
            "_model_name": "HTMLModel",
            "placeholder": "​",
            "_view_module": "@jupyter-widgets/controls",
            "_model_module_version": "1.5.0",
            "value": " 1595/1595 [41:44&lt;00:00,  1.35s/it, training_loss=0.018]",
            "_view_count": null,
            "_view_module_version": "1.5.0",
            "description_tooltip": null,
            "_model_module": "@jupyter-widgets/controls",
            "layout": "IPY_MODEL_2a57191a967f40b5b1760bd322834fc5"
          }
        },
        "566ed5a0df90445683e6bd6cac352c26": {
          "model_module": "@jupyter-widgets/controls",
          "model_name": "ProgressStyleModel",
          "state": {
            "_view_name": "StyleView",
            "_model_name": "ProgressStyleModel",
            "description_width": "initial",
            "_view_module": "@jupyter-widgets/base",
            "_model_module_version": "1.5.0",
            "_view_count": null,
            "_view_module_version": "1.2.0",
            "bar_color": null,
            "_model_module": "@jupyter-widgets/controls"
          }
        },
        "f02754d36be5415d90c87d17ffbce438": {
          "model_module": "@jupyter-widgets/base",
          "model_name": "LayoutModel",
          "state": {
            "_view_name": "LayoutView",
            "grid_template_rows": null,
            "right": null,
            "justify_content": null,
            "_view_module": "@jupyter-widgets/base",
            "overflow": null,
            "_model_module_version": "1.2.0",
            "_view_count": null,
            "flex_flow": null,
            "width": null,
            "min_width": null,
            "border": null,
            "align_items": null,
            "bottom": null,
            "_model_module": "@jupyter-widgets/base",
            "top": null,
            "grid_column": null,
            "overflow_y": null,
            "overflow_x": null,
            "grid_auto_flow": null,
            "grid_area": null,
            "grid_template_columns": null,
            "flex": null,
            "_model_name": "LayoutModel",
            "justify_items": null,
            "grid_row": null,
            "max_height": null,
            "align_content": null,
            "visibility": null,
            "align_self": null,
            "height": null,
            "min_height": null,
            "padding": null,
            "grid_auto_rows": null,
            "grid_gap": null,
            "max_width": null,
            "order": null,
            "_view_module_version": "1.2.0",
            "grid_template_areas": null,
            "object_position": null,
            "object_fit": null,
            "grid_auto_columns": null,
            "margin": null,
            "display": null,
            "left": null
          }
        },
        "3b3c2288da3f4e7bb66922fcd590a2b2": {
          "model_module": "@jupyter-widgets/controls",
          "model_name": "DescriptionStyleModel",
          "state": {
            "_view_name": "StyleView",
            "_model_name": "DescriptionStyleModel",
            "description_width": "",
            "_view_module": "@jupyter-widgets/base",
            "_model_module_version": "1.5.0",
            "_view_count": null,
            "_view_module_version": "1.2.0",
            "_model_module": "@jupyter-widgets/controls"
          }
        },
        "2a57191a967f40b5b1760bd322834fc5": {
          "model_module": "@jupyter-widgets/base",
          "model_name": "LayoutModel",
          "state": {
            "_view_name": "LayoutView",
            "grid_template_rows": null,
            "right": null,
            "justify_content": null,
            "_view_module": "@jupyter-widgets/base",
            "overflow": null,
            "_model_module_version": "1.2.0",
            "_view_count": null,
            "flex_flow": null,
            "width": null,
            "min_width": null,
            "border": null,
            "align_items": null,
            "bottom": null,
            "_model_module": "@jupyter-widgets/base",
            "top": null,
            "grid_column": null,
            "overflow_y": null,
            "overflow_x": null,
            "grid_auto_flow": null,
            "grid_area": null,
            "grid_template_columns": null,
            "flex": null,
            "_model_name": "LayoutModel",
            "justify_items": null,
            "grid_row": null,
            "max_height": null,
            "align_content": null,
            "visibility": null,
            "align_self": null,
            "height": null,
            "min_height": null,
            "padding": null,
            "grid_auto_rows": null,
            "grid_gap": null,
            "max_width": null,
            "order": null,
            "_view_module_version": "1.2.0",
            "grid_template_areas": null,
            "object_position": null,
            "object_fit": null,
            "grid_auto_columns": null,
            "margin": null,
            "display": null,
            "left": null
          }
        },
        "acf1b07f4fef469c9d2899538d8f78c9": {
          "model_module": "@jupyter-widgets/controls",
          "model_name": "HBoxModel",
          "state": {
            "_view_name": "HBoxView",
            "_dom_classes": [],
            "_model_name": "HBoxModel",
            "_view_module": "@jupyter-widgets/controls",
            "_model_module_version": "1.5.0",
            "_view_count": null,
            "_view_module_version": "1.5.0",
            "box_style": "",
            "layout": "IPY_MODEL_9c588c474ee145e8a2147c32deb18880",
            "_model_module": "@jupyter-widgets/controls",
            "children": [
              "IPY_MODEL_b40b1e299a4a42a985af15403ad1fc0a",
              "IPY_MODEL_fa34682f407b48089692f5d53a650a0f"
            ]
          }
        },
        "9c588c474ee145e8a2147c32deb18880": {
          "model_module": "@jupyter-widgets/base",
          "model_name": "LayoutModel",
          "state": {
            "_view_name": "LayoutView",
            "grid_template_rows": null,
            "right": null,
            "justify_content": null,
            "_view_module": "@jupyter-widgets/base",
            "overflow": null,
            "_model_module_version": "1.2.0",
            "_view_count": null,
            "flex_flow": null,
            "width": null,
            "min_width": null,
            "border": null,
            "align_items": null,
            "bottom": null,
            "_model_module": "@jupyter-widgets/base",
            "top": null,
            "grid_column": null,
            "overflow_y": null,
            "overflow_x": null,
            "grid_auto_flow": null,
            "grid_area": null,
            "grid_template_columns": null,
            "flex": null,
            "_model_name": "LayoutModel",
            "justify_items": null,
            "grid_row": null,
            "max_height": null,
            "align_content": null,
            "visibility": null,
            "align_self": null,
            "height": null,
            "min_height": null,
            "padding": null,
            "grid_auto_rows": null,
            "grid_gap": null,
            "max_width": null,
            "order": null,
            "_view_module_version": "1.2.0",
            "grid_template_areas": null,
            "object_position": null,
            "object_fit": null,
            "grid_auto_columns": null,
            "margin": null,
            "display": null,
            "left": null
          }
        },
        "b40b1e299a4a42a985af15403ad1fc0a": {
          "model_module": "@jupyter-widgets/controls",
          "model_name": "FloatProgressModel",
          "state": {
            "_view_name": "ProgressView",
            "style": "IPY_MODEL_ba07b722993d4413821f78bf7956751b",
            "_dom_classes": [],
            "description": "Epoch 2: 100%",
            "_model_name": "FloatProgressModel",
            "bar_style": "",
            "max": 1595,
            "_view_module": "@jupyter-widgets/controls",
            "_model_module_version": "1.5.0",
            "value": 1595,
            "_view_count": null,
            "_view_module_version": "1.5.0",
            "orientation": "horizontal",
            "min": 0,
            "description_tooltip": null,
            "_model_module": "@jupyter-widgets/controls",
            "layout": "IPY_MODEL_58dac8fb7f2042c3800f765af8c0ea8e"
          }
        },
        "fa34682f407b48089692f5d53a650a0f": {
          "model_module": "@jupyter-widgets/controls",
          "model_name": "HTMLModel",
          "state": {
            "_view_name": "HTMLView",
            "style": "IPY_MODEL_60ca5bcbd181420ca6fbf8244ec84b96",
            "_dom_classes": [],
            "description": "",
            "_model_name": "HTMLModel",
            "placeholder": "​",
            "_view_module": "@jupyter-widgets/controls",
            "_model_module_version": "1.5.0",
            "value": " 1595/1595 [41:47&lt;00:00,  1.35s/it, training_loss=0.002]",
            "_view_count": null,
            "_view_module_version": "1.5.0",
            "description_tooltip": null,
            "_model_module": "@jupyter-widgets/controls",
            "layout": "IPY_MODEL_f4530f57714344668fea4c61f169c8a1"
          }
        },
        "ba07b722993d4413821f78bf7956751b": {
          "model_module": "@jupyter-widgets/controls",
          "model_name": "ProgressStyleModel",
          "state": {
            "_view_name": "StyleView",
            "_model_name": "ProgressStyleModel",
            "description_width": "initial",
            "_view_module": "@jupyter-widgets/base",
            "_model_module_version": "1.5.0",
            "_view_count": null,
            "_view_module_version": "1.2.0",
            "bar_color": null,
            "_model_module": "@jupyter-widgets/controls"
          }
        },
        "58dac8fb7f2042c3800f765af8c0ea8e": {
          "model_module": "@jupyter-widgets/base",
          "model_name": "LayoutModel",
          "state": {
            "_view_name": "LayoutView",
            "grid_template_rows": null,
            "right": null,
            "justify_content": null,
            "_view_module": "@jupyter-widgets/base",
            "overflow": null,
            "_model_module_version": "1.2.0",
            "_view_count": null,
            "flex_flow": null,
            "width": null,
            "min_width": null,
            "border": null,
            "align_items": null,
            "bottom": null,
            "_model_module": "@jupyter-widgets/base",
            "top": null,
            "grid_column": null,
            "overflow_y": null,
            "overflow_x": null,
            "grid_auto_flow": null,
            "grid_area": null,
            "grid_template_columns": null,
            "flex": null,
            "_model_name": "LayoutModel",
            "justify_items": null,
            "grid_row": null,
            "max_height": null,
            "align_content": null,
            "visibility": null,
            "align_self": null,
            "height": null,
            "min_height": null,
            "padding": null,
            "grid_auto_rows": null,
            "grid_gap": null,
            "max_width": null,
            "order": null,
            "_view_module_version": "1.2.0",
            "grid_template_areas": null,
            "object_position": null,
            "object_fit": null,
            "grid_auto_columns": null,
            "margin": null,
            "display": null,
            "left": null
          }
        },
        "60ca5bcbd181420ca6fbf8244ec84b96": {
          "model_module": "@jupyter-widgets/controls",
          "model_name": "DescriptionStyleModel",
          "state": {
            "_view_name": "StyleView",
            "_model_name": "DescriptionStyleModel",
            "description_width": "",
            "_view_module": "@jupyter-widgets/base",
            "_model_module_version": "1.5.0",
            "_view_count": null,
            "_view_module_version": "1.2.0",
            "_model_module": "@jupyter-widgets/controls"
          }
        },
        "f4530f57714344668fea4c61f169c8a1": {
          "model_module": "@jupyter-widgets/base",
          "model_name": "LayoutModel",
          "state": {
            "_view_name": "LayoutView",
            "grid_template_rows": null,
            "right": null,
            "justify_content": null,
            "_view_module": "@jupyter-widgets/base",
            "overflow": null,
            "_model_module_version": "1.2.0",
            "_view_count": null,
            "flex_flow": null,
            "width": null,
            "min_width": null,
            "border": null,
            "align_items": null,
            "bottom": null,
            "_model_module": "@jupyter-widgets/base",
            "top": null,
            "grid_column": null,
            "overflow_y": null,
            "overflow_x": null,
            "grid_auto_flow": null,
            "grid_area": null,
            "grid_template_columns": null,
            "flex": null,
            "_model_name": "LayoutModel",
            "justify_items": null,
            "grid_row": null,
            "max_height": null,
            "align_content": null,
            "visibility": null,
            "align_self": null,
            "height": null,
            "min_height": null,
            "padding": null,
            "grid_auto_rows": null,
            "grid_gap": null,
            "max_width": null,
            "order": null,
            "_view_module_version": "1.2.0",
            "grid_template_areas": null,
            "object_position": null,
            "object_fit": null,
            "grid_auto_columns": null,
            "margin": null,
            "display": null,
            "left": null
          }
        },
        "50a03baae476412b901006469580f189": {
          "model_module": "@jupyter-widgets/controls",
          "model_name": "HBoxModel",
          "state": {
            "_view_name": "HBoxView",
            "_dom_classes": [],
            "_model_name": "HBoxModel",
            "_view_module": "@jupyter-widgets/controls",
            "_model_module_version": "1.5.0",
            "_view_count": null,
            "_view_module_version": "1.5.0",
            "box_style": "",
            "layout": "IPY_MODEL_ebf65ade7979439192f36bbe1013a70e",
            "_model_module": "@jupyter-widgets/controls",
            "children": [
              "IPY_MODEL_dce7ba918d5047e8a9108ee029a0a1b2",
              "IPY_MODEL_51be4af4083c42bcb757c76ba97c15a8"
            ]
          }
        },
        "ebf65ade7979439192f36bbe1013a70e": {
          "model_module": "@jupyter-widgets/base",
          "model_name": "LayoutModel",
          "state": {
            "_view_name": "LayoutView",
            "grid_template_rows": null,
            "right": null,
            "justify_content": null,
            "_view_module": "@jupyter-widgets/base",
            "overflow": null,
            "_model_module_version": "1.2.0",
            "_view_count": null,
            "flex_flow": null,
            "width": null,
            "min_width": null,
            "border": null,
            "align_items": null,
            "bottom": null,
            "_model_module": "@jupyter-widgets/base",
            "top": null,
            "grid_column": null,
            "overflow_y": null,
            "overflow_x": null,
            "grid_auto_flow": null,
            "grid_area": null,
            "grid_template_columns": null,
            "flex": null,
            "_model_name": "LayoutModel",
            "justify_items": null,
            "grid_row": null,
            "max_height": null,
            "align_content": null,
            "visibility": null,
            "align_self": null,
            "height": null,
            "min_height": null,
            "padding": null,
            "grid_auto_rows": null,
            "grid_gap": null,
            "max_width": null,
            "order": null,
            "_view_module_version": "1.2.0",
            "grid_template_areas": null,
            "object_position": null,
            "object_fit": null,
            "grid_auto_columns": null,
            "margin": null,
            "display": null,
            "left": null
          }
        },
        "dce7ba918d5047e8a9108ee029a0a1b2": {
          "model_module": "@jupyter-widgets/controls",
          "model_name": "FloatProgressModel",
          "state": {
            "_view_name": "ProgressView",
            "style": "IPY_MODEL_1223dada7199489195e89e90aa7ac6f3",
            "_dom_classes": [],
            "description": "Epoch 3: 100%",
            "_model_name": "FloatProgressModel",
            "bar_style": "",
            "max": 1595,
            "_view_module": "@jupyter-widgets/controls",
            "_model_module_version": "1.5.0",
            "value": 1595,
            "_view_count": null,
            "_view_module_version": "1.5.0",
            "orientation": "horizontal",
            "min": 0,
            "description_tooltip": null,
            "_model_module": "@jupyter-widgets/controls",
            "layout": "IPY_MODEL_9e9698518f0a475293c3245a7695bd58"
          }
        },
        "51be4af4083c42bcb757c76ba97c15a8": {
          "model_module": "@jupyter-widgets/controls",
          "model_name": "HTMLModel",
          "state": {
            "_view_name": "HTMLView",
            "style": "IPY_MODEL_264a0fc5901646599fe5b2f6e083c894",
            "_dom_classes": [],
            "description": "",
            "_model_name": "HTMLModel",
            "placeholder": "​",
            "_view_module": "@jupyter-widgets/controls",
            "_model_module_version": "1.5.0",
            "value": " 1595/1595 [41:46&lt;00:00,  1.35s/it, training_loss=0.002]",
            "_view_count": null,
            "_view_module_version": "1.5.0",
            "description_tooltip": null,
            "_model_module": "@jupyter-widgets/controls",
            "layout": "IPY_MODEL_0a4e2fad0f374f69a2908a6846dbccde"
          }
        },
        "1223dada7199489195e89e90aa7ac6f3": {
          "model_module": "@jupyter-widgets/controls",
          "model_name": "ProgressStyleModel",
          "state": {
            "_view_name": "StyleView",
            "_model_name": "ProgressStyleModel",
            "description_width": "initial",
            "_view_module": "@jupyter-widgets/base",
            "_model_module_version": "1.5.0",
            "_view_count": null,
            "_view_module_version": "1.2.0",
            "bar_color": null,
            "_model_module": "@jupyter-widgets/controls"
          }
        },
        "9e9698518f0a475293c3245a7695bd58": {
          "model_module": "@jupyter-widgets/base",
          "model_name": "LayoutModel",
          "state": {
            "_view_name": "LayoutView",
            "grid_template_rows": null,
            "right": null,
            "justify_content": null,
            "_view_module": "@jupyter-widgets/base",
            "overflow": null,
            "_model_module_version": "1.2.0",
            "_view_count": null,
            "flex_flow": null,
            "width": null,
            "min_width": null,
            "border": null,
            "align_items": null,
            "bottom": null,
            "_model_module": "@jupyter-widgets/base",
            "top": null,
            "grid_column": null,
            "overflow_y": null,
            "overflow_x": null,
            "grid_auto_flow": null,
            "grid_area": null,
            "grid_template_columns": null,
            "flex": null,
            "_model_name": "LayoutModel",
            "justify_items": null,
            "grid_row": null,
            "max_height": null,
            "align_content": null,
            "visibility": null,
            "align_self": null,
            "height": null,
            "min_height": null,
            "padding": null,
            "grid_auto_rows": null,
            "grid_gap": null,
            "max_width": null,
            "order": null,
            "_view_module_version": "1.2.0",
            "grid_template_areas": null,
            "object_position": null,
            "object_fit": null,
            "grid_auto_columns": null,
            "margin": null,
            "display": null,
            "left": null
          }
        },
        "264a0fc5901646599fe5b2f6e083c894": {
          "model_module": "@jupyter-widgets/controls",
          "model_name": "DescriptionStyleModel",
          "state": {
            "_view_name": "StyleView",
            "_model_name": "DescriptionStyleModel",
            "description_width": "",
            "_view_module": "@jupyter-widgets/base",
            "_model_module_version": "1.5.0",
            "_view_count": null,
            "_view_module_version": "1.2.0",
            "_model_module": "@jupyter-widgets/controls"
          }
        },
        "0a4e2fad0f374f69a2908a6846dbccde": {
          "model_module": "@jupyter-widgets/base",
          "model_name": "LayoutModel",
          "state": {
            "_view_name": "LayoutView",
            "grid_template_rows": null,
            "right": null,
            "justify_content": null,
            "_view_module": "@jupyter-widgets/base",
            "overflow": null,
            "_model_module_version": "1.2.0",
            "_view_count": null,
            "flex_flow": null,
            "width": null,
            "min_width": null,
            "border": null,
            "align_items": null,
            "bottom": null,
            "_model_module": "@jupyter-widgets/base",
            "top": null,
            "grid_column": null,
            "overflow_y": null,
            "overflow_x": null,
            "grid_auto_flow": null,
            "grid_area": null,
            "grid_template_columns": null,
            "flex": null,
            "_model_name": "LayoutModel",
            "justify_items": null,
            "grid_row": null,
            "max_height": null,
            "align_content": null,
            "visibility": null,
            "align_self": null,
            "height": null,
            "min_height": null,
            "padding": null,
            "grid_auto_rows": null,
            "grid_gap": null,
            "max_width": null,
            "order": null,
            "_view_module_version": "1.2.0",
            "grid_template_areas": null,
            "object_position": null,
            "object_fit": null,
            "grid_auto_columns": null,
            "margin": null,
            "display": null,
            "left": null
          }
        }
      }
    },
    "accelerator": "GPU"
  },
  "cells": [
    {
      "cell_type": "markdown",
      "metadata": {
        "id": "Zd1LFgD4ogWB"
      },
      "source": [
        "# Text Mining 2020/1 - Practical Project\n",
        "\n",
        "This is a notebook for the practical project in the context of the Text Mining subject, taught by the professors Vinicius Borges and Thiago Faleiros at the University of Brasília, in 2020/1 semester.\n",
        "\n",
        "The goal for the first part is to do some preprocessing in the selected dataset."
      ]
    },
    {
      "cell_type": "markdown",
      "metadata": {
        "id": "5u_BLPEigFSz"
      },
      "source": [
        "As long as the file is large, is more practical use the Drive mount in Colab."
      ]
    },
    {
      "cell_type": "code",
      "metadata": {
        "colab": {
          "base_uri": "https://localhost:8080/"
        },
        "id": "gHJIpZo1lIdy",
        "outputId": "1d39fd34-c6f5-4517-d5ec-bebd8b0682e2"
      },
      "source": [
        "from google.colab import drive\n",
        "drive.mount('/content/drive')"
      ],
      "execution_count": null,
      "outputs": [
        {
          "output_type": "stream",
          "text": [
            "Mounted at /content/drive\n"
          ],
          "name": "stdout"
        }
      ]
    },
    {
      "cell_type": "markdown",
      "metadata": {
        "id": "IXewSf15ogWE"
      },
      "source": [
        "### Packages Import"
      ]
    },
    {
      "cell_type": "markdown",
      "metadata": {
        "id": "Arx4HWMA5IOf"
      },
      "source": [
        "The first two packages we'll need are Pandas, for deal with CSV files, and Pickle, for manage pickle files."
      ]
    },
    {
      "cell_type": "code",
      "metadata": {
        "id": "HMXkj4FnogWG"
      },
      "source": [
        "import pandas as pd\n",
        "import pickle as pkl"
      ],
      "execution_count": null,
      "outputs": []
    },
    {
      "cell_type": "markdown",
      "metadata": {
        "id": "gu_f57fMogWN"
      },
      "source": [
        "## Getting the data\n"
      ]
    },
    {
      "cell_type": "markdown",
      "metadata": {
        "id": "1zffoL3ViDiG"
      },
      "source": [
        "First of all, we have to read the pickle file. We use the function `read_pickle`, from the Pandas lib."
      ]
    },
    {
      "cell_type": "code",
      "metadata": {
        "id": "voRnoz4KcSbW"
      },
      "source": [
        "data = pd.read_pickle(r'/content/drive/MyDrive/Mineracao_Texto/discursos_raw_all.pickle')"
      ],
      "execution_count": null,
      "outputs": []
    },
    {
      "cell_type": "markdown",
      "metadata": {
        "id": "NUHtgQy_iWhq"
      },
      "source": [
        "The data is composed of political speeches, gathered from the open-data initiative from the Brazilian Senate. The pickle file is composed of a list of nested dict structures. `'IdentificacaoParlamentar'`, `'IdentificacaoPronunciamento'`, `'Conteudo'` are the main keys of each entry."
      ]
    },
    {
      "cell_type": "code",
      "metadata": {
        "colab": {
          "base_uri": "https://localhost:8080/"
        },
        "id": "ej1NkUyxccHL",
        "outputId": "1260cf54-6e67-40c3-acc2-53b5e4add61a"
      },
      "source": [
        "len(data)"
      ],
      "execution_count": null,
      "outputs": [
        {
          "output_type": "execute_result",
          "data": {
            "text/plain": [
              "74981"
            ]
          },
          "metadata": {
            "tags": []
          },
          "execution_count": 3
        }
      ]
    },
    {
      "cell_type": "code",
      "metadata": {
        "colab": {
          "base_uri": "https://localhost:8080/"
        },
        "id": "VVIIbB9ze_I1",
        "outputId": "c48b1f3b-15ac-433a-ded2-d056f9264fe1"
      },
      "source": [
        "data[2].keys()"
      ],
      "execution_count": null,
      "outputs": [
        {
          "output_type": "execute_result",
          "data": {
            "text/plain": [
              "dict_keys(['IdentificacaoParlamentar', 'IdentificacaoPronunciamento', 'Conteudo'])"
            ]
          },
          "metadata": {
            "tags": []
          },
          "execution_count": 10
        }
      ]
    },
    {
      "cell_type": "markdown",
      "metadata": {
        "id": "b4Qc0qgBjJi_"
      },
      "source": [
        "`'IdentificacaoParlamentar'` is simple a dict:"
      ]
    },
    {
      "cell_type": "code",
      "metadata": {
        "colab": {
          "base_uri": "https://localhost:8080/"
        },
        "id": "RQLPIT-Ni-qN",
        "outputId": "338e6cc5-5204-4b9d-f08a-c115c5a47303"
      },
      "source": [
        "data[2]['IdentificacaoParlamentar']"
      ],
      "execution_count": null,
      "outputs": [
        {
          "output_type": "execute_result",
          "data": {
            "text/plain": [
              "{'CodigoParlamentar': '4531',\n",
              " 'CodigoPublicoNaLegAtual': '837',\n",
              " 'EmailParlamentar': 'Sen.JaymeCampos@senado.leg.br',\n",
              " 'FormaTratamento': 'Senador ',\n",
              " 'NomeCompletoParlamentar': 'Jayme Veríssimo de Campos',\n",
              " 'NomeParlamentar': 'Jayme Campos',\n",
              " 'SexoParlamentar': 'Masculino',\n",
              " 'SiglaPartidoParlamentar': 'DEM',\n",
              " 'UfParlamentar': 'MT',\n",
              " 'UrlFotoParlamentar': 'http://www.senado.leg.br/senadores/img/fotos-oficiais/senador4531.jpg',\n",
              " 'UrlPaginaParlamentar': 'http://www25.senado.leg.br/web/senadores/senador/-/perfil/4531'}"
            ]
          },
          "metadata": {
            "tags": []
          },
          "execution_count": 15
        }
      ]
    },
    {
      "cell_type": "markdown",
      "metadata": {
        "id": "laW7AYdfja9G"
      },
      "source": [
        "`'IdentificacaoPronunciamento'` is a dict with some keys that also are dicts."
      ]
    },
    {
      "cell_type": "code",
      "metadata": {
        "colab": {
          "base_uri": "https://localhost:8080/"
        },
        "id": "WgbjSsefjDt8",
        "outputId": "e424e327-d236-4e30-c9f7-7606760729bb"
      },
      "source": [
        "data[2]['IdentificacaoPronunciamento']"
      ],
      "execution_count": null,
      "outputs": [
        {
          "output_type": "execute_result",
          "data": {
            "text/plain": [
              "{'CodigoPronunciamento': '410003',\n",
              " 'DataPronunciamento': '2014-11-18',\n",
              " 'Indexacao': 'SOLICITAÇÃO, APROVAÇÃO, CAMARA DOS DEPUTADOS, PROJETO DE LEI, AUTORIA, ORADOR, ASSUNTO, CRIAÇÃO, FUNDO NACIONAL, AUXILIO, MULHER, VITIMA, VIOLENCIA DOMESTICA.',\n",
              " 'NomeCasaPronunciamento': 'Senado Federal',\n",
              " 'Publicacoes': {'Publicacao': {'DataPublicacao': '2014-11-19',\n",
              "   'DescricaoVeiculoPublicacao': 'DSF',\n",
              "   'IndicadorRepublicacao': 'Não',\n",
              "   'NumeroPagFimPublicacao': '237',\n",
              "   'NumeroPagInicioPublicacao': '236',\n",
              "   'UrlDiario': 'http://legis.senado.leg.br/diarios/BuscaDiario?tipDiario=1&datDiario=19/11/2014&paginaDireta=236'}},\n",
              " 'SenadorId': '4531',\n",
              " 'SessaoPlenaria': {'CodigoSessao': '21959',\n",
              "  'CodigoSessaoLegislativa': '849',\n",
              "  'DataSessao': '2014-11-18',\n",
              "  'HoraInicioSessao': '14:00:00',\n",
              "  'NomeCasaSessao': 'Senado Federal',\n",
              "  'NumeroSessao': '169',\n",
              "  'SiglaCasaSessao': 'SF',\n",
              "  'SiglaTipoSessao': 'DOR'},\n",
              " 'SiglaCasaPronunciamento': 'SF',\n",
              " 'SiglaPartidoParlamentarNaData': 'DEM',\n",
              " 'TextoResumo': '\\n      Apelo no sentido da aprovação, pela Câmara dos Deputados, de projeto de autoria de S. Exª que cria o Fundo Nacional de Amparo a Mulheres Agredidas.',\n",
              " 'TipoUsoPalavra': {'Codigo': '4819',\n",
              "  'Descricao': 'Discurso',\n",
              "  'IndicadorAtivo': 'Sim',\n",
              "  'Sigla': 'DIS'},\n",
              " 'UfParlamentarNaData': 'MT',\n",
              " 'UrlTexto': 'http://www25.senado.leg.br/web/atividade/pronunciamentos/-/p/texto/410003',\n",
              " 'UrlTextoBinario': 'http://www.senado.leg.br/atividade/rotinas/pronunciamento/getDocumento.asp?t=410003'}"
            ]
          },
          "metadata": {
            "tags": []
          },
          "execution_count": 16
        }
      ]
    },
    {
      "cell_type": "markdown",
      "metadata": {
        "id": "WecsDAR-jh4X"
      },
      "source": [
        "`'Conteudo'` is the discourse itself:"
      ]
    },
    {
      "cell_type": "code",
      "metadata": {
        "colab": {
          "base_uri": "https://localhost:8080/",
          "height": 143
        },
        "id": "irKxv23GfIxV",
        "outputId": "196de253-05be-4f15-af70-ec7faf7223fb"
      },
      "source": [
        "data[2]['Conteudo']"
      ],
      "execution_count": null,
      "outputs": [
        {
          "output_type": "execute_result",
          "data": {
            "application/vnd.google.colaboratory.intrinsic+json": {
              "type": "string"
            },
            "text/plain": [
              "'O SR. JAYME CAMPOS (Bloco Minoria/DEM - MT. Pronuncia o seguinte discurso. Sem revisão do orador.) - Sr. Presidente, Srªs e Srs. Senadores, na manhã de hoje, a Rede Record de televisão veiculou importantíssima reportagem acerca da violência doméstica, denunciando, mais uma vez, a trágica situação em que vivem hoje milhares de mulheres brasileiras, que, reféns da submissão imposta pela dependência financeira, seguem como vítimas caladas, sofrendo toda sorte de agressões e violências. \\xa0\\xa0\\xa0\\xa0\\xa0\\xa0\\xa0\\xa0\\xa0\\xa0\\xa0\\xa0Mesmo contando com a Lei Maria da Penha, diploma potencialmente eficaz na punição de seus agressores, muitas dessas mulheres continuam amarradas aos grilhões do sofrimento, por não terem autonomia financeira, nem capacitação profissional que lhes permita custear seu sustento longe de seus algozes. \\xa0\\xa0\\xa0\\xa0\\xa0\\xa0\\xa0\\xa0\\xa0\\xa0\\xa0\\xa0Assim, para que o Estado venha a oferecer efetiva garantia de proteção a esse grande número de mulheres agredidas, é imperioso instituir políticas públicas que as libertem do risco de desamparo econômico. \\xa0\\xa0\\xa0\\xa0\\xa0\\xa0\\xa0\\xa0\\xa0\\xa0\\xa0\\xa0Por isso, em abril de 2012, apresentei a esta Casa o PLS 109, que cria o Fundo Nacional de Amparo a Mulheres Agredidas, destinado a financiar ajuda pecuniária e treinamento profissional a mulheres que, em razão da violência doméstica, se separaram de seus cônjuges ou companheiros. A ajuda pecuniária prevista é de pelo menos R$622,00, devendo ser paga durante 12 meses consecutivos. Já o treinamento tem o objetivo de facilitar a recolocação das mulheres no mercado de trabalho. Indicamos, inclusive, as fontes de custeio para tudo isso. \\xa0\\xa0\\xa0\\xa0\\xa0\\xa0\\xa0\\xa0\\xa0\\xa0\\xa0\\xa0Ocorre, Sr. Presidente, que esse promissor projeto, de nossa autoria, se encontra literalmente parado na Câmara dos Deputados, há um ano e sete meses! \\xa0\\xa0\\xa0\\xa0\\xa0\\xa0\\xa0\\xa0\\xa0\\xa0\\xa0\\xa0Enquanto o Senado o discutiu em duas comissões em menos de oito meses, aprovando-o terminativamente no final de 2012, a Câmara, que recebeu o autógrafo no começo do ano passado, permanece até hoje silente. \\xa0\\xa0\\xa0\\xa0\\xa0\\xa0\\xa0\\xa0\\xa0\\xa0\\xa0\\xa0Enquanto isso, a cada duas horas, uma mulher é assassinada no Brasil. \\xa0\\xa0\\xa0\\xa0\\xa0\\xa0\\xa0\\xa0\\xa0\\xa0\\xa0\\xa0Enquanto isso, segundo dados do Ministério da Justiça, só este ano, o serviço 0800 da Central de Atendimento à Mulher recebeu mais de 30 mil denúncias de violência.  \\xa0\\xa0\\xa0\\xa0\\xa0\\xa0\\xa0\\xa0\\xa0\\xa0\\xa0\\xa0Enquanto isso, a Deputada Erika Kokay, do PT do Distrito Federal, nomeada relatora na Comissão de Seguridade Social e Família, parece displicentemente esquecida de preparar e apresentar seu relatório àquele Colegiado, para que a matéria possa seguir sua tramitação. \\xa0\\xa0\\xa0\\xa0\\xa0\\xa0\\xa0\\xa0\\xa0\\xa0\\xa0\\xa0A reportagem a que me referi, Srªs e Srs. Senadores, levada ao ar na manhã de hoje, procurou a ilustre relatora. A infeliz explicação da Deputada baseou-se numa suposta tentativa de, segundo ela, aprimorar o projeto. \\xa0\\xa0\\xa0\\xa0\\xa0\\xa0\\xa0\\xa0\\xa0\\xa0\\xa0\\xa0Ora, mesmo diante da melhor das intenções, ainda que tardia, no sentido de aperfeiçoar a proposição, sabemos que as alterações eventualmente aprovadas pela Câmara farão com que a matéria retorne à Casa de origem, ou seja, aqui ao Senado Federal, o que significa protelar ainda mais sua aprovação. \\xa0\\xa0\\xa0\\xa0\\xa0\\xa0\\xa0\\xa0\\xa0\\xa0\\xa0\\xa0O que faço aqui é um apelo ao bom senso. Faço-o em nome, meu caro Capiberibe, da urgência em se ver solucionado o atual quadro de espancamentos e assassinatos de mulheres, agravado por essa perversa espera. \\xa0\\xa0\\xa0\\xa0\\xa0\\xa0\\xa0\\xa0\\xa0\\xa0\\xa0\\xa0Tenho a certeza de que a Presidente da República sancionará nossa proposta logo que a Câmara conclua a tramitação. \\xa0\\xa0\\xa0\\xa0\\xa0\\xa0\\xa0\\xa0\\xa0\\xa0\\xa0\\xa0Tenho a certeza, Sr. Presidente, de que a Chefe do Executivo, na qualidade de mulher e de estadista, não se furtará ao dever de propiciar às mulheres brasileiras mais esse importante instrumento de proteção. Mesmo não sendo do PT a autoria do projeto, tenho fé na vontade política que haverá de sobrepor-se aos interesses das vaidades ou da contabilidade partidária que insiste em monopolizar a criação de programas e ações sociais desse tipo. \\xa0\\xa0\\xa0\\xa0\\xa0\\xa0\\xa0\\xa0\\xa0\\xa0\\xa0\\xa0Ficam, portanto, aqui registrados meu apelo, minha indignação e a minha esperança. \\xa0\\xa0\\xa0\\xa0\\xa0\\xa0\\xa0\\xa0\\xa0\\xa0\\xa0\\xa0Vamos viabilizar rapidamente o Fundo Nacional de Amparo a Mulheres Agredidas. Nossa sociedade só tem a ganhar com essa emancipação. Ganham as mulheres, ganha o Governo, ganha a Nação e o Estado democrático de direito.  \\xa0\\xa0\\xa0\\xa0\\xa0\\xa0\\xa0\\xa0\\xa0\\xa0\\xa0\\xa0Nesses tempos de tantos desmandos, rogo a Deus que o império da lei e da ordem possa conduzir-nos a um Brasil mais justo e mais solidário. \\xa0\\xa0\\xa0\\xa0\\xa0\\xa0\\xa0\\xa0\\xa0\\xa0\\xa0\\xa0Era o que tinha a dizer, Srª Presidente, Srªs e Srs. Senadores. \\xa0\\xa0\\xa0\\xa0\\xa0\\xa0\\xa0\\xa0\\xa0\\xa0\\xa0\\xa0Muito obrigado.'"
            ]
          },
          "metadata": {
            "tags": []
          },
          "execution_count": 14
        }
      ]
    },
    {
      "cell_type": "markdown",
      "metadata": {
        "id": "qNde7ET0xTFU"
      },
      "source": [
        "Knowing the data structure, we can proceed to put it in some memory representation, and then in a csv file. The main idea is to build a custom dict for each entry and append these dicts in a list. The following code cell shows the procedure used in a single entry."
      ]
    },
    {
      "cell_type": "code",
      "metadata": {
        "colab": {
          "base_uri": "https://localhost:8080/"
        },
        "id": "tbhQJxNS3cQ3",
        "outputId": "27c956e9-a5d5-4284-c805-8f1c7edd29be"
      },
      "source": [
        "df_list = []\n",
        "handle_dict = {}\n",
        "\n",
        "for item, value in data[2].items():\n",
        "  if item == 'IdentificacaoParlamentar':\n",
        "    for subitem in value:\n",
        "      if subitem == 'NomeParlamentar':\n",
        "        handle_dict[subitem] = value[subitem]\n",
        "        pass\n",
        "      elif subitem == 'SexoParlamentar':\n",
        "        handle_dict[subitem] = value[subitem]\n",
        "        pass\n",
        "      elif subitem == 'SiglaPartidoParlamentar':\n",
        "        handle_dict[subitem] = value[subitem]\n",
        "        pass\n",
        "      elif subitem == 'UfParlamentar':\n",
        "        handle_dict[subitem] = value[subitem]\n",
        "        pass\n",
        "  elif item == 'IdentificacaoPronunciamento':\n",
        "    for subitem in value:\n",
        "      if subitem == 'DataPronunciamento':\n",
        "        handle_dict[subitem] = value[subitem]\n",
        "        pass\n",
        "      elif subitem == 'Indexacao':\n",
        "        handle_dict[subitem] = value[subitem]\n",
        "        pass\n",
        "      elif subitem == 'TextoResumo':\n",
        "        handle_dict[subitem] = value[subitem]\n",
        "        pass\n",
        "  else:\n",
        "    handle_dict[item] = value\n",
        "\n",
        "print(handle_dict)\n",
        "df_list.append(handle_dict)"
      ],
      "execution_count": null,
      "outputs": [
        {
          "output_type": "stream",
          "text": [
            "{'NomeParlamentar': 'Jayme Campos', 'SexoParlamentar': 'Masculino', 'SiglaPartidoParlamentar': 'DEM', 'UfParlamentar': 'MT', 'DataPronunciamento': '2014-11-18', 'TextoResumo': '\\n      Apelo no sentido da aprovação, pela Câmara dos Deputados, de projeto de autoria de S. Exª que cria o Fundo Nacional de Amparo a Mulheres Agredidas.', 'Indexacao': 'SOLICITAÇÃO, APROVAÇÃO, CAMARA DOS DEPUTADOS, PROJETO DE LEI, AUTORIA, ORADOR, ASSUNTO, CRIAÇÃO, FUNDO NACIONAL, AUXILIO, MULHER, VITIMA, VIOLENCIA DOMESTICA.', 'Conteudo': 'O SR. JAYME CAMPOS (Bloco Minoria/DEM - MT. Pronuncia o seguinte discurso. Sem revisão do orador.) - Sr. Presidente, Srªs e Srs. Senadores, na manhã de hoje, a Rede Record de televisão veiculou importantíssima reportagem acerca da violência doméstica, denunciando, mais uma vez, a trágica situação em que vivem hoje milhares de mulheres brasileiras, que, reféns da submissão imposta pela dependência financeira, seguem como vítimas caladas, sofrendo toda sorte de agressões e violências. \\xa0\\xa0\\xa0\\xa0\\xa0\\xa0\\xa0\\xa0\\xa0\\xa0\\xa0\\xa0Mesmo contando com a Lei Maria da Penha, diploma potencialmente eficaz na punição de seus agressores, muitas dessas mulheres continuam amarradas aos grilhões do sofrimento, por não terem autonomia financeira, nem capacitação profissional que lhes permita custear seu sustento longe de seus algozes. \\xa0\\xa0\\xa0\\xa0\\xa0\\xa0\\xa0\\xa0\\xa0\\xa0\\xa0\\xa0Assim, para que o Estado venha a oferecer efetiva garantia de proteção a esse grande número de mulheres agredidas, é imperioso instituir políticas públicas que as libertem do risco de desamparo econômico. \\xa0\\xa0\\xa0\\xa0\\xa0\\xa0\\xa0\\xa0\\xa0\\xa0\\xa0\\xa0Por isso, em abril de 2012, apresentei a esta Casa o PLS 109, que cria o Fundo Nacional de Amparo a Mulheres Agredidas, destinado a financiar ajuda pecuniária e treinamento profissional a mulheres que, em razão da violência doméstica, se separaram de seus cônjuges ou companheiros. A ajuda pecuniária prevista é de pelo menos R$622,00, devendo ser paga durante 12 meses consecutivos. Já o treinamento tem o objetivo de facilitar a recolocação das mulheres no mercado de trabalho. Indicamos, inclusive, as fontes de custeio para tudo isso. \\xa0\\xa0\\xa0\\xa0\\xa0\\xa0\\xa0\\xa0\\xa0\\xa0\\xa0\\xa0Ocorre, Sr. Presidente, que esse promissor projeto, de nossa autoria, se encontra literalmente parado na Câmara dos Deputados, há um ano e sete meses! \\xa0\\xa0\\xa0\\xa0\\xa0\\xa0\\xa0\\xa0\\xa0\\xa0\\xa0\\xa0Enquanto o Senado o discutiu em duas comissões em menos de oito meses, aprovando-o terminativamente no final de 2012, a Câmara, que recebeu o autógrafo no começo do ano passado, permanece até hoje silente. \\xa0\\xa0\\xa0\\xa0\\xa0\\xa0\\xa0\\xa0\\xa0\\xa0\\xa0\\xa0Enquanto isso, a cada duas horas, uma mulher é assassinada no Brasil. \\xa0\\xa0\\xa0\\xa0\\xa0\\xa0\\xa0\\xa0\\xa0\\xa0\\xa0\\xa0Enquanto isso, segundo dados do Ministério da Justiça, só este ano, o serviço 0800 da Central de Atendimento à Mulher recebeu mais de 30 mil denúncias de violência.  \\xa0\\xa0\\xa0\\xa0\\xa0\\xa0\\xa0\\xa0\\xa0\\xa0\\xa0\\xa0Enquanto isso, a Deputada Erika Kokay, do PT do Distrito Federal, nomeada relatora na Comissão de Seguridade Social e Família, parece displicentemente esquecida de preparar e apresentar seu relatório àquele Colegiado, para que a matéria possa seguir sua tramitação. \\xa0\\xa0\\xa0\\xa0\\xa0\\xa0\\xa0\\xa0\\xa0\\xa0\\xa0\\xa0A reportagem a que me referi, Srªs e Srs. Senadores, levada ao ar na manhã de hoje, procurou a ilustre relatora. A infeliz explicação da Deputada baseou-se numa suposta tentativa de, segundo ela, aprimorar o projeto. \\xa0\\xa0\\xa0\\xa0\\xa0\\xa0\\xa0\\xa0\\xa0\\xa0\\xa0\\xa0Ora, mesmo diante da melhor das intenções, ainda que tardia, no sentido de aperfeiçoar a proposição, sabemos que as alterações eventualmente aprovadas pela Câmara farão com que a matéria retorne à Casa de origem, ou seja, aqui ao Senado Federal, o que significa protelar ainda mais sua aprovação. \\xa0\\xa0\\xa0\\xa0\\xa0\\xa0\\xa0\\xa0\\xa0\\xa0\\xa0\\xa0O que faço aqui é um apelo ao bom senso. Faço-o em nome, meu caro Capiberibe, da urgência em se ver solucionado o atual quadro de espancamentos e assassinatos de mulheres, agravado por essa perversa espera. \\xa0\\xa0\\xa0\\xa0\\xa0\\xa0\\xa0\\xa0\\xa0\\xa0\\xa0\\xa0Tenho a certeza de que a Presidente da República sancionará nossa proposta logo que a Câmara conclua a tramitação. \\xa0\\xa0\\xa0\\xa0\\xa0\\xa0\\xa0\\xa0\\xa0\\xa0\\xa0\\xa0Tenho a certeza, Sr. Presidente, de que a Chefe do Executivo, na qualidade de mulher e de estadista, não se furtará ao dever de propiciar às mulheres brasileiras mais esse importante instrumento de proteção. Mesmo não sendo do PT a autoria do projeto, tenho fé na vontade política que haverá de sobrepor-se aos interesses das vaidades ou da contabilidade partidária que insiste em monopolizar a criação de programas e ações sociais desse tipo. \\xa0\\xa0\\xa0\\xa0\\xa0\\xa0\\xa0\\xa0\\xa0\\xa0\\xa0\\xa0Ficam, portanto, aqui registrados meu apelo, minha indignação e a minha esperança. \\xa0\\xa0\\xa0\\xa0\\xa0\\xa0\\xa0\\xa0\\xa0\\xa0\\xa0\\xa0Vamos viabilizar rapidamente o Fundo Nacional de Amparo a Mulheres Agredidas. Nossa sociedade só tem a ganhar com essa emancipação. Ganham as mulheres, ganha o Governo, ganha a Nação e o Estado democrático de direito.  \\xa0\\xa0\\xa0\\xa0\\xa0\\xa0\\xa0\\xa0\\xa0\\xa0\\xa0\\xa0Nesses tempos de tantos desmandos, rogo a Deus que o império da lei e da ordem possa conduzir-nos a um Brasil mais justo e mais solidário. \\xa0\\xa0\\xa0\\xa0\\xa0\\xa0\\xa0\\xa0\\xa0\\xa0\\xa0\\xa0Era o que tinha a dizer, Srª Presidente, Srªs e Srs. Senadores. \\xa0\\xa0\\xa0\\xa0\\xa0\\xa0\\xa0\\xa0\\xa0\\xa0\\xa0\\xa0Muito obrigado.'}\n"
          ],
          "name": "stdout"
        }
      ]
    },
    {
      "cell_type": "code",
      "metadata": {
        "colab": {
          "base_uri": "https://localhost:8080/"
        },
        "id": "L2daSd2_y2KN",
        "outputId": "4925a696-e4c9-4bad-ad1a-042444c9420c"
      },
      "source": [
        "df_list"
      ],
      "execution_count": null,
      "outputs": [
        {
          "output_type": "execute_result",
          "data": {
            "text/plain": [
              "[{'Conteudo': 'O SR. JAYME CAMPOS (Bloco Minoria/DEM - MT. Pronuncia o seguinte discurso. Sem revisão do orador.) - Sr. Presidente, Srªs e Srs. Senadores, na manhã de hoje, a Rede Record de televisão veiculou importantíssima reportagem acerca da violência doméstica, denunciando, mais uma vez, a trágica situação em que vivem hoje milhares de mulheres brasileiras, que, reféns da submissão imposta pela dependência financeira, seguem como vítimas caladas, sofrendo toda sorte de agressões e violências. \\xa0\\xa0\\xa0\\xa0\\xa0\\xa0\\xa0\\xa0\\xa0\\xa0\\xa0\\xa0Mesmo contando com a Lei Maria da Penha, diploma potencialmente eficaz na punição de seus agressores, muitas dessas mulheres continuam amarradas aos grilhões do sofrimento, por não terem autonomia financeira, nem capacitação profissional que lhes permita custear seu sustento longe de seus algozes. \\xa0\\xa0\\xa0\\xa0\\xa0\\xa0\\xa0\\xa0\\xa0\\xa0\\xa0\\xa0Assim, para que o Estado venha a oferecer efetiva garantia de proteção a esse grande número de mulheres agredidas, é imperioso instituir políticas públicas que as libertem do risco de desamparo econômico. \\xa0\\xa0\\xa0\\xa0\\xa0\\xa0\\xa0\\xa0\\xa0\\xa0\\xa0\\xa0Por isso, em abril de 2012, apresentei a esta Casa o PLS 109, que cria o Fundo Nacional de Amparo a Mulheres Agredidas, destinado a financiar ajuda pecuniária e treinamento profissional a mulheres que, em razão da violência doméstica, se separaram de seus cônjuges ou companheiros. A ajuda pecuniária prevista é de pelo menos R$622,00, devendo ser paga durante 12 meses consecutivos. Já o treinamento tem o objetivo de facilitar a recolocação das mulheres no mercado de trabalho. Indicamos, inclusive, as fontes de custeio para tudo isso. \\xa0\\xa0\\xa0\\xa0\\xa0\\xa0\\xa0\\xa0\\xa0\\xa0\\xa0\\xa0Ocorre, Sr. Presidente, que esse promissor projeto, de nossa autoria, se encontra literalmente parado na Câmara dos Deputados, há um ano e sete meses! \\xa0\\xa0\\xa0\\xa0\\xa0\\xa0\\xa0\\xa0\\xa0\\xa0\\xa0\\xa0Enquanto o Senado o discutiu em duas comissões em menos de oito meses, aprovando-o terminativamente no final de 2012, a Câmara, que recebeu o autógrafo no começo do ano passado, permanece até hoje silente. \\xa0\\xa0\\xa0\\xa0\\xa0\\xa0\\xa0\\xa0\\xa0\\xa0\\xa0\\xa0Enquanto isso, a cada duas horas, uma mulher é assassinada no Brasil. \\xa0\\xa0\\xa0\\xa0\\xa0\\xa0\\xa0\\xa0\\xa0\\xa0\\xa0\\xa0Enquanto isso, segundo dados do Ministério da Justiça, só este ano, o serviço 0800 da Central de Atendimento à Mulher recebeu mais de 30 mil denúncias de violência.  \\xa0\\xa0\\xa0\\xa0\\xa0\\xa0\\xa0\\xa0\\xa0\\xa0\\xa0\\xa0Enquanto isso, a Deputada Erika Kokay, do PT do Distrito Federal, nomeada relatora na Comissão de Seguridade Social e Família, parece displicentemente esquecida de preparar e apresentar seu relatório àquele Colegiado, para que a matéria possa seguir sua tramitação. \\xa0\\xa0\\xa0\\xa0\\xa0\\xa0\\xa0\\xa0\\xa0\\xa0\\xa0\\xa0A reportagem a que me referi, Srªs e Srs. Senadores, levada ao ar na manhã de hoje, procurou a ilustre relatora. A infeliz explicação da Deputada baseou-se numa suposta tentativa de, segundo ela, aprimorar o projeto. \\xa0\\xa0\\xa0\\xa0\\xa0\\xa0\\xa0\\xa0\\xa0\\xa0\\xa0\\xa0Ora, mesmo diante da melhor das intenções, ainda que tardia, no sentido de aperfeiçoar a proposição, sabemos que as alterações eventualmente aprovadas pela Câmara farão com que a matéria retorne à Casa de origem, ou seja, aqui ao Senado Federal, o que significa protelar ainda mais sua aprovação. \\xa0\\xa0\\xa0\\xa0\\xa0\\xa0\\xa0\\xa0\\xa0\\xa0\\xa0\\xa0O que faço aqui é um apelo ao bom senso. Faço-o em nome, meu caro Capiberibe, da urgência em se ver solucionado o atual quadro de espancamentos e assassinatos de mulheres, agravado por essa perversa espera. \\xa0\\xa0\\xa0\\xa0\\xa0\\xa0\\xa0\\xa0\\xa0\\xa0\\xa0\\xa0Tenho a certeza de que a Presidente da República sancionará nossa proposta logo que a Câmara conclua a tramitação. \\xa0\\xa0\\xa0\\xa0\\xa0\\xa0\\xa0\\xa0\\xa0\\xa0\\xa0\\xa0Tenho a certeza, Sr. Presidente, de que a Chefe do Executivo, na qualidade de mulher e de estadista, não se furtará ao dever de propiciar às mulheres brasileiras mais esse importante instrumento de proteção. Mesmo não sendo do PT a autoria do projeto, tenho fé na vontade política que haverá de sobrepor-se aos interesses das vaidades ou da contabilidade partidária que insiste em monopolizar a criação de programas e ações sociais desse tipo. \\xa0\\xa0\\xa0\\xa0\\xa0\\xa0\\xa0\\xa0\\xa0\\xa0\\xa0\\xa0Ficam, portanto, aqui registrados meu apelo, minha indignação e a minha esperança. \\xa0\\xa0\\xa0\\xa0\\xa0\\xa0\\xa0\\xa0\\xa0\\xa0\\xa0\\xa0Vamos viabilizar rapidamente o Fundo Nacional de Amparo a Mulheres Agredidas. Nossa sociedade só tem a ganhar com essa emancipação. Ganham as mulheres, ganha o Governo, ganha a Nação e o Estado democrático de direito.  \\xa0\\xa0\\xa0\\xa0\\xa0\\xa0\\xa0\\xa0\\xa0\\xa0\\xa0\\xa0Nesses tempos de tantos desmandos, rogo a Deus que o império da lei e da ordem possa conduzir-nos a um Brasil mais justo e mais solidário. \\xa0\\xa0\\xa0\\xa0\\xa0\\xa0\\xa0\\xa0\\xa0\\xa0\\xa0\\xa0Era o que tinha a dizer, Srª Presidente, Srªs e Srs. Senadores. \\xa0\\xa0\\xa0\\xa0\\xa0\\xa0\\xa0\\xa0\\xa0\\xa0\\xa0\\xa0Muito obrigado.',\n",
              "  'DataPronunciamento': '2014-11-18',\n",
              "  'Indexacao': 'SOLICITAÇÃO, APROVAÇÃO, CAMARA DOS DEPUTADOS, PROJETO DE LEI, AUTORIA, ORADOR, ASSUNTO, CRIAÇÃO, FUNDO NACIONAL, AUXILIO, MULHER, VITIMA, VIOLENCIA DOMESTICA.',\n",
              "  'NomeParlamentar': 'Jayme Campos',\n",
              "  'SexoParlamentar': 'Masculino',\n",
              "  'SiglaPartidoParlamentar': 'DEM',\n",
              "  'TextoResumo': '\\n      Apelo no sentido da aprovação, pela Câmara dos Deputados, de projeto de autoria de S. Exª que cria o Fundo Nacional de Amparo a Mulheres Agredidas.',\n",
              "  'UfParlamentar': 'MT'}]"
            ]
          },
          "metadata": {
            "tags": []
          },
          "execution_count": 31
        }
      ]
    },
    {
      "cell_type": "markdown",
      "metadata": {
        "id": "tAa1ghKtyrgg"
      },
      "source": [
        "Now we do the same for the whole dataset:"
      ]
    },
    {
      "cell_type": "code",
      "metadata": {
        "id": "IiCzz9Gi-rg4"
      },
      "source": [
        "df_list = []\n",
        "\n",
        "for ramen in data:\n",
        "  handle_dict = {}\n",
        "  for item, value in ramen.items():\n",
        "    if item == 'IdentificacaoParlamentar':\n",
        "      for subitem in value:\n",
        "        if subitem == 'NomeParlamentar':\n",
        "          handle_dict[subitem] = value[subitem]\n",
        "          pass\n",
        "        elif subitem == 'SexoParlamentar':\n",
        "          handle_dict[subitem] = value[subitem]\n",
        "          pass\n",
        "        elif subitem == 'SiglaPartidoParlamentar':\n",
        "          handle_dict[subitem] = value[subitem]\n",
        "          pass\n",
        "        elif subitem == 'UfParlamentar':\n",
        "          handle_dict[subitem] = value[subitem]\n",
        "          pass\n",
        "    elif item == 'IdentificacaoPronunciamento':\n",
        "      for subitem in value:\n",
        "        if subitem == 'DataPronunciamento':\n",
        "          handle_dict[subitem] = value[subitem]\n",
        "          pass\n",
        "        elif subitem == 'Indexacao':\n",
        "          handle_dict[subitem] = value[subitem]\n",
        "          pass\n",
        "        elif subitem == 'TextoResumo':\n",
        "          handle_dict[subitem] = value[subitem]\n",
        "          pass\n",
        "    else:\n",
        "      handle_dict[item] = value\n",
        "\n",
        "  df_list.append(handle_dict)"
      ],
      "execution_count": null,
      "outputs": []
    },
    {
      "cell_type": "markdown",
      "metadata": {
        "id": "_ulRnU1Wy9ZE"
      },
      "source": [
        "The resultant list has the same length as the original pickle file. Each entry is composed of our custom made dict."
      ]
    },
    {
      "cell_type": "code",
      "metadata": {
        "colab": {
          "base_uri": "https://localhost:8080/"
        },
        "id": "77ri85U4AgQ2",
        "outputId": "52f5ab5d-3571-4b84-dff6-9cdf54cf14db"
      },
      "source": [
        "len(df_list)"
      ],
      "execution_count": null,
      "outputs": [
        {
          "output_type": "execute_result",
          "data": {
            "text/plain": [
              "74981"
            ]
          },
          "metadata": {
            "tags": []
          },
          "execution_count": 5
        }
      ]
    },
    {
      "cell_type": "code",
      "metadata": {
        "colab": {
          "base_uri": "https://localhost:8080/"
        },
        "id": "H2rwuRxgDkjr",
        "outputId": "8ee91e3c-d3bd-4841-bd4e-06be76cb083c"
      },
      "source": [
        "df_list[2]"
      ],
      "execution_count": null,
      "outputs": [
        {
          "output_type": "execute_result",
          "data": {
            "text/plain": [
              "{'Conteudo': 'O SR. JAYME CAMPOS (Bloco Minoria/DEM - MT. Pronuncia o seguinte discurso. Sem revisão do orador.) - Sr. Presidente, Srªs e Srs. Senadores, na manhã de hoje, a Rede Record de televisão veiculou importantíssima reportagem acerca da violência doméstica, denunciando, mais uma vez, a trágica situação em que vivem hoje milhares de mulheres brasileiras, que, reféns da submissão imposta pela dependência financeira, seguem como vítimas caladas, sofrendo toda sorte de agressões e violências. \\xa0\\xa0\\xa0\\xa0\\xa0\\xa0\\xa0\\xa0\\xa0\\xa0\\xa0\\xa0Mesmo contando com a Lei Maria da Penha, diploma potencialmente eficaz na punição de seus agressores, muitas dessas mulheres continuam amarradas aos grilhões do sofrimento, por não terem autonomia financeira, nem capacitação profissional que lhes permita custear seu sustento longe de seus algozes. \\xa0\\xa0\\xa0\\xa0\\xa0\\xa0\\xa0\\xa0\\xa0\\xa0\\xa0\\xa0Assim, para que o Estado venha a oferecer efetiva garantia de proteção a esse grande número de mulheres agredidas, é imperioso instituir políticas públicas que as libertem do risco de desamparo econômico. \\xa0\\xa0\\xa0\\xa0\\xa0\\xa0\\xa0\\xa0\\xa0\\xa0\\xa0\\xa0Por isso, em abril de 2012, apresentei a esta Casa o PLS 109, que cria o Fundo Nacional de Amparo a Mulheres Agredidas, destinado a financiar ajuda pecuniária e treinamento profissional a mulheres que, em razão da violência doméstica, se separaram de seus cônjuges ou companheiros. A ajuda pecuniária prevista é de pelo menos R$622,00, devendo ser paga durante 12 meses consecutivos. Já o treinamento tem o objetivo de facilitar a recolocação das mulheres no mercado de trabalho. Indicamos, inclusive, as fontes de custeio para tudo isso. \\xa0\\xa0\\xa0\\xa0\\xa0\\xa0\\xa0\\xa0\\xa0\\xa0\\xa0\\xa0Ocorre, Sr. Presidente, que esse promissor projeto, de nossa autoria, se encontra literalmente parado na Câmara dos Deputados, há um ano e sete meses! \\xa0\\xa0\\xa0\\xa0\\xa0\\xa0\\xa0\\xa0\\xa0\\xa0\\xa0\\xa0Enquanto o Senado o discutiu em duas comissões em menos de oito meses, aprovando-o terminativamente no final de 2012, a Câmara, que recebeu o autógrafo no começo do ano passado, permanece até hoje silente. \\xa0\\xa0\\xa0\\xa0\\xa0\\xa0\\xa0\\xa0\\xa0\\xa0\\xa0\\xa0Enquanto isso, a cada duas horas, uma mulher é assassinada no Brasil. \\xa0\\xa0\\xa0\\xa0\\xa0\\xa0\\xa0\\xa0\\xa0\\xa0\\xa0\\xa0Enquanto isso, segundo dados do Ministério da Justiça, só este ano, o serviço 0800 da Central de Atendimento à Mulher recebeu mais de 30 mil denúncias de violência.  \\xa0\\xa0\\xa0\\xa0\\xa0\\xa0\\xa0\\xa0\\xa0\\xa0\\xa0\\xa0Enquanto isso, a Deputada Erika Kokay, do PT do Distrito Federal, nomeada relatora na Comissão de Seguridade Social e Família, parece displicentemente esquecida de preparar e apresentar seu relatório àquele Colegiado, para que a matéria possa seguir sua tramitação. \\xa0\\xa0\\xa0\\xa0\\xa0\\xa0\\xa0\\xa0\\xa0\\xa0\\xa0\\xa0A reportagem a que me referi, Srªs e Srs. Senadores, levada ao ar na manhã de hoje, procurou a ilustre relatora. A infeliz explicação da Deputada baseou-se numa suposta tentativa de, segundo ela, aprimorar o projeto. \\xa0\\xa0\\xa0\\xa0\\xa0\\xa0\\xa0\\xa0\\xa0\\xa0\\xa0\\xa0Ora, mesmo diante da melhor das intenções, ainda que tardia, no sentido de aperfeiçoar a proposição, sabemos que as alterações eventualmente aprovadas pela Câmara farão com que a matéria retorne à Casa de origem, ou seja, aqui ao Senado Federal, o que significa protelar ainda mais sua aprovação. \\xa0\\xa0\\xa0\\xa0\\xa0\\xa0\\xa0\\xa0\\xa0\\xa0\\xa0\\xa0O que faço aqui é um apelo ao bom senso. Faço-o em nome, meu caro Capiberibe, da urgência em se ver solucionado o atual quadro de espancamentos e assassinatos de mulheres, agravado por essa perversa espera. \\xa0\\xa0\\xa0\\xa0\\xa0\\xa0\\xa0\\xa0\\xa0\\xa0\\xa0\\xa0Tenho a certeza de que a Presidente da República sancionará nossa proposta logo que a Câmara conclua a tramitação. \\xa0\\xa0\\xa0\\xa0\\xa0\\xa0\\xa0\\xa0\\xa0\\xa0\\xa0\\xa0Tenho a certeza, Sr. Presidente, de que a Chefe do Executivo, na qualidade de mulher e de estadista, não se furtará ao dever de propiciar às mulheres brasileiras mais esse importante instrumento de proteção. Mesmo não sendo do PT a autoria do projeto, tenho fé na vontade política que haverá de sobrepor-se aos interesses das vaidades ou da contabilidade partidária que insiste em monopolizar a criação de programas e ações sociais desse tipo. \\xa0\\xa0\\xa0\\xa0\\xa0\\xa0\\xa0\\xa0\\xa0\\xa0\\xa0\\xa0Ficam, portanto, aqui registrados meu apelo, minha indignação e a minha esperança. \\xa0\\xa0\\xa0\\xa0\\xa0\\xa0\\xa0\\xa0\\xa0\\xa0\\xa0\\xa0Vamos viabilizar rapidamente o Fundo Nacional de Amparo a Mulheres Agredidas. Nossa sociedade só tem a ganhar com essa emancipação. Ganham as mulheres, ganha o Governo, ganha a Nação e o Estado democrático de direito.  \\xa0\\xa0\\xa0\\xa0\\xa0\\xa0\\xa0\\xa0\\xa0\\xa0\\xa0\\xa0Nesses tempos de tantos desmandos, rogo a Deus que o império da lei e da ordem possa conduzir-nos a um Brasil mais justo e mais solidário. \\xa0\\xa0\\xa0\\xa0\\xa0\\xa0\\xa0\\xa0\\xa0\\xa0\\xa0\\xa0Era o que tinha a dizer, Srª Presidente, Srªs e Srs. Senadores. \\xa0\\xa0\\xa0\\xa0\\xa0\\xa0\\xa0\\xa0\\xa0\\xa0\\xa0\\xa0Muito obrigado.',\n",
              " 'DataPronunciamento': '2014-11-18',\n",
              " 'Indexacao': 'SOLICITAÇÃO, APROVAÇÃO, CAMARA DOS DEPUTADOS, PROJETO DE LEI, AUTORIA, ORADOR, ASSUNTO, CRIAÇÃO, FUNDO NACIONAL, AUXILIO, MULHER, VITIMA, VIOLENCIA DOMESTICA.',\n",
              " 'NomeParlamentar': 'Jayme Campos',\n",
              " 'SexoParlamentar': 'Masculino',\n",
              " 'SiglaPartidoParlamentar': 'DEM',\n",
              " 'TextoResumo': '\\n      Apelo no sentido da aprovação, pela Câmara dos Deputados, de projeto de autoria de S. Exª que cria o Fundo Nacional de Amparo a Mulheres Agredidas.',\n",
              " 'UfParlamentar': 'MT'}"
            ]
          },
          "metadata": {
            "tags": []
          },
          "execution_count": 9
        }
      ]
    },
    {
      "cell_type": "markdown",
      "metadata": {
        "id": "f57TrmmazVXh"
      },
      "source": [
        "Great! Now we have the data we want on memory. The next step is to save this data in some kind of file, for the sake of easier access. We'll save our data in a CSV file, that is more commonly used in ML/DL applications. The first step is to generate a list to identify the dataframe columns."
      ]
    },
    {
      "cell_type": "code",
      "metadata": {
        "colab": {
          "base_uri": "https://localhost:8080/"
        },
        "id": "y7Y32bcpEkN8",
        "outputId": "c51b1c64-e005-4e3b-898b-b34b270184e7"
      },
      "source": [
        "colunas = []\n",
        "for item in df_list[2]:\n",
        "  print(item)\n",
        "  colunas.append(item)"
      ],
      "execution_count": null,
      "outputs": [
        {
          "output_type": "stream",
          "text": [
            "NomeParlamentar\n",
            "SexoParlamentar\n",
            "SiglaPartidoParlamentar\n",
            "UfParlamentar\n",
            "DataPronunciamento\n",
            "TextoResumo\n",
            "Indexacao\n",
            "Conteudo\n"
          ],
          "name": "stdout"
        }
      ]
    },
    {
      "cell_type": "code",
      "metadata": {
        "colab": {
          "base_uri": "https://localhost:8080/"
        },
        "id": "DTqU-BliEyJZ",
        "outputId": "94cbfffb-fb95-4bad-a645-2074cd484bd2"
      },
      "source": [
        "colunas"
      ],
      "execution_count": null,
      "outputs": [
        {
          "output_type": "execute_result",
          "data": {
            "text/plain": [
              "['NomeParlamentar',\n",
              " 'SexoParlamentar',\n",
              " 'SiglaPartidoParlamentar',\n",
              " 'UfParlamentar',\n",
              " 'DataPronunciamento',\n",
              " 'TextoResumo',\n",
              " 'Indexacao',\n",
              " 'Conteudo']"
            ]
          },
          "metadata": {
            "tags": []
          },
          "execution_count": 18
        }
      ]
    },
    {
      "cell_type": "markdown",
      "metadata": {
        "id": "vQVaszwi0Cw5"
      },
      "source": [
        "Once we have the columns list, we generate a dataframe, iterate over the `df_list` and append each dict entry as a row. The following two code cells show the procedure and result for a single entry."
      ]
    },
    {
      "cell_type": "code",
      "metadata": {
        "id": "JbKrYNv7DqHO"
      },
      "source": [
        "df = pd.DataFrame(columns=colunas)\n",
        "handle_df = pd.DataFrame(data=df_list[2], index=[0])\n",
        "df = df.append(handle_df)"
      ],
      "execution_count": null,
      "outputs": []
    },
    {
      "cell_type": "code",
      "metadata": {
        "colab": {
          "base_uri": "https://localhost:8080/",
          "height": 131
        },
        "id": "EPygXK8ID49N",
        "outputId": "64b80491-47d2-41a1-ad25-16f4f2ad35bc"
      },
      "source": [
        "df"
      ],
      "execution_count": null,
      "outputs": [
        {
          "output_type": "execute_result",
          "data": {
            "text/html": [
              "<div>\n",
              "<style scoped>\n",
              "    .dataframe tbody tr th:only-of-type {\n",
              "        vertical-align: middle;\n",
              "    }\n",
              "\n",
              "    .dataframe tbody tr th {\n",
              "        vertical-align: top;\n",
              "    }\n",
              "\n",
              "    .dataframe thead th {\n",
              "        text-align: right;\n",
              "    }\n",
              "</style>\n",
              "<table border=\"1\" class=\"dataframe\">\n",
              "  <thead>\n",
              "    <tr style=\"text-align: right;\">\n",
              "      <th></th>\n",
              "      <th>NomeParlamentar</th>\n",
              "      <th>SexoParlamentar</th>\n",
              "      <th>SiglaPartidoParlamentar</th>\n",
              "      <th>UfParlamentar</th>\n",
              "      <th>DataPronunciamento</th>\n",
              "      <th>TextoResumo</th>\n",
              "      <th>Indexacao</th>\n",
              "      <th>Conteudo</th>\n",
              "    </tr>\n",
              "  </thead>\n",
              "  <tbody>\n",
              "    <tr>\n",
              "      <th>0</th>\n",
              "      <td>Jayme Campos</td>\n",
              "      <td>Masculino</td>\n",
              "      <td>DEM</td>\n",
              "      <td>MT</td>\n",
              "      <td>2014-11-18</td>\n",
              "      <td>\\n      Apelo no sentido da aprovação, pela Câ...</td>\n",
              "      <td>SOLICITAÇÃO, APROVAÇÃO, CAMARA DOS DEPUTADOS, ...</td>\n",
              "      <td>O SR. JAYME CAMPOS (Bloco Minoria/DEM - MT. Pr...</td>\n",
              "    </tr>\n",
              "  </tbody>\n",
              "</table>\n",
              "</div>"
            ],
            "text/plain": [
              "  NomeParlamentar  ...                                           Conteudo\n",
              "0    Jayme Campos  ...  O SR. JAYME CAMPOS (Bloco Minoria/DEM - MT. Pr...\n",
              "\n",
              "[1 rows x 8 columns]"
            ]
          },
          "metadata": {
            "tags": []
          },
          "execution_count": 22
        }
      ]
    },
    {
      "cell_type": "markdown",
      "metadata": {
        "id": "BsDk6SXs0d1t"
      },
      "source": [
        "Now is just do the same for the whole thing. This step is quite long, and the generated CSV quite large: over 700mb."
      ]
    },
    {
      "cell_type": "code",
      "metadata": {
        "id": "zcNsJ0Vn6KrK"
      },
      "source": [
        "df = pd.DataFrame(columns=colunas)\n",
        "\n",
        "for item in df_list:\n",
        "  handle_df = pd.DataFrame(data=item, index=[0])\n",
        "  df = df.append(handle_df)"
      ],
      "execution_count": null,
      "outputs": []
    },
    {
      "cell_type": "code",
      "metadata": {
        "colab": {
          "base_uri": "https://localhost:8080/",
          "height": 912
        },
        "id": "5izUojMwDF1g",
        "outputId": "f640684a-9730-4094-8fec-849d4fedfb16"
      },
      "source": [
        "df"
      ],
      "execution_count": null,
      "outputs": [
        {
          "output_type": "execute_result",
          "data": {
            "text/html": [
              "<div>\n",
              "<style scoped>\n",
              "    .dataframe tbody tr th:only-of-type {\n",
              "        vertical-align: middle;\n",
              "    }\n",
              "\n",
              "    .dataframe tbody tr th {\n",
              "        vertical-align: top;\n",
              "    }\n",
              "\n",
              "    .dataframe thead th {\n",
              "        text-align: right;\n",
              "    }\n",
              "</style>\n",
              "<table border=\"1\" class=\"dataframe\">\n",
              "  <thead>\n",
              "    <tr style=\"text-align: right;\">\n",
              "      <th></th>\n",
              "      <th>NomeParlamentar</th>\n",
              "      <th>SexoParlamentar</th>\n",
              "      <th>SiglaPartidoParlamentar</th>\n",
              "      <th>UfParlamentar</th>\n",
              "      <th>DataPronunciamento</th>\n",
              "      <th>TextoResumo</th>\n",
              "      <th>Indexacao</th>\n",
              "      <th>Conteudo</th>\n",
              "    </tr>\n",
              "  </thead>\n",
              "  <tbody>\n",
              "    <tr>\n",
              "      <th>0</th>\n",
              "      <td>Paulo Paim</td>\n",
              "      <td>Masculino</td>\n",
              "      <td>PT</td>\n",
              "      <td>RS</td>\n",
              "      <td>2012-12-07</td>\n",
              "      <td>\\n      Destaque à aprovação, pelo Senado Fede...</td>\n",
              "      <td>REGISTRO, PRESENÇA, ORADOR, SOLENIDADE, POSSE,...</td>\n",
              "      <td>O SR. PAULO PAIM (Bloco/PT - RS. Pronuncia o s...</td>\n",
              "    </tr>\n",
              "    <tr>\n",
              "      <th>0</th>\n",
              "      <td>Ângela Portela</td>\n",
              "      <td>Feminino</td>\n",
              "      <td>PDT</td>\n",
              "      <td>NaN</td>\n",
              "      <td>2013-06-25</td>\n",
              "      <td>\\n      Satisfação com a postura do Governo Fe...</td>\n",
              "      <td>ELOGIO, ATUAÇÃO, GOVERNO FEDERAL, DIALOGO, LID...</td>\n",
              "      <td>A SRª ANGELA PORTELA (Bloco/PT - RR. Pronuncia...</td>\n",
              "    </tr>\n",
              "    <tr>\n",
              "      <th>0</th>\n",
              "      <td>Jayme Campos</td>\n",
              "      <td>Masculino</td>\n",
              "      <td>DEM</td>\n",
              "      <td>MT</td>\n",
              "      <td>2014-11-18</td>\n",
              "      <td>\\n      Apelo no sentido da aprovação, pela Câ...</td>\n",
              "      <td>SOLICITAÇÃO, APROVAÇÃO, CAMARA DOS DEPUTADOS, ...</td>\n",
              "      <td>O SR. JAYME CAMPOS (Bloco Minoria/DEM - MT. Pr...</td>\n",
              "    </tr>\n",
              "    <tr>\n",
              "      <th>0</th>\n",
              "      <td>Leomar Quintanilha</td>\n",
              "      <td>Masculino</td>\n",
              "      <td>MDB</td>\n",
              "      <td>NaN</td>\n",
              "      <td>2010-11-12</td>\n",
              "      <td>\\n      Relato sobre as dificuldades verificad...</td>\n",
              "      <td>ANALISE, DESIGUALDADE REGIONAL, QUALIDADE, EDU...</td>\n",
              "      <td>SENADO FEDERAL SF -              SECRETARIA-GE...</td>\n",
              "    </tr>\n",
              "    <tr>\n",
              "      <th>0</th>\n",
              "      <td>Cícero Lucena</td>\n",
              "      <td>Masculino</td>\n",
              "      <td>PSDB</td>\n",
              "      <td>NaN</td>\n",
              "      <td>2013-04-24</td>\n",
              "      <td>NaN</td>\n",
              "      <td>NaN</td>\n",
              "      <td>O SR. CÍCERO LUCENA  (Bloco/PSDB - PB) - É por...</td>\n",
              "    </tr>\n",
              "    <tr>\n",
              "      <th>...</th>\n",
              "      <td>...</td>\n",
              "      <td>...</td>\n",
              "      <td>...</td>\n",
              "      <td>...</td>\n",
              "      <td>...</td>\n",
              "      <td>...</td>\n",
              "      <td>...</td>\n",
              "      <td>...</td>\n",
              "    </tr>\n",
              "    <tr>\n",
              "      <th>0</th>\n",
              "      <td>Romero Jucá</td>\n",
              "      <td>Masculino</td>\n",
              "      <td>MDB</td>\n",
              "      <td>NaN</td>\n",
              "      <td>2008-04-29</td>\n",
              "      <td>\\n      Considerações sobre o acesso às comuni...</td>\n",
              "      <td>IMPORTANCIA, INTERNET, INCLUSÃO, CIDADANIA, RE...</td>\n",
              "      <td>O SR. ROMERO JUCÁ  (PMDB - RR. Sem apanhamento...</td>\n",
              "    </tr>\n",
              "    <tr>\n",
              "      <th>0</th>\n",
              "      <td>Serys Slhessarenko</td>\n",
              "      <td>Feminino</td>\n",
              "      <td>PT</td>\n",
              "      <td>NaN</td>\n",
              "      <td>2005-09-21</td>\n",
              "      <td>\\n      Manifestação em defesa dos funcionário...</td>\n",
              "      <td>REGISTRO, PAUTA, REIVINDICAÇÃO, SERVIDOR, UNIV...</td>\n",
              "      <td>A SRª SERYS SLHESSARENKO  (Bloco/PT - MT. Pron...</td>\n",
              "    </tr>\n",
              "    <tr>\n",
              "      <th>0</th>\n",
              "      <td>Jefferson Peres</td>\n",
              "      <td>Masculino</td>\n",
              "      <td>NaN</td>\n",
              "      <td>NaN</td>\n",
              "      <td>1999-10-01</td>\n",
              "      <td>\\n      CONSIDERAÇÕES SOBRE A DECLARAÇÃO DE IN...</td>\n",
              "      <td>APOIO, DECISÃO JUDICIAL, SUPREMO TRIBUNAL FEDE...</td>\n",
              "      <td>O SR. JEFFERSON PÉRES  (Bloco/PDT - AM. Pronun...</td>\n",
              "    </tr>\n",
              "    <tr>\n",
              "      <th>0</th>\n",
              "      <td>Eduardo Suplicy</td>\n",
              "      <td>Masculino</td>\n",
              "      <td>PT</td>\n",
              "      <td>NaN</td>\n",
              "      <td>2012-08-22</td>\n",
              "      <td>\\n      – Considerações acerca da desigualdade...</td>\n",
              "      <td>LEITURA, DECLARAÇÃO, ENCONTRO, AMBITO NACIONAL...</td>\n",
              "      <td>O SR. EDUARDO SUPLICY (Bloco/PT - SP. Pronunci...</td>\n",
              "    </tr>\n",
              "    <tr>\n",
              "      <th>0</th>\n",
              "      <td>Níura Demarchi</td>\n",
              "      <td>Feminino</td>\n",
              "      <td>PSDB</td>\n",
              "      <td>NaN</td>\n",
              "      <td>2010-11-10</td>\n",
              "      <td>\\n      Celebração pela vitória do Senador Rai...</td>\n",
              "      <td>CONGRATULAÇÕES, RAIMUNDO COLOMBO, SENADOR, VIT...</td>\n",
              "      <td>SENADO FEDERAL SF -              SECRETARIA-GE...</td>\n",
              "    </tr>\n",
              "  </tbody>\n",
              "</table>\n",
              "<p>74981 rows × 8 columns</p>\n",
              "</div>"
            ],
            "text/plain": [
              "       NomeParlamentar  ...                                           Conteudo\n",
              "0           Paulo Paim  ...  O SR. PAULO PAIM (Bloco/PT - RS. Pronuncia o s...\n",
              "0       Ângela Portela  ...  A SRª ANGELA PORTELA (Bloco/PT - RR. Pronuncia...\n",
              "0         Jayme Campos  ...  O SR. JAYME CAMPOS (Bloco Minoria/DEM - MT. Pr...\n",
              "0   Leomar Quintanilha  ...  SENADO FEDERAL SF -              SECRETARIA-GE...\n",
              "0        Cícero Lucena  ...  O SR. CÍCERO LUCENA  (Bloco/PSDB - PB) - É por...\n",
              "..                 ...  ...                                                ...\n",
              "0          Romero Jucá  ...  O SR. ROMERO JUCÁ  (PMDB - RR. Sem apanhamento...\n",
              "0   Serys Slhessarenko  ...  A SRª SERYS SLHESSARENKO  (Bloco/PT - MT. Pron...\n",
              "0      Jefferson Peres  ...  O SR. JEFFERSON PÉRES  (Bloco/PDT - AM. Pronun...\n",
              "0      Eduardo Suplicy  ...  O SR. EDUARDO SUPLICY (Bloco/PT - SP. Pronunci...\n",
              "0       Níura Demarchi  ...  SENADO FEDERAL SF -              SECRETARIA-GE...\n",
              "\n",
              "[74981 rows x 8 columns]"
            ]
          },
          "metadata": {
            "tags": []
          },
          "execution_count": 27
        }
      ]
    },
    {
      "cell_type": "code",
      "metadata": {
        "id": "xRoeBa_BWEcZ"
      },
      "source": [
        "df.to_csv('senate_speeches.csv')"
      ],
      "execution_count": null,
      "outputs": []
    },
    {
      "cell_type": "markdown",
      "metadata": {
        "id": "2tV38xhIocfr"
      },
      "source": [
        "The following code cell saves a copy from the generated csv file to drive."
      ]
    },
    {
      "cell_type": "code",
      "metadata": {
        "id": "UUcpSAbUmwlO"
      },
      "source": [
        "!cp senate_speeches.csv \"/content/drive/My Drive/\""
      ],
      "execution_count": null,
      "outputs": []
    },
    {
      "cell_type": "markdown",
      "metadata": {
        "id": "q7dcCJU71wL0"
      },
      "source": [
        "A brief exploration of the data: most of the speeches were given by men; MDB, PT, and PSDB are the most represented parties in the dataset; and the states with discourses are Rio Grande do Sul and Paraná."
      ]
    },
    {
      "cell_type": "code",
      "metadata": {
        "colab": {
          "base_uri": "https://localhost:8080/"
        },
        "id": "uQZ04vajogWS",
        "outputId": "045d97c8-0607-46fd-f168-a0eed64cad0a"
      },
      "source": [
        "df.SexoParlamentar.value_counts()"
      ],
      "execution_count": null,
      "outputs": [
        {
          "output_type": "execute_result",
          "data": {
            "text/plain": [
              "Masculino    65881\n",
              "Feminino      9100\n",
              "Name: SexoParlamentar, dtype: int64"
            ]
          },
          "metadata": {
            "tags": []
          },
          "execution_count": 32
        }
      ]
    },
    {
      "cell_type": "code",
      "metadata": {
        "colab": {
          "base_uri": "https://localhost:8080/"
        },
        "id": "wrIzrj4i1YGe",
        "outputId": "ac8fa929-fa24-4a50-dbcb-4b88762a0bb3"
      },
      "source": [
        "df.SiglaPartidoParlamentar.value_counts()"
      ],
      "execution_count": null,
      "outputs": [
        {
          "output_type": "execute_result",
          "data": {
            "text/plain": [
              "MDB              14460\n",
              "PT               12608\n",
              "PSDB             12484\n",
              "PTB               4047\n",
              "DEM               3848\n",
              "PSB               3517\n",
              "PODEMOS           2962\n",
              "PP                2263\n",
              "PDT               1872\n",
              "PL                1653\n",
              "CIDADANIA         1364\n",
              "PSC               1168\n",
              "S/Partido         1166\n",
              "PCdoB             1087\n",
              "PSOL               831\n",
              "PROS               662\n",
              "REPUBLICANOS       654\n",
              "PSD                649\n",
              "REDE               617\n",
              "PV                 536\n",
              "SOLIDARIEDADE      337\n",
              "PSL                 50\n",
              "PPL                  8\n",
              "PRTB                 5\n",
              "Name: SiglaPartidoParlamentar, dtype: int64"
            ]
          },
          "metadata": {
            "tags": []
          },
          "execution_count": 33
        }
      ]
    },
    {
      "cell_type": "code",
      "metadata": {
        "colab": {
          "base_uri": "https://localhost:8080/"
        },
        "id": "MFYB8Fqq1gNl",
        "outputId": "7032e695-3227-417a-ecd6-a81fe0b63363"
      },
      "source": [
        "df.UfParlamentar.value_counts()"
      ],
      "execution_count": null,
      "outputs": [
        {
          "output_type": "execute_result",
          "data": {
            "text/plain": [
              "RS    2774\n",
              "PR    2641\n",
              "MT     735\n",
              "PE     611\n",
              "AL     611\n",
              "RO     442\n",
              "BA     420\n",
              "RJ     398\n",
              "RR     332\n",
              "AP     319\n",
              "SC     316\n",
              "PI     309\n",
              "AM     289\n",
              "PA     268\n",
              "PB     258\n",
              "DF     257\n",
              "CE     225\n",
              "SE     199\n",
              "AC     177\n",
              "TO     164\n",
              "GO     161\n",
              "ES     158\n",
              "MG     146\n",
              "RN     109\n",
              "MS     105\n",
              "SP      77\n",
              "MA      47\n",
              "Name: UfParlamentar, dtype: int64"
            ]
          },
          "metadata": {
            "tags": []
          },
          "execution_count": 34
        }
      ]
    },
    {
      "cell_type": "markdown",
      "metadata": {
        "id": "6GF-FkNxa55q"
      },
      "source": [
        "## Classifier experiments"
      ]
    },
    {
      "cell_type": "code",
      "metadata": {
        "colab": {
          "base_uri": "https://localhost:8080/"
        },
        "id": "I_c2GlNJ5xw5",
        "outputId": "e9fd09d3-d887-4780-f05b-4153633ac0b4"
      },
      "source": [
        "from google.colab import drive\n",
        "drive.mount('/content/drive')"
      ],
      "execution_count": null,
      "outputs": [
        {
          "output_type": "stream",
          "text": [
            "Mounted at /content/drive\n"
          ],
          "name": "stdout"
        }
      ]
    },
    {
      "cell_type": "code",
      "metadata": {
        "id": "0uIhqTma50Rr"
      },
      "source": [
        "import torch\n",
        "import pandas as pd\n",
        "from tqdm.notebook import tqdm\n",
        "import numpy as np"
      ],
      "execution_count": null,
      "outputs": []
    },
    {
      "cell_type": "code",
      "metadata": {
        "colab": {
          "base_uri": "https://localhost:8080/",
          "height": 1000
        },
        "id": "4QkOqYTHNopG",
        "outputId": "e243ac02-c41b-4000-e656-857ca90f9e62"
      },
      "source": [
        "data = pd.read_csv('/content/drive/MyDrive/mt_final_project/senate_speeches.csv')\n",
        "data"
      ],
      "execution_count": null,
      "outputs": [
        {
          "output_type": "execute_result",
          "data": {
            "text/html": [
              "<div>\n",
              "<style scoped>\n",
              "    .dataframe tbody tr th:only-of-type {\n",
              "        vertical-align: middle;\n",
              "    }\n",
              "\n",
              "    .dataframe tbody tr th {\n",
              "        vertical-align: top;\n",
              "    }\n",
              "\n",
              "    .dataframe thead th {\n",
              "        text-align: right;\n",
              "    }\n",
              "</style>\n",
              "<table border=\"1\" class=\"dataframe\">\n",
              "  <thead>\n",
              "    <tr style=\"text-align: right;\">\n",
              "      <th></th>\n",
              "      <th>Unnamed: 0</th>\n",
              "      <th>NomeParlamentar</th>\n",
              "      <th>SexoParlamentar</th>\n",
              "      <th>SiglaPartidoParlamentar</th>\n",
              "      <th>UfParlamentar</th>\n",
              "      <th>DataPronunciamento</th>\n",
              "      <th>TextoResumo</th>\n",
              "      <th>Indexacao</th>\n",
              "      <th>Conteudo</th>\n",
              "    </tr>\n",
              "  </thead>\n",
              "  <tbody>\n",
              "    <tr>\n",
              "      <th>0</th>\n",
              "      <td>0</td>\n",
              "      <td>Paulo Paim</td>\n",
              "      <td>Masculino</td>\n",
              "      <td>PT</td>\n",
              "      <td>RS</td>\n",
              "      <td>2012-12-07</td>\n",
              "      <td>\\n      Destaque à aprovação, pelo Senado Fede...</td>\n",
              "      <td>REGISTRO, PRESENÇA, ORADOR, SOLENIDADE, POSSE,...</td>\n",
              "      <td>O SR. PAULO PAIM (Bloco/PT - RS. Pronuncia o s...</td>\n",
              "    </tr>\n",
              "    <tr>\n",
              "      <th>1</th>\n",
              "      <td>0</td>\n",
              "      <td>Ângela Portela</td>\n",
              "      <td>Feminino</td>\n",
              "      <td>PDT</td>\n",
              "      <td>NaN</td>\n",
              "      <td>2013-06-25</td>\n",
              "      <td>\\n      Satisfação com a postura do Governo Fe...</td>\n",
              "      <td>ELOGIO, ATUAÇÃO, GOVERNO FEDERAL, DIALOGO, LID...</td>\n",
              "      <td>A SRª ANGELA PORTELA (Bloco/PT - RR. Pronuncia...</td>\n",
              "    </tr>\n",
              "    <tr>\n",
              "      <th>2</th>\n",
              "      <td>0</td>\n",
              "      <td>Jayme Campos</td>\n",
              "      <td>Masculino</td>\n",
              "      <td>DEM</td>\n",
              "      <td>MT</td>\n",
              "      <td>2014-11-18</td>\n",
              "      <td>\\n      Apelo no sentido da aprovação, pela Câ...</td>\n",
              "      <td>SOLICITAÇÃO, APROVAÇÃO, CAMARA DOS DEPUTADOS, ...</td>\n",
              "      <td>O SR. JAYME CAMPOS (Bloco Minoria/DEM - MT. Pr...</td>\n",
              "    </tr>\n",
              "    <tr>\n",
              "      <th>3</th>\n",
              "      <td>0</td>\n",
              "      <td>Leomar Quintanilha</td>\n",
              "      <td>Masculino</td>\n",
              "      <td>MDB</td>\n",
              "      <td>NaN</td>\n",
              "      <td>2010-11-12</td>\n",
              "      <td>\\n      Relato sobre as dificuldades verificad...</td>\n",
              "      <td>ANALISE, DESIGUALDADE REGIONAL, QUALIDADE, EDU...</td>\n",
              "      <td>SENADO FEDERAL SF -              SECRETARIA-GE...</td>\n",
              "    </tr>\n",
              "    <tr>\n",
              "      <th>4</th>\n",
              "      <td>0</td>\n",
              "      <td>Cícero Lucena</td>\n",
              "      <td>Masculino</td>\n",
              "      <td>PSDB</td>\n",
              "      <td>NaN</td>\n",
              "      <td>2013-04-24</td>\n",
              "      <td>NaN</td>\n",
              "      <td>NaN</td>\n",
              "      <td>O SR. CÍCERO LUCENA  (Bloco/PSDB - PB) - É por...</td>\n",
              "    </tr>\n",
              "    <tr>\n",
              "      <th>...</th>\n",
              "      <td>...</td>\n",
              "      <td>...</td>\n",
              "      <td>...</td>\n",
              "      <td>...</td>\n",
              "      <td>...</td>\n",
              "      <td>...</td>\n",
              "      <td>...</td>\n",
              "      <td>...</td>\n",
              "      <td>...</td>\n",
              "    </tr>\n",
              "    <tr>\n",
              "      <th>74976</th>\n",
              "      <td>0</td>\n",
              "      <td>Romero Jucá</td>\n",
              "      <td>Masculino</td>\n",
              "      <td>MDB</td>\n",
              "      <td>NaN</td>\n",
              "      <td>2008-04-29</td>\n",
              "      <td>\\n      Considerações sobre o acesso às comuni...</td>\n",
              "      <td>IMPORTANCIA, INTERNET, INCLUSÃO, CIDADANIA, RE...</td>\n",
              "      <td>O SR. ROMERO JUCÁ  (PMDB - RR. Sem apanhamento...</td>\n",
              "    </tr>\n",
              "    <tr>\n",
              "      <th>74977</th>\n",
              "      <td>0</td>\n",
              "      <td>Serys Slhessarenko</td>\n",
              "      <td>Feminino</td>\n",
              "      <td>PT</td>\n",
              "      <td>NaN</td>\n",
              "      <td>2005-09-21</td>\n",
              "      <td>\\n      Manifestação em defesa dos funcionário...</td>\n",
              "      <td>REGISTRO, PAUTA, REIVINDICAÇÃO, SERVIDOR, UNIV...</td>\n",
              "      <td>A SRª SERYS SLHESSARENKO  (Bloco/PT - MT. Pron...</td>\n",
              "    </tr>\n",
              "    <tr>\n",
              "      <th>74978</th>\n",
              "      <td>0</td>\n",
              "      <td>Jefferson Peres</td>\n",
              "      <td>Masculino</td>\n",
              "      <td>NaN</td>\n",
              "      <td>NaN</td>\n",
              "      <td>1999-10-01</td>\n",
              "      <td>\\n      CONSIDERAÇÕES SOBRE A DECLARAÇÃO DE IN...</td>\n",
              "      <td>APOIO, DECISÃO JUDICIAL, SUPREMO TRIBUNAL FEDE...</td>\n",
              "      <td>O SR. JEFFERSON PÉRES  (Bloco/PDT - AM. Pronun...</td>\n",
              "    </tr>\n",
              "    <tr>\n",
              "      <th>74979</th>\n",
              "      <td>0</td>\n",
              "      <td>Eduardo Suplicy</td>\n",
              "      <td>Masculino</td>\n",
              "      <td>PT</td>\n",
              "      <td>NaN</td>\n",
              "      <td>2012-08-22</td>\n",
              "      <td>\\n      – Considerações acerca da desigualdade...</td>\n",
              "      <td>LEITURA, DECLARAÇÃO, ENCONTRO, AMBITO NACIONAL...</td>\n",
              "      <td>O SR. EDUARDO SUPLICY (Bloco/PT - SP. Pronunci...</td>\n",
              "    </tr>\n",
              "    <tr>\n",
              "      <th>74980</th>\n",
              "      <td>0</td>\n",
              "      <td>Níura Demarchi</td>\n",
              "      <td>Feminino</td>\n",
              "      <td>PSDB</td>\n",
              "      <td>NaN</td>\n",
              "      <td>2010-11-10</td>\n",
              "      <td>\\n      Celebração pela vitória do Senador Rai...</td>\n",
              "      <td>CONGRATULAÇÕES, RAIMUNDO COLOMBO, SENADOR, VIT...</td>\n",
              "      <td>SENADO FEDERAL SF -              SECRETARIA-GE...</td>\n",
              "    </tr>\n",
              "  </tbody>\n",
              "</table>\n",
              "<p>74981 rows × 9 columns</p>\n",
              "</div>"
            ],
            "text/plain": [
              "       Unnamed: 0  ...                                           Conteudo\n",
              "0               0  ...  O SR. PAULO PAIM (Bloco/PT - RS. Pronuncia o s...\n",
              "1               0  ...  A SRª ANGELA PORTELA (Bloco/PT - RR. Pronuncia...\n",
              "2               0  ...  O SR. JAYME CAMPOS (Bloco Minoria/DEM - MT. Pr...\n",
              "3               0  ...  SENADO FEDERAL SF -              SECRETARIA-GE...\n",
              "4               0  ...  O SR. CÍCERO LUCENA  (Bloco/PSDB - PB) - É por...\n",
              "...           ...  ...                                                ...\n",
              "74976           0  ...  O SR. ROMERO JUCÁ  (PMDB - RR. Sem apanhamento...\n",
              "74977           0  ...  A SRª SERYS SLHESSARENKO  (Bloco/PT - MT. Pron...\n",
              "74978           0  ...  O SR. JEFFERSON PÉRES  (Bloco/PDT - AM. Pronun...\n",
              "74979           0  ...  O SR. EDUARDO SUPLICY (Bloco/PT - SP. Pronunci...\n",
              "74980           0  ...  SENADO FEDERAL SF -              SECRETARIA-GE...\n",
              "\n",
              "[74981 rows x 9 columns]"
            ]
          },
          "metadata": {
            "tags": []
          },
          "execution_count": 3
        }
      ]
    },
    {
      "cell_type": "markdown",
      "metadata": {
        "id": "xJQF91NBah_0"
      },
      "source": [
        "Removing NaN values"
      ]
    },
    {
      "cell_type": "code",
      "metadata": {
        "id": "xBgpmsIlhFa5"
      },
      "source": [
        "data = data.dropna(subset=['Conteudo', 'SiglaPartidoParlamentar'])"
      ],
      "execution_count": null,
      "outputs": []
    },
    {
      "cell_type": "code",
      "metadata": {
        "colab": {
          "base_uri": "https://localhost:8080/"
        },
        "id": "CRVlMiBxjBNF",
        "outputId": "49d3a993-c3ad-4c6b-d020-4eb52d7602d8"
      },
      "source": [
        "data.SiglaPartidoParlamentar.value_counts()"
      ],
      "execution_count": null,
      "outputs": [
        {
          "output_type": "execute_result",
          "data": {
            "text/plain": [
              "MDB              14460\n",
              "PT               12608\n",
              "PSDB             12484\n",
              "PTB               4047\n",
              "DEM               3848\n",
              "PSB               3517\n",
              "PODEMOS           2962\n",
              "PP                2263\n",
              "PDT               1872\n",
              "PL                1653\n",
              "CIDADANIA         1364\n",
              "PSC               1168\n",
              "S/Partido         1166\n",
              "PCdoB             1087\n",
              "PSOL               831\n",
              "PROS               662\n",
              "REPUBLICANOS       654\n",
              "PSD                649\n",
              "REDE               617\n",
              "PV                 536\n",
              "SOLIDARIEDADE      337\n",
              "PSL                 50\n",
              "PPL                  8\n",
              "PRTB                 5\n",
              "Name: SiglaPartidoParlamentar, dtype: int64"
            ]
          },
          "metadata": {
            "tags": []
          },
          "execution_count": 5
        }
      ]
    },
    {
      "cell_type": "code",
      "metadata": {
        "id": "3izpIDEjjJEb"
      },
      "source": [
        "possible_labels = data.SiglaPartidoParlamentar.unique()\n",
        "label_dict = {}\n",
        "for index, possible_label in enumerate(possible_labels):\n",
        "    label_dict[possible_label] = index"
      ],
      "execution_count": null,
      "outputs": []
    },
    {
      "cell_type": "code",
      "metadata": {
        "colab": {
          "base_uri": "https://localhost:8080/",
          "height": 1000
        },
        "id": "nRxFc73BjX7N",
        "outputId": "a66b189f-5e79-4525-9617-681247d58f9a"
      },
      "source": [
        "data['label'] = data.SiglaPartidoParlamentar.replace(label_dict)\n",
        "data"
      ],
      "execution_count": null,
      "outputs": [
        {
          "output_type": "stream",
          "text": [
            "/usr/local/lib/python3.6/dist-packages/ipykernel_launcher.py:1: SettingWithCopyWarning: \n",
            "A value is trying to be set on a copy of a slice from a DataFrame.\n",
            "Try using .loc[row_indexer,col_indexer] = value instead\n",
            "\n",
            "See the caveats in the documentation: https://pandas.pydata.org/pandas-docs/stable/user_guide/indexing.html#returning-a-view-versus-a-copy\n",
            "  \"\"\"Entry point for launching an IPython kernel.\n"
          ],
          "name": "stderr"
        },
        {
          "output_type": "execute_result",
          "data": {
            "text/html": [
              "<div>\n",
              "<style scoped>\n",
              "    .dataframe tbody tr th:only-of-type {\n",
              "        vertical-align: middle;\n",
              "    }\n",
              "\n",
              "    .dataframe tbody tr th {\n",
              "        vertical-align: top;\n",
              "    }\n",
              "\n",
              "    .dataframe thead th {\n",
              "        text-align: right;\n",
              "    }\n",
              "</style>\n",
              "<table border=\"1\" class=\"dataframe\">\n",
              "  <thead>\n",
              "    <tr style=\"text-align: right;\">\n",
              "      <th></th>\n",
              "      <th>Unnamed: 0</th>\n",
              "      <th>NomeParlamentar</th>\n",
              "      <th>SexoParlamentar</th>\n",
              "      <th>SiglaPartidoParlamentar</th>\n",
              "      <th>UfParlamentar</th>\n",
              "      <th>DataPronunciamento</th>\n",
              "      <th>TextoResumo</th>\n",
              "      <th>Indexacao</th>\n",
              "      <th>Conteudo</th>\n",
              "      <th>label</th>\n",
              "    </tr>\n",
              "  </thead>\n",
              "  <tbody>\n",
              "    <tr>\n",
              "      <th>0</th>\n",
              "      <td>0</td>\n",
              "      <td>Paulo Paim</td>\n",
              "      <td>Masculino</td>\n",
              "      <td>PT</td>\n",
              "      <td>RS</td>\n",
              "      <td>2012-12-07</td>\n",
              "      <td>\\n      Destaque à aprovação, pelo Senado Fede...</td>\n",
              "      <td>REGISTRO, PRESENÇA, ORADOR, SOLENIDADE, POSSE,...</td>\n",
              "      <td>O SR. PAULO PAIM (Bloco/PT - RS. Pronuncia o s...</td>\n",
              "      <td>0</td>\n",
              "    </tr>\n",
              "    <tr>\n",
              "      <th>1</th>\n",
              "      <td>0</td>\n",
              "      <td>Ângela Portela</td>\n",
              "      <td>Feminino</td>\n",
              "      <td>PDT</td>\n",
              "      <td>NaN</td>\n",
              "      <td>2013-06-25</td>\n",
              "      <td>\\n      Satisfação com a postura do Governo Fe...</td>\n",
              "      <td>ELOGIO, ATUAÇÃO, GOVERNO FEDERAL, DIALOGO, LID...</td>\n",
              "      <td>A SRª ANGELA PORTELA (Bloco/PT - RR. Pronuncia...</td>\n",
              "      <td>1</td>\n",
              "    </tr>\n",
              "    <tr>\n",
              "      <th>2</th>\n",
              "      <td>0</td>\n",
              "      <td>Jayme Campos</td>\n",
              "      <td>Masculino</td>\n",
              "      <td>DEM</td>\n",
              "      <td>MT</td>\n",
              "      <td>2014-11-18</td>\n",
              "      <td>\\n      Apelo no sentido da aprovação, pela Câ...</td>\n",
              "      <td>SOLICITAÇÃO, APROVAÇÃO, CAMARA DOS DEPUTADOS, ...</td>\n",
              "      <td>O SR. JAYME CAMPOS (Bloco Minoria/DEM - MT. Pr...</td>\n",
              "      <td>2</td>\n",
              "    </tr>\n",
              "    <tr>\n",
              "      <th>3</th>\n",
              "      <td>0</td>\n",
              "      <td>Leomar Quintanilha</td>\n",
              "      <td>Masculino</td>\n",
              "      <td>MDB</td>\n",
              "      <td>NaN</td>\n",
              "      <td>2010-11-12</td>\n",
              "      <td>\\n      Relato sobre as dificuldades verificad...</td>\n",
              "      <td>ANALISE, DESIGUALDADE REGIONAL, QUALIDADE, EDU...</td>\n",
              "      <td>SENADO FEDERAL SF -              SECRETARIA-GE...</td>\n",
              "      <td>3</td>\n",
              "    </tr>\n",
              "    <tr>\n",
              "      <th>4</th>\n",
              "      <td>0</td>\n",
              "      <td>Cícero Lucena</td>\n",
              "      <td>Masculino</td>\n",
              "      <td>PSDB</td>\n",
              "      <td>NaN</td>\n",
              "      <td>2013-04-24</td>\n",
              "      <td>NaN</td>\n",
              "      <td>NaN</td>\n",
              "      <td>O SR. CÍCERO LUCENA  (Bloco/PSDB - PB) - É por...</td>\n",
              "      <td>4</td>\n",
              "    </tr>\n",
              "    <tr>\n",
              "      <th>...</th>\n",
              "      <td>...</td>\n",
              "      <td>...</td>\n",
              "      <td>...</td>\n",
              "      <td>...</td>\n",
              "      <td>...</td>\n",
              "      <td>...</td>\n",
              "      <td>...</td>\n",
              "      <td>...</td>\n",
              "      <td>...</td>\n",
              "      <td>...</td>\n",
              "    </tr>\n",
              "    <tr>\n",
              "      <th>74975</th>\n",
              "      <td>0</td>\n",
              "      <td>Ana Amélia</td>\n",
              "      <td>Feminino</td>\n",
              "      <td>PP</td>\n",
              "      <td>NaN</td>\n",
              "      <td>2014-04-22</td>\n",
              "      <td>\\n      Indignação com o assassinato do menino...</td>\n",
              "      <td>HOMENAGEM POSTUMA, JORNALISTA, ESPORTE, TELEVI...</td>\n",
              "      <td>A SRª ANA AMÉLIA (Bloco Maioria/PP-RS. Pronunc...</td>\n",
              "      <td>13</td>\n",
              "    </tr>\n",
              "    <tr>\n",
              "      <th>74976</th>\n",
              "      <td>0</td>\n",
              "      <td>Romero Jucá</td>\n",
              "      <td>Masculino</td>\n",
              "      <td>MDB</td>\n",
              "      <td>NaN</td>\n",
              "      <td>2008-04-29</td>\n",
              "      <td>\\n      Considerações sobre o acesso às comuni...</td>\n",
              "      <td>IMPORTANCIA, INTERNET, INCLUSÃO, CIDADANIA, RE...</td>\n",
              "      <td>O SR. ROMERO JUCÁ  (PMDB - RR. Sem apanhamento...</td>\n",
              "      <td>3</td>\n",
              "    </tr>\n",
              "    <tr>\n",
              "      <th>74977</th>\n",
              "      <td>0</td>\n",
              "      <td>Serys Slhessarenko</td>\n",
              "      <td>Feminino</td>\n",
              "      <td>PT</td>\n",
              "      <td>NaN</td>\n",
              "      <td>2005-09-21</td>\n",
              "      <td>\\n      Manifestação em defesa dos funcionário...</td>\n",
              "      <td>REGISTRO, PAUTA, REIVINDICAÇÃO, SERVIDOR, UNIV...</td>\n",
              "      <td>A SRª SERYS SLHESSARENKO  (Bloco/PT - MT. Pron...</td>\n",
              "      <td>0</td>\n",
              "    </tr>\n",
              "    <tr>\n",
              "      <th>74979</th>\n",
              "      <td>0</td>\n",
              "      <td>Eduardo Suplicy</td>\n",
              "      <td>Masculino</td>\n",
              "      <td>PT</td>\n",
              "      <td>NaN</td>\n",
              "      <td>2012-08-22</td>\n",
              "      <td>\\n      – Considerações acerca da desigualdade...</td>\n",
              "      <td>LEITURA, DECLARAÇÃO, ENCONTRO, AMBITO NACIONAL...</td>\n",
              "      <td>O SR. EDUARDO SUPLICY (Bloco/PT - SP. Pronunci...</td>\n",
              "      <td>0</td>\n",
              "    </tr>\n",
              "    <tr>\n",
              "      <th>74980</th>\n",
              "      <td>0</td>\n",
              "      <td>Níura Demarchi</td>\n",
              "      <td>Feminino</td>\n",
              "      <td>PSDB</td>\n",
              "      <td>NaN</td>\n",
              "      <td>2010-11-10</td>\n",
              "      <td>\\n      Celebração pela vitória do Senador Rai...</td>\n",
              "      <td>CONGRATULAÇÕES, RAIMUNDO COLOMBO, SENADOR, VIT...</td>\n",
              "      <td>SENADO FEDERAL SF -              SECRETARIA-GE...</td>\n",
              "      <td>4</td>\n",
              "    </tr>\n",
              "  </tbody>\n",
              "</table>\n",
              "<p>68848 rows × 10 columns</p>\n",
              "</div>"
            ],
            "text/plain": [
              "       Unnamed: 0  ... label\n",
              "0               0  ...     0\n",
              "1               0  ...     1\n",
              "2               0  ...     2\n",
              "3               0  ...     3\n",
              "4               0  ...     4\n",
              "...           ...  ...   ...\n",
              "74975           0  ...    13\n",
              "74976           0  ...     3\n",
              "74977           0  ...     0\n",
              "74979           0  ...     0\n",
              "74980           0  ...     4\n",
              "\n",
              "[68848 rows x 10 columns]"
            ]
          },
          "metadata": {
            "tags": []
          },
          "execution_count": 7
        }
      ]
    },
    {
      "cell_type": "code",
      "metadata": {
        "id": "GDLDNBm-jwH3"
      },
      "source": [
        "data = data.drop(columns=['Unnamed: 0', 'NomeParlamentar', 'SexoParlamentar', 'UfParlamentar', 'DataPronunciamento'])"
      ],
      "execution_count": null,
      "outputs": []
    },
    {
      "cell_type": "code",
      "metadata": {
        "id": "yofQTF6Ajoil"
      },
      "source": [
        "from sklearn.model_selection import train_test_split\n",
        "X_train, X_test, y_train, y_test = train_test_split(data['Conteudo'], data['label'], test_size=0.25, random_state=14, stratify=data['label'])"
      ],
      "execution_count": null,
      "outputs": []
    },
    {
      "cell_type": "markdown",
      "metadata": {
        "id": "gyu8Ootk5fYV"
      },
      "source": [
        "### Baseline TFIDF\n",
        "\n",
        "A baseline of TFIDF text representation + SVM and Logistic Regression."
      ]
    },
    {
      "cell_type": "code",
      "metadata": {
        "colab": {
          "base_uri": "https://localhost:8080/"
        },
        "id": "ThbvAaipjvet",
        "outputId": "2e316aa1-71fa-4263-ed8d-66504ba69b13"
      },
      "source": [
        "from sklearn.feature_extraction.text import TfidfVectorizer\n",
        "\n",
        "vectorizer = TfidfVectorizer()\n",
        "\n",
        "# fit_transform no treino\n",
        "X_csr_train = vectorizer.fit_transform(X_train)\n",
        "print(X_csr_train.shape)\n",
        "\n",
        "# apenas transform no teste\n",
        "X_csr_test = vectorizer.transform(X_test)\n",
        "print(X_csr_test.shape)"
      ],
      "execution_count": null,
      "outputs": [
        {
          "output_type": "stream",
          "text": [
            "(51636, 199671)\n",
            "(17212, 199671)\n"
          ],
          "name": "stdout"
        }
      ]
    },
    {
      "cell_type": "code",
      "metadata": {
        "id": "F8hf_F0WDG50"
      },
      "source": [
        "from sklearn.svm import LinearSVC\n",
        "from sklearn.linear_model import LogisticRegression"
      ],
      "execution_count": null,
      "outputs": []
    },
    {
      "cell_type": "code",
      "metadata": {
        "colab": {
          "base_uri": "https://localhost:8080/"
        },
        "id": "Cir7wMOlkalR",
        "outputId": "a6014334-13a6-4a1a-e852-10bba14cb6e5"
      },
      "source": [
        "svm_model = LinearSVC(max_iter=1000, random_state=14, verbose=True)\n",
        "svm_model.fit(X_csr_train, y_train)\n",
        "svm_prediction_tfidf = svm_model.predict(X_csr_test)"
      ],
      "execution_count": null,
      "outputs": [
        {
          "output_type": "stream",
          "text": [
            "[LibLinear]"
          ],
          "name": "stdout"
        }
      ]
    },
    {
      "cell_type": "code",
      "metadata": {
        "colab": {
          "base_uri": "https://localhost:8080/"
        },
        "id": "pk8o9L-mkoM0",
        "outputId": "fe8f822c-8b83-4e0b-ba34-50f476cf638c"
      },
      "source": [
        "tfidf_logreg = LogisticRegression(max_iter=1000, random_state=14, verbose=True)\n",
        "tfidf_logreg.fit(X_csr_train, y_train)\n",
        "y_pred_tfidf_reg = tfidf_logreg.predict(X_csr_test)"
      ],
      "execution_count": null,
      "outputs": [
        {
          "output_type": "stream",
          "text": [
            "[Parallel(n_jobs=1)]: Using backend SequentialBackend with 1 concurrent workers.\n",
            "[Parallel(n_jobs=1)]: Done   1 out of   1 | elapsed: 16.2min finished\n"
          ],
          "name": "stderr"
        }
      ]
    },
    {
      "cell_type": "code",
      "metadata": {
        "id": "AvNCTy-FlE_P"
      },
      "source": [
        "from sklearn.metrics import precision_recall_fscore_support\n",
        "\n",
        "results = pd.DataFrame(columns = ['Precision', 'Recall', 'F1 score', 'support']\n",
        "          )\n",
        "results.loc['tfidf + regressão'] = precision_recall_fscore_support(\n",
        "          y_test, \n",
        "          y_pred_tfidf_reg, \n",
        "          average = 'weighted'\n",
        "          )\n",
        "results.loc['tfidf + SVM'] = precision_recall_fscore_support(\n",
        "          y_test, \n",
        "          svm_prediction_tfidf, \n",
        "          average = 'weighted'\n",
        "          )"
      ],
      "execution_count": null,
      "outputs": []
    },
    {
      "cell_type": "code",
      "metadata": {
        "colab": {
          "base_uri": "https://localhost:8080/",
          "height": 111
        },
        "id": "V8BTtxyj6PT4",
        "outputId": "4576ce63-3637-465c-b3ef-8b3779b4d04c"
      },
      "source": [
        "results"
      ],
      "execution_count": null,
      "outputs": [
        {
          "output_type": "execute_result",
          "data": {
            "text/html": [
              "<div>\n",
              "<style scoped>\n",
              "    .dataframe tbody tr th:only-of-type {\n",
              "        vertical-align: middle;\n",
              "    }\n",
              "\n",
              "    .dataframe tbody tr th {\n",
              "        vertical-align: top;\n",
              "    }\n",
              "\n",
              "    .dataframe thead th {\n",
              "        text-align: right;\n",
              "    }\n",
              "</style>\n",
              "<table border=\"1\" class=\"dataframe\">\n",
              "  <thead>\n",
              "    <tr style=\"text-align: right;\">\n",
              "      <th></th>\n",
              "      <th>Precision</th>\n",
              "      <th>Recall</th>\n",
              "      <th>F1 score</th>\n",
              "      <th>support</th>\n",
              "    </tr>\n",
              "  </thead>\n",
              "  <tbody>\n",
              "    <tr>\n",
              "      <th>tfidf + regressão</th>\n",
              "      <td>0.828300</td>\n",
              "      <td>0.806926</td>\n",
              "      <td>0.799848</td>\n",
              "      <td>NaN</td>\n",
              "    </tr>\n",
              "    <tr>\n",
              "      <th>tfidf + SVM</th>\n",
              "      <td>0.898456</td>\n",
              "      <td>0.895937</td>\n",
              "      <td>0.895464</td>\n",
              "      <td>NaN</td>\n",
              "    </tr>\n",
              "  </tbody>\n",
              "</table>\n",
              "</div>"
            ],
            "text/plain": [
              "                   Precision    Recall  F1 score  support\n",
              "tfidf + regressão   0.828300  0.806926  0.799848      NaN\n",
              "tfidf + SVM         0.898456  0.895937  0.895464      NaN"
            ]
          },
          "metadata": {
            "tags": []
          },
          "execution_count": 74
        }
      ]
    },
    {
      "cell_type": "markdown",
      "metadata": {
        "id": "NG_CWq2--yRf"
      },
      "source": [
        "### BERT\n",
        "\n",
        "Here we'll use the language model called BERT. It allows performing fine-tuning for several NLP tasks, including text classification. The original paper can be found [here](https://arxiv.org/abs/1810.04805).\n",
        "\n",
        "These code cells were highly inspired by the guided project entitled 'Sentiment Analysis with Deep Learning using BERT'.\n",
        "\n",
        "The first thing to do is import the Hugging Face transformers lib."
      ]
    },
    {
      "cell_type": "code",
      "metadata": {
        "colab": {
          "base_uri": "https://localhost:8080/"
        },
        "id": "Jn08cU7f_E58",
        "outputId": "ffbafed8-f895-41f7-ba38-157528fdb7fa"
      },
      "source": [
        "pip install transformers"
      ],
      "execution_count": null,
      "outputs": [
        {
          "output_type": "stream",
          "text": [
            "Collecting transformers\n",
            "\u001b[?25l  Downloading https://files.pythonhosted.org/packages/99/84/7bc03215279f603125d844bf81c3fb3f2d50fe8e511546eb4897e4be2067/transformers-4.0.0-py3-none-any.whl (1.4MB)\n",
            "\r\u001b[K     |▎                               | 10kB 20.7MB/s eta 0:00:01\r\u001b[K     |▌                               | 20kB 18.3MB/s eta 0:00:01\r\u001b[K     |▊                               | 30kB 16.2MB/s eta 0:00:01\r\u001b[K     |█                               | 40kB 15.0MB/s eta 0:00:01\r\u001b[K     |█▏                              | 51kB 12.3MB/s eta 0:00:01\r\u001b[K     |█▌                              | 61kB 12.6MB/s eta 0:00:01\r\u001b[K     |█▊                              | 71kB 12.5MB/s eta 0:00:01\r\u001b[K     |██                              | 81kB 12.9MB/s eta 0:00:01\r\u001b[K     |██▏                             | 92kB 12.6MB/s eta 0:00:01\r\u001b[K     |██▍                             | 102kB 13.6MB/s eta 0:00:01\r\u001b[K     |██▋                             | 112kB 13.6MB/s eta 0:00:01\r\u001b[K     |███                             | 122kB 13.6MB/s eta 0:00:01\r\u001b[K     |███▏                            | 133kB 13.6MB/s eta 0:00:01\r\u001b[K     |███▍                            | 143kB 13.6MB/s eta 0:00:01\r\u001b[K     |███▋                            | 153kB 13.6MB/s eta 0:00:01\r\u001b[K     |███▉                            | 163kB 13.6MB/s eta 0:00:01\r\u001b[K     |████▏                           | 174kB 13.6MB/s eta 0:00:01\r\u001b[K     |████▍                           | 184kB 13.6MB/s eta 0:00:01\r\u001b[K     |████▋                           | 194kB 13.6MB/s eta 0:00:01\r\u001b[K     |████▉                           | 204kB 13.6MB/s eta 0:00:01\r\u001b[K     |█████                           | 215kB 13.6MB/s eta 0:00:01\r\u001b[K     |█████▎                          | 225kB 13.6MB/s eta 0:00:01\r\u001b[K     |█████▋                          | 235kB 13.6MB/s eta 0:00:01\r\u001b[K     |█████▉                          | 245kB 13.6MB/s eta 0:00:01\r\u001b[K     |██████                          | 256kB 13.6MB/s eta 0:00:01\r\u001b[K     |██████▎                         | 266kB 13.6MB/s eta 0:00:01\r\u001b[K     |██████▌                         | 276kB 13.6MB/s eta 0:00:01\r\u001b[K     |██████▉                         | 286kB 13.6MB/s eta 0:00:01\r\u001b[K     |███████                         | 296kB 13.6MB/s eta 0:00:01\r\u001b[K     |███████▎                        | 307kB 13.6MB/s eta 0:00:01\r\u001b[K     |███████▌                        | 317kB 13.6MB/s eta 0:00:01\r\u001b[K     |███████▊                        | 327kB 13.6MB/s eta 0:00:01\r\u001b[K     |████████                        | 337kB 13.6MB/s eta 0:00:01\r\u001b[K     |████████▎                       | 348kB 13.6MB/s eta 0:00:01\r\u001b[K     |████████▌                       | 358kB 13.6MB/s eta 0:00:01\r\u001b[K     |████████▊                       | 368kB 13.6MB/s eta 0:00:01\r\u001b[K     |█████████                       | 378kB 13.6MB/s eta 0:00:01\r\u001b[K     |█████████▏                      | 389kB 13.6MB/s eta 0:00:01\r\u001b[K     |█████████▌                      | 399kB 13.6MB/s eta 0:00:01\r\u001b[K     |█████████▊                      | 409kB 13.6MB/s eta 0:00:01\r\u001b[K     |██████████                      | 419kB 13.6MB/s eta 0:00:01\r\u001b[K     |██████████▏                     | 430kB 13.6MB/s eta 0:00:01\r\u001b[K     |██████████▍                     | 440kB 13.6MB/s eta 0:00:01\r\u001b[K     |██████████▋                     | 450kB 13.6MB/s eta 0:00:01\r\u001b[K     |███████████                     | 460kB 13.6MB/s eta 0:00:01\r\u001b[K     |███████████▏                    | 471kB 13.6MB/s eta 0:00:01\r\u001b[K     |███████████▍                    | 481kB 13.6MB/s eta 0:00:01\r\u001b[K     |███████████▋                    | 491kB 13.6MB/s eta 0:00:01\r\u001b[K     |███████████▉                    | 501kB 13.6MB/s eta 0:00:01\r\u001b[K     |████████████▏                   | 512kB 13.6MB/s eta 0:00:01\r\u001b[K     |████████████▍                   | 522kB 13.6MB/s eta 0:00:01\r\u001b[K     |████████████▋                   | 532kB 13.6MB/s eta 0:00:01\r\u001b[K     |████████████▉                   | 542kB 13.6MB/s eta 0:00:01\r\u001b[K     |█████████████                   | 552kB 13.6MB/s eta 0:00:01\r\u001b[K     |█████████████▎                  | 563kB 13.6MB/s eta 0:00:01\r\u001b[K     |█████████████▋                  | 573kB 13.6MB/s eta 0:00:01\r\u001b[K     |█████████████▉                  | 583kB 13.6MB/s eta 0:00:01\r\u001b[K     |██████████████                  | 593kB 13.6MB/s eta 0:00:01\r\u001b[K     |██████████████▎                 | 604kB 13.6MB/s eta 0:00:01\r\u001b[K     |██████████████▌                 | 614kB 13.6MB/s eta 0:00:01\r\u001b[K     |██████████████▉                 | 624kB 13.6MB/s eta 0:00:01\r\u001b[K     |███████████████                 | 634kB 13.6MB/s eta 0:00:01\r\u001b[K     |███████████████▎                | 645kB 13.6MB/s eta 0:00:01\r\u001b[K     |███████████████▌                | 655kB 13.6MB/s eta 0:00:01\r\u001b[K     |███████████████▊                | 665kB 13.6MB/s eta 0:00:01\r\u001b[K     |████████████████                | 675kB 13.6MB/s eta 0:00:01\r\u001b[K     |████████████████▎               | 686kB 13.6MB/s eta 0:00:01\r\u001b[K     |████████████████▌               | 696kB 13.6MB/s eta 0:00:01\r\u001b[K     |████████████████▊               | 706kB 13.6MB/s eta 0:00:01\r\u001b[K     |█████████████████               | 716kB 13.6MB/s eta 0:00:01\r\u001b[K     |█████████████████▏              | 727kB 13.6MB/s eta 0:00:01\r\u001b[K     |█████████████████▌              | 737kB 13.6MB/s eta 0:00:01\r\u001b[K     |█████████████████▊              | 747kB 13.6MB/s eta 0:00:01\r\u001b[K     |██████████████████              | 757kB 13.6MB/s eta 0:00:01\r\u001b[K     |██████████████████▏             | 768kB 13.6MB/s eta 0:00:01\r\u001b[K     |██████████████████▍             | 778kB 13.6MB/s eta 0:00:01\r\u001b[K     |██████████████████▋             | 788kB 13.6MB/s eta 0:00:01\r\u001b[K     |███████████████████             | 798kB 13.6MB/s eta 0:00:01\r\u001b[K     |███████████████████▏            | 808kB 13.6MB/s eta 0:00:01\r\u001b[K     |███████████████████▍            | 819kB 13.6MB/s eta 0:00:01\r\u001b[K     |███████████████████▋            | 829kB 13.6MB/s eta 0:00:01\r\u001b[K     |███████████████████▉            | 839kB 13.6MB/s eta 0:00:01\r\u001b[K     |████████████████████▏           | 849kB 13.6MB/s eta 0:00:01\r\u001b[K     |████████████████████▍           | 860kB 13.6MB/s eta 0:00:01\r\u001b[K     |████████████████████▋           | 870kB 13.6MB/s eta 0:00:01\r\u001b[K     |████████████████████▉           | 880kB 13.6MB/s eta 0:00:01\r\u001b[K     |█████████████████████           | 890kB 13.6MB/s eta 0:00:01\r\u001b[K     |█████████████████████▎          | 901kB 13.6MB/s eta 0:00:01\r\u001b[K     |█████████████████████▋          | 911kB 13.6MB/s eta 0:00:01\r\u001b[K     |█████████████████████▉          | 921kB 13.6MB/s eta 0:00:01\r\u001b[K     |██████████████████████          | 931kB 13.6MB/s eta 0:00:01\r\u001b[K     |██████████████████████▎         | 942kB 13.6MB/s eta 0:00:01\r\u001b[K     |██████████████████████▌         | 952kB 13.6MB/s eta 0:00:01\r\u001b[K     |██████████████████████▉         | 962kB 13.6MB/s eta 0:00:01\r\u001b[K     |███████████████████████         | 972kB 13.6MB/s eta 0:00:01\r\u001b[K     |███████████████████████▎        | 983kB 13.6MB/s eta 0:00:01\r\u001b[K     |███████████████████████▌        | 993kB 13.6MB/s eta 0:00:01\r\u001b[K     |███████████████████████▊        | 1.0MB 13.6MB/s eta 0:00:01\r\u001b[K     |████████████████████████        | 1.0MB 13.6MB/s eta 0:00:01\r\u001b[K     |████████████████████████▎       | 1.0MB 13.6MB/s eta 0:00:01\r\u001b[K     |████████████████████████▌       | 1.0MB 13.6MB/s eta 0:00:01\r\u001b[K     |████████████████████████▊       | 1.0MB 13.6MB/s eta 0:00:01\r\u001b[K     |█████████████████████████       | 1.1MB 13.6MB/s eta 0:00:01\r\u001b[K     |█████████████████████████▏      | 1.1MB 13.6MB/s eta 0:00:01\r\u001b[K     |█████████████████████████▌      | 1.1MB 13.6MB/s eta 0:00:01\r\u001b[K     |█████████████████████████▊      | 1.1MB 13.6MB/s eta 0:00:01\r\u001b[K     |██████████████████████████      | 1.1MB 13.6MB/s eta 0:00:01\r\u001b[K     |██████████████████████████▏     | 1.1MB 13.6MB/s eta 0:00:01\r\u001b[K     |██████████████████████████▍     | 1.1MB 13.6MB/s eta 0:00:01\r\u001b[K     |██████████████████████████▋     | 1.1MB 13.6MB/s eta 0:00:01\r\u001b[K     |███████████████████████████     | 1.1MB 13.6MB/s eta 0:00:01\r\u001b[K     |███████████████████████████▏    | 1.1MB 13.6MB/s eta 0:00:01\r\u001b[K     |███████████████████████████▍    | 1.2MB 13.6MB/s eta 0:00:01\r\u001b[K     |███████████████████████████▋    | 1.2MB 13.6MB/s eta 0:00:01\r\u001b[K     |███████████████████████████▉    | 1.2MB 13.6MB/s eta 0:00:01\r\u001b[K     |████████████████████████████▏   | 1.2MB 13.6MB/s eta 0:00:01\r\u001b[K     |████████████████████████████▍   | 1.2MB 13.6MB/s eta 0:00:01\r\u001b[K     |████████████████████████████▋   | 1.2MB 13.6MB/s eta 0:00:01\r\u001b[K     |████████████████████████████▉   | 1.2MB 13.6MB/s eta 0:00:01\r\u001b[K     |█████████████████████████████   | 1.2MB 13.6MB/s eta 0:00:01\r\u001b[K     |█████████████████████████████▎  | 1.2MB 13.6MB/s eta 0:00:01\r\u001b[K     |█████████████████████████████▋  | 1.2MB 13.6MB/s eta 0:00:01\r\u001b[K     |█████████████████████████████▉  | 1.3MB 13.6MB/s eta 0:00:01\r\u001b[K     |██████████████████████████████  | 1.3MB 13.6MB/s eta 0:00:01\r\u001b[K     |██████████████████████████████▎ | 1.3MB 13.6MB/s eta 0:00:01\r\u001b[K     |██████████████████████████████▌ | 1.3MB 13.6MB/s eta 0:00:01\r\u001b[K     |██████████████████████████████▉ | 1.3MB 13.6MB/s eta 0:00:01\r\u001b[K     |███████████████████████████████ | 1.3MB 13.6MB/s eta 0:00:01\r\u001b[K     |███████████████████████████████▎| 1.3MB 13.6MB/s eta 0:00:01\r\u001b[K     |███████████████████████████████▌| 1.3MB 13.6MB/s eta 0:00:01\r\u001b[K     |███████████████████████████████▊| 1.3MB 13.6MB/s eta 0:00:01\r\u001b[K     |████████████████████████████████| 1.4MB 13.6MB/s eta 0:00:01\r\u001b[K     |████████████████████████████████| 1.4MB 13.6MB/s \n",
            "\u001b[?25hRequirement already satisfied: regex!=2019.12.17 in /usr/local/lib/python3.6/dist-packages (from transformers) (2019.12.20)\n",
            "Requirement already satisfied: requests in /usr/local/lib/python3.6/dist-packages (from transformers) (2.23.0)\n",
            "Requirement already satisfied: numpy in /usr/local/lib/python3.6/dist-packages (from transformers) (1.18.5)\n",
            "Requirement already satisfied: dataclasses; python_version < \"3.7\" in /usr/local/lib/python3.6/dist-packages (from transformers) (0.8)\n",
            "Collecting tokenizers==0.9.4\n",
            "\u001b[?25l  Downloading https://files.pythonhosted.org/packages/0f/1c/e789a8b12e28be5bc1ce2156cf87cb522b379be9cadc7ad8091a4cc107c4/tokenizers-0.9.4-cp36-cp36m-manylinux2010_x86_64.whl (2.9MB)\n",
            "\u001b[K     |████████████████████████████████| 2.9MB 40.9MB/s \n",
            "\u001b[?25hCollecting sacremoses\n",
            "\u001b[?25l  Downloading https://files.pythonhosted.org/packages/7d/34/09d19aff26edcc8eb2a01bed8e98f13a1537005d31e95233fd48216eed10/sacremoses-0.0.43.tar.gz (883kB)\n",
            "\u001b[K     |████████████████████████████████| 890kB 49.1MB/s \n",
            "\u001b[?25hRequirement already satisfied: tqdm>=4.27 in /usr/local/lib/python3.6/dist-packages (from transformers) (4.41.1)\n",
            "Requirement already satisfied: filelock in /usr/local/lib/python3.6/dist-packages (from transformers) (3.0.12)\n",
            "Requirement already satisfied: packaging in /usr/local/lib/python3.6/dist-packages (from transformers) (20.4)\n",
            "Requirement already satisfied: urllib3!=1.25.0,!=1.25.1,<1.26,>=1.21.1 in /usr/local/lib/python3.6/dist-packages (from requests->transformers) (1.24.3)\n",
            "Requirement already satisfied: chardet<4,>=3.0.2 in /usr/local/lib/python3.6/dist-packages (from requests->transformers) (3.0.4)\n",
            "Requirement already satisfied: certifi>=2017.4.17 in /usr/local/lib/python3.6/dist-packages (from requests->transformers) (2020.11.8)\n",
            "Requirement already satisfied: idna<3,>=2.5 in /usr/local/lib/python3.6/dist-packages (from requests->transformers) (2.10)\n",
            "Requirement already satisfied: six in /usr/local/lib/python3.6/dist-packages (from sacremoses->transformers) (1.15.0)\n",
            "Requirement already satisfied: click in /usr/local/lib/python3.6/dist-packages (from sacremoses->transformers) (7.1.2)\n",
            "Requirement already satisfied: joblib in /usr/local/lib/python3.6/dist-packages (from sacremoses->transformers) (0.17.0)\n",
            "Requirement already satisfied: pyparsing>=2.0.2 in /usr/local/lib/python3.6/dist-packages (from packaging->transformers) (2.4.7)\n",
            "Building wheels for collected packages: sacremoses\n",
            "  Building wheel for sacremoses (setup.py) ... \u001b[?25l\u001b[?25hdone\n",
            "  Created wheel for sacremoses: filename=sacremoses-0.0.43-cp36-none-any.whl size=893257 sha256=1395978cbcf9e9e5e47b9f91c3cd9092bee04747d7c1026e6439d17efc51ed87\n",
            "  Stored in directory: /root/.cache/pip/wheels/29/3c/fd/7ce5c3f0666dab31a50123635e6fb5e19ceb42ce38d4e58f45\n",
            "Successfully built sacremoses\n",
            "Installing collected packages: tokenizers, sacremoses, transformers\n",
            "Successfully installed sacremoses-0.0.43 tokenizers-0.9.4 transformers-4.0.0\n"
          ],
          "name": "stdout"
        }
      ]
    },
    {
      "cell_type": "markdown",
      "metadata": {
        "id": "hU4VCinI0hew"
      },
      "source": [
        "Once installed, we have to import the packages required for the pretrained model. We'll use [BERTimbau Base](https://huggingface.co/neuralmind/bert-base-portuguese-cased), a Portuguese BERT-based variety."
      ]
    },
    {
      "cell_type": "code",
      "metadata": {
        "id": "Z7BkM1UM-xd6"
      },
      "source": [
        "from transformers import AutoModel  # or BertModel, for BERT without pretraining heads\n",
        "\n",
        "from transformers import BertTokenizer\n",
        "from torch.utils.data import TensorDataset"
      ],
      "execution_count": null,
      "outputs": []
    },
    {
      "cell_type": "markdown",
      "metadata": {
        "id": "FLtfIgBh1K0i"
      },
      "source": [
        "#### Load tokenizer and encode data\n",
        "We have to load the tokenizer for the specific model used. Then, we properly encode our data."
      ]
    },
    {
      "cell_type": "code",
      "metadata": {
        "colab": {
          "base_uri": "https://localhost:8080/",
          "height": 217,
          "referenced_widgets": [
            "66b0764608084423a56e3c0d808da44e",
            "9cad21872846471597c080eab431b35a",
            "c496147d9ddc47dfbeb2499c0541a8b4",
            "ed074e76f4ef41f387236a10577fabfb",
            "aa8f30ddb9954e7caa926e0082823257",
            "824495fb0db744d399d7882b3ccbc08e",
            "97f8aaaca1a1494ca1c5546091742d00",
            "b10fa7c5d8d44eadbd2cf3ad7980bde1",
            "02295b0504074036a54e62ece05fc72f",
            "c0e7784b762b45b28e48fe84f5120f53",
            "29f6c23b0ac94c489a760eadfcede5d0",
            "060c6aa91a7e4004924ab8a94ae715a0",
            "aed72b499e38440c8931796e583954dd",
            "3f06dd8ceb024ba1bbf1b7d103a630c2",
            "0b5d57c994064d4a80599d9131404859",
            "622ef2d60812429ca56c9039fb63c905",
            "4f763b15d1bc48fe9b8ec7c26d076574",
            "bd9346c206774a43a782818d1ed49fdb",
            "8af132aabd6843988f7f7860ebaef9b6",
            "f246a36dbe0744daa67f2bdecc55e4f7",
            "94c99c9b49c745e19485384705390681",
            "19ea6b12069948ae81ab626dd3802201",
            "c7d7eefbacc9497ca193ee144b10ded5",
            "96e71d3d682748cebf77341af10d3c46",
            "f758d929de9c4fba99c2ed0370836dd2",
            "e16cc8f4c067425fb36b8859c33e8d22",
            "37bbb4588d384ae9929383c7e2f64f17",
            "8fd0d20db16b4c449b210bee0865e122",
            "d70b9eebfdd44f91a8d77d5f07b67bc0",
            "977dc8a871c3469cb4bb97a5397de3c3",
            "51237ced20a54c9fa4a651bb91e01e1c",
            "ac8cabfbff7c4005bece96c12976a754"
          ]
        },
        "id": "BYUuAq5v_MaY",
        "outputId": "b3df2408-842c-4c2e-ccdc-fd4829368f22"
      },
      "source": [
        "tokenizer = BertTokenizer.from_pretrained('neuralmind/bert-base-portuguese-cased', do_lower_case=False)"
      ],
      "execution_count": null,
      "outputs": [
        {
          "output_type": "display_data",
          "data": {
            "application/vnd.jupyter.widget-view+json": {
              "model_id": "66b0764608084423a56e3c0d808da44e",
              "version_minor": 0,
              "version_major": 2
            },
            "text/plain": [
              "HBox(children=(FloatProgress(value=0.0, description='Downloading', max=209528.0, style=ProgressStyle(descripti…"
            ]
          },
          "metadata": {
            "tags": []
          }
        },
        {
          "output_type": "stream",
          "text": [
            "\n"
          ],
          "name": "stdout"
        },
        {
          "output_type": "display_data",
          "data": {
            "application/vnd.jupyter.widget-view+json": {
              "model_id": "02295b0504074036a54e62ece05fc72f",
              "version_minor": 0,
              "version_major": 2
            },
            "text/plain": [
              "HBox(children=(FloatProgress(value=0.0, description='Downloading', max=2.0, style=ProgressStyle(description_wi…"
            ]
          },
          "metadata": {
            "tags": []
          }
        },
        {
          "output_type": "stream",
          "text": [
            "\n"
          ],
          "name": "stdout"
        },
        {
          "output_type": "display_data",
          "data": {
            "application/vnd.jupyter.widget-view+json": {
              "model_id": "4f763b15d1bc48fe9b8ec7c26d076574",
              "version_minor": 0,
              "version_major": 2
            },
            "text/plain": [
              "HBox(children=(FloatProgress(value=0.0, description='Downloading', max=112.0, style=ProgressStyle(description_…"
            ]
          },
          "metadata": {
            "tags": []
          }
        },
        {
          "output_type": "stream",
          "text": [
            "\n"
          ],
          "name": "stdout"
        },
        {
          "output_type": "display_data",
          "data": {
            "application/vnd.jupyter.widget-view+json": {
              "model_id": "f758d929de9c4fba99c2ed0370836dd2",
              "version_minor": 0,
              "version_major": 2
            },
            "text/plain": [
              "HBox(children=(FloatProgress(value=0.0, description='Downloading', max=43.0, style=ProgressStyle(description_w…"
            ]
          },
          "metadata": {
            "tags": []
          }
        },
        {
          "output_type": "stream",
          "text": [
            "\n"
          ],
          "name": "stdout"
        }
      ]
    },
    {
      "cell_type": "code",
      "metadata": {
        "colab": {
          "base_uri": "https://localhost:8080/"
        },
        "id": "i4CXN9cl_zq4",
        "outputId": "426ad8ce-cc82-4048-9428-1f06af7e2cd4"
      },
      "source": [
        "y_train.values"
      ],
      "execution_count": null,
      "outputs": [
        {
          "output_type": "execute_result",
          "data": {
            "text/plain": [
              "array([ 1,  3,  0, ..., 12,  0, 16])"
            ]
          },
          "metadata": {
            "tags": []
          },
          "execution_count": 24
        }
      ]
    },
    {
      "cell_type": "code",
      "metadata": {
        "colab": {
          "base_uri": "https://localhost:8080/"
        },
        "id": "2-Oi4dIv_epw",
        "outputId": "84571e35-6533-4dbd-eb48-69eb3fccaccd"
      },
      "source": [
        "encoded_data_train = tokenizer.batch_encode_plus(\n",
        "    X_train.values, \n",
        "    add_special_tokens=True, \n",
        "    return_attention_mask=True, \n",
        "    pad_to_max_length=True, \n",
        "    max_length=256, \n",
        "    return_tensors='pt'\n",
        ")\n",
        "\n",
        "encoded_data_test = tokenizer.batch_encode_plus(\n",
        "    X_test.values, \n",
        "    add_special_tokens=True, \n",
        "    return_attention_mask=True, \n",
        "    pad_to_max_length=True, \n",
        "    max_length=256, \n",
        "    return_tensors='pt'\n",
        ")\n",
        "\n",
        "input_ids_train = encoded_data_train['input_ids']\n",
        "attention_masks_train = encoded_data_train['attention_mask']\n",
        "labels_train = torch.tensor(y_train.values)\n",
        "\n",
        "input_ids_test = encoded_data_test['input_ids']\n",
        "attention_masks_test = encoded_data_test['attention_mask']\n",
        "labels_test = torch.tensor(y_test.values)"
      ],
      "execution_count": null,
      "outputs": [
        {
          "output_type": "stream",
          "text": [
            "/usr/local/lib/python3.6/dist-packages/transformers/tokenization_utils_base.py:2142: FutureWarning: The `pad_to_max_length` argument is deprecated and will be removed in a future version, use `padding=True` or `padding='longest'` to pad to the longest sequence in the batch, or use `padding='max_length'` to pad to a max length. In this case, you can give a specific length with `max_length` (e.g. `max_length=45`) or leave max_length to None to pad to the maximal input size of the model (e.g. 512 for Bert).\n",
            "  FutureWarning,\n"
          ],
          "name": "stderr"
        }
      ]
    },
    {
      "cell_type": "code",
      "metadata": {
        "id": "bFM4XmdxBHMQ"
      },
      "source": [
        "dataset_train = TensorDataset(input_ids_train, attention_masks_train, labels_train)\n",
        "dataset_test = TensorDataset(input_ids_test, attention_masks_test, labels_test)"
      ],
      "execution_count": null,
      "outputs": []
    },
    {
      "cell_type": "code",
      "metadata": {
        "colab": {
          "base_uri": "https://localhost:8080/"
        },
        "id": "U_SMguPWBT6B",
        "outputId": "63857f9c-56be-4939-e006-760f60ac62bf"
      },
      "source": [
        "len(dataset_train)"
      ],
      "execution_count": null,
      "outputs": [
        {
          "output_type": "execute_result",
          "data": {
            "text/plain": [
              "51025"
            ]
          },
          "metadata": {
            "tags": []
          },
          "execution_count": 29
        }
      ]
    },
    {
      "cell_type": "code",
      "metadata": {
        "colab": {
          "base_uri": "https://localhost:8080/"
        },
        "id": "lp_RDKEUBXA9",
        "outputId": "8cbf216a-42af-4522-b85a-e9dc5d1537d5"
      },
      "source": [
        "len(dataset_test)"
      ],
      "execution_count": null,
      "outputs": [
        {
          "output_type": "execute_result",
          "data": {
            "text/plain": [
              "17009"
            ]
          },
          "metadata": {
            "tags": []
          },
          "execution_count": 30
        }
      ]
    },
    {
      "cell_type": "markdown",
      "metadata": {
        "id": "sA7nTBHr3RuO"
      },
      "source": [
        "#### Setting up our model"
      ]
    },
    {
      "cell_type": "code",
      "metadata": {
        "id": "vO4B1EedBYzW"
      },
      "source": [
        "from transformers import BertForSequenceClassification"
      ],
      "execution_count": null,
      "outputs": []
    },
    {
      "cell_type": "code",
      "metadata": {
        "colab": {
          "base_uri": "https://localhost:8080/",
          "height": 227,
          "referenced_widgets": [
            "6cc0018d24f14e369ff8f47d910cf94c",
            "d0e1252ca49841d1bd642964851d58cc",
            "285004772b0e4ce9a87d94e8692f9158",
            "e1f8f59be6cd49ae81b060b33ebc93df",
            "a1b4b6436e1e42d7b2d1d41a23ba9a87",
            "95cda272dd284b4c8b3a7cba3f897888",
            "a891ee3661994345ae129d52d75620bd",
            "9142519cceab494ea312c749cfc4318c",
            "e05ec4adce2b4ddd9cc7c13187b5e7fd",
            "c0162d6c92bf4013a44fb3bd77ce1986",
            "a8e2d4cc58b842f091c364c0eb756a18",
            "f1adc9f5cd0845d28d042d6c6e4584a8",
            "3de199039eed4daaa0c27b0657116085",
            "11a7c0dd84514a6fbc9049688aa59ffd",
            "3eedd1372c1a46bda1bfbb7c2f09464d",
            "fe0f02567de944f192d3b7ed6ecfc434"
          ]
        },
        "id": "DcxEPaYeiqgr",
        "outputId": "0054b3ac-5a88-45e5-ea0e-6cef89985c89"
      },
      "source": [
        "model = BertForSequenceClassification.from_pretrained(\"neuralmind/bert-base-portuguese-cased\",\n",
        "                                                      num_labels=len(label_dict),\n",
        "                                                      output_attentions=False,\n",
        "                                                      output_hidden_states=False)"
      ],
      "execution_count": null,
      "outputs": [
        {
          "output_type": "display_data",
          "data": {
            "application/vnd.jupyter.widget-view+json": {
              "model_id": "6cc0018d24f14e369ff8f47d910cf94c",
              "version_minor": 0,
              "version_major": 2
            },
            "text/plain": [
              "HBox(children=(FloatProgress(value=0.0, description='Downloading', max=647.0, style=ProgressStyle(description_…"
            ]
          },
          "metadata": {
            "tags": []
          }
        },
        {
          "output_type": "stream",
          "text": [
            "\n"
          ],
          "name": "stdout"
        },
        {
          "output_type": "display_data",
          "data": {
            "application/vnd.jupyter.widget-view+json": {
              "model_id": "e05ec4adce2b4ddd9cc7c13187b5e7fd",
              "version_minor": 0,
              "version_major": 2
            },
            "text/plain": [
              "HBox(children=(FloatProgress(value=0.0, description='Downloading', max=438235074.0, style=ProgressStyle(descri…"
            ]
          },
          "metadata": {
            "tags": []
          }
        },
        {
          "output_type": "stream",
          "text": [
            "\n"
          ],
          "name": "stdout"
        },
        {
          "output_type": "stream",
          "text": [
            "Some weights of the model checkpoint at neuralmind/bert-base-portuguese-cased were not used when initializing BertForSequenceClassification: ['cls.predictions.bias', 'cls.predictions.transform.dense.weight', 'cls.predictions.transform.dense.bias', 'cls.predictions.transform.LayerNorm.weight', 'cls.predictions.transform.LayerNorm.bias', 'cls.predictions.decoder.weight', 'cls.seq_relationship.weight', 'cls.seq_relationship.bias']\n",
            "- This IS expected if you are initializing BertForSequenceClassification from the checkpoint of a model trained on another task or with another architecture (e.g. initializing a BertForSequenceClassification model from a BertForPreTraining model).\n",
            "- This IS NOT expected if you are initializing BertForSequenceClassification from the checkpoint of a model that you expect to be exactly identical (initializing a BertForSequenceClassification model from a BertForSequenceClassification model).\n",
            "Some weights of BertForSequenceClassification were not initialized from the model checkpoint at neuralmind/bert-base-portuguese-cased and are newly initialized: ['classifier.weight', 'classifier.bias']\n",
            "You should probably TRAIN this model on a down-stream task to be able to use it for predictions and inference.\n"
          ],
          "name": "stderr"
        }
      ]
    },
    {
      "cell_type": "markdown",
      "metadata": {
        "id": "AuZ2d1bD3aq_"
      },
      "source": [
        "#### Creating dataloaders"
      ]
    },
    {
      "cell_type": "code",
      "metadata": {
        "id": "65BHnBzZjMe8"
      },
      "source": [
        "from torch.utils.data import DataLoader, RandomSampler, SequentialSampler"
      ],
      "execution_count": null,
      "outputs": []
    },
    {
      "cell_type": "code",
      "metadata": {
        "id": "0G05PWxKjMUj"
      },
      "source": [
        "batch_size = 32\n",
        "\n",
        "dataloader_train = DataLoader(dataset_train, \n",
        "                              sampler=RandomSampler(dataset_train), \n",
        "                              batch_size=batch_size)\n",
        "\n",
        "dataloader_test = DataLoader(dataset_test, \n",
        "                                   sampler=SequentialSampler(dataset_test), \n",
        "                                   batch_size=batch_size)"
      ],
      "execution_count": null,
      "outputs": []
    },
    {
      "cell_type": "markdown",
      "metadata": {
        "id": "SLB1FxG13fZy"
      },
      "source": [
        "#### Defining optimizer and scheduler"
      ]
    },
    {
      "cell_type": "code",
      "metadata": {
        "id": "2kCNQsYFjMHM"
      },
      "source": [
        "from transformers import AdamW, get_linear_schedule_with_warmup"
      ],
      "execution_count": null,
      "outputs": []
    },
    {
      "cell_type": "code",
      "metadata": {
        "id": "gGmxKcRQjYKQ"
      },
      "source": [
        "optimizer = AdamW(model.parameters(),\n",
        "                  lr=1e-5, \n",
        "                  eps=1e-8)"
      ],
      "execution_count": null,
      "outputs": []
    },
    {
      "cell_type": "code",
      "metadata": {
        "id": "Z1zq7bzUjb1J"
      },
      "source": [
        "epochs = 3\n",
        "\n",
        "scheduler = get_linear_schedule_with_warmup(optimizer, \n",
        "                                            num_warmup_steps=0,\n",
        "                                            num_training_steps=len(dataloader_train)*epochs)"
      ],
      "execution_count": null,
      "outputs": []
    },
    {
      "cell_type": "markdown",
      "metadata": {
        "id": "rKSl01j43mNV"
      },
      "source": [
        "#### Specifying performance metrics\n",
        "\n",
        "Also inspired by [this](https://mccormickml.com/2019/07/22/BERT-fine-tuning/#41-bertforsequenceclassification) tutorial."
      ]
    },
    {
      "cell_type": "code",
      "metadata": {
        "id": "CQp4mBQZjgA2"
      },
      "source": [
        "import numpy as np\n",
        "from sklearn.metrics import f1_score"
      ],
      "execution_count": null,
      "outputs": []
    },
    {
      "cell_type": "code",
      "metadata": {
        "id": "VvteSmOSjf4j"
      },
      "source": [
        "def f1_score_func(preds, labels):\n",
        "    preds_flat = np.argmax(preds, axis=1).flatten()\n",
        "    labels_flat = labels.flatten()\n",
        "    return f1_score(labels_flat, preds_flat, average='weighted')"
      ],
      "execution_count": null,
      "outputs": []
    },
    {
      "cell_type": "code",
      "metadata": {
        "id": "SEdhnVVvjfqZ"
      },
      "source": [
        "def accuracy_per_class(preds, labels):\n",
        "    label_dict_inverse = {v: k for k, v in label_dict.items()}\n",
        "    \n",
        "    preds_flat = np.argmax(preds, axis=1).flatten()\n",
        "    labels_flat = labels.flatten()\n",
        "\n",
        "    for label in np.unique(labels_flat):\n",
        "        y_preds = preds_flat[labels_flat==label]\n",
        "        y_true = labels_flat[labels_flat==label]\n",
        "        print(f'Class: {label_dict_inverse[label]}')\n",
        "        print(f'Accuracy: {len(y_preds[y_preds==label])}/{len(y_true)}\\n')"
      ],
      "execution_count": null,
      "outputs": []
    },
    {
      "cell_type": "markdown",
      "metadata": {
        "id": "K8KgGL8z3vHO"
      },
      "source": [
        "#### Creating training loop\n",
        "\n",
        "Adapted from the original `run_glue.py` [script](https://github.com/huggingface/transformers/blob/5bfcd0485ece086ebcbed2d008813037968a9e58/examples/run_glue.py#L128)."
      ]
    },
    {
      "cell_type": "code",
      "metadata": {
        "id": "bFcuDwPljpIN"
      },
      "source": [
        "import random\n",
        "\n",
        "seed_val = 17\n",
        "random.seed(seed_val)\n",
        "np.random.seed(seed_val)\n",
        "torch.manual_seed(seed_val)\n",
        "torch.cuda.manual_seed_all(seed_val)"
      ],
      "execution_count": null,
      "outputs": []
    },
    {
      "cell_type": "code",
      "metadata": {
        "colab": {
          "base_uri": "https://localhost:8080/"
        },
        "id": "RcnhGa9MjrkY",
        "outputId": "28bb4812-7ccb-481d-b8f8-06b18af34b7a"
      },
      "source": [
        "device = torch.device('cuda' if torch.cuda.is_available() else 'cpu')\n",
        "model.to(device)\n",
        "\n",
        "print(device)"
      ],
      "execution_count": null,
      "outputs": [
        {
          "output_type": "stream",
          "text": [
            "cuda\n"
          ],
          "name": "stdout"
        }
      ]
    },
    {
      "cell_type": "code",
      "metadata": {
        "id": "f9p15PFgjzCq"
      },
      "source": [
        "def evaluate(dataloader_val):\n",
        "\n",
        "    model.eval()\n",
        "    \n",
        "    loss_val_total = 0\n",
        "    predictions, true_vals = [], []\n",
        "    \n",
        "    for batch in dataloader_val:\n",
        "        \n",
        "        batch = tuple(b.to(device) for b in batch)\n",
        "        \n",
        "        inputs = {'input_ids':      batch[0],\n",
        "                  'attention_mask': batch[1],\n",
        "                  'labels':         batch[2],\n",
        "                 }\n",
        "\n",
        "        with torch.no_grad():        \n",
        "            outputs = model(**inputs)\n",
        "            \n",
        "        loss = outputs[0]\n",
        "        logits = outputs[1]\n",
        "        loss_val_total += loss.item()\n",
        "\n",
        "        logits = logits.detach().cpu().numpy()\n",
        "        label_ids = inputs['labels'].cpu().numpy()\n",
        "        predictions.append(logits)\n",
        "        true_vals.append(label_ids)\n",
        "    \n",
        "    loss_val_avg = loss_val_total/len(dataloader_val) \n",
        "    \n",
        "    predictions = np.concatenate(predictions, axis=0)\n",
        "    true_vals = np.concatenate(true_vals, axis=0)\n",
        "            \n",
        "    return loss_val_avg, predictions, true_vals"
      ],
      "execution_count": null,
      "outputs": []
    },
    {
      "cell_type": "code",
      "metadata": {
        "colab": {
          "base_uri": "https://localhost:8080/",
          "height": 337,
          "referenced_widgets": [
            "cb4c8c85b080415c80b41be93d960403",
            "69bcbd4e249a4f55bc0be2643b7f81b0",
            "144b9b7fd1614c268f5c3b79c612c09f",
            "e6c9eae17d72423c97800e2c3ec83ab8",
            "03062345e7fa4b0484c53eec9bc385a1",
            "216ebb07d8f1469499dd8bb863047c55",
            "853139c1849c4dc5a52733f405f900dc",
            "d4f2da2abc9e48e3a99c70b8fea055c3",
            "705eefbc2ecc4d178e7f1957779291c5",
            "615ba4661c144be8a67233c6221518be",
            "95bbbb6322cb4ac6a4f7d04282a2571f",
            "eff2ffcd66284d89b741a149a9570548",
            "566ed5a0df90445683e6bd6cac352c26",
            "f02754d36be5415d90c87d17ffbce438",
            "3b3c2288da3f4e7bb66922fcd590a2b2",
            "2a57191a967f40b5b1760bd322834fc5",
            "acf1b07f4fef469c9d2899538d8f78c9",
            "9c588c474ee145e8a2147c32deb18880",
            "b40b1e299a4a42a985af15403ad1fc0a",
            "fa34682f407b48089692f5d53a650a0f",
            "ba07b722993d4413821f78bf7956751b",
            "58dac8fb7f2042c3800f765af8c0ea8e",
            "60ca5bcbd181420ca6fbf8244ec84b96",
            "f4530f57714344668fea4c61f169c8a1",
            "50a03baae476412b901006469580f189",
            "ebf65ade7979439192f36bbe1013a70e",
            "dce7ba918d5047e8a9108ee029a0a1b2",
            "51be4af4083c42bcb757c76ba97c15a8",
            "1223dada7199489195e89e90aa7ac6f3",
            "9e9698518f0a475293c3245a7695bd58",
            "264a0fc5901646599fe5b2f6e083c894",
            "0a4e2fad0f374f69a2908a6846dbccde"
          ]
        },
        "id": "NdLyiA-2j0ig",
        "outputId": "23b03b62-95e6-4442-a627-821714c3edd0"
      },
      "source": [
        "for epoch in tqdm(range(1, epochs+1)):\n",
        "    \n",
        "    model.train()\n",
        "    \n",
        "    loss_train_total = 0\n",
        "\n",
        "    progress_bar = tqdm(dataloader_train, desc='Epoch {:1d}'.format(epoch), leave=False, disable=False)\n",
        "    for batch in progress_bar:\n",
        "\n",
        "        model.zero_grad()\n",
        "        \n",
        "        batch = tuple(b.to(device) for b in batch)\n",
        "        \n",
        "        inputs = {'input_ids':      batch[0],\n",
        "                  'attention_mask': batch[1],\n",
        "                  'labels':         batch[2],\n",
        "                 }       \n",
        "\n",
        "        outputs = model(**inputs)\n",
        "        \n",
        "        loss = outputs[0]\n",
        "        loss_train_total += loss.item()\n",
        "        loss.backward()\n",
        "\n",
        "        torch.nn.utils.clip_grad_norm_(model.parameters(), 1.0)\n",
        "\n",
        "        optimizer.step()\n",
        "        scheduler.step()\n",
        "        \n",
        "        progress_bar.set_postfix({'training_loss': '{:.3f}'.format(loss.item()/len(batch))})\n",
        "         \n",
        "        \n",
        "    torch.save(model.state_dict(), f'finetuned_BERT_epoch_{epoch}.model')\n",
        "        \n",
        "    tqdm.write(f'\\nEpoch {epoch}')\n",
        "    \n",
        "    loss_train_avg = loss_train_total/len(dataloader_train)            \n",
        "    tqdm.write(f'Training loss: {loss_train_avg}')\n",
        "    \n",
        "    val_loss, predictions, true_vals = evaluate(dataloader_test)\n",
        "    val_f1 = f1_score_func(predictions, true_vals)\n",
        "    tqdm.write(f'Validation loss: {val_loss}')\n",
        "    tqdm.write(f'F1 Score (Weighted): {val_f1}')"
      ],
      "execution_count": null,
      "outputs": [
        {
          "output_type": "display_data",
          "data": {
            "application/vnd.jupyter.widget-view+json": {
              "model_id": "cb4c8c85b080415c80b41be93d960403",
              "version_minor": 0,
              "version_major": 2
            },
            "text/plain": [
              "HBox(children=(FloatProgress(value=0.0, max=3.0), HTML(value='')))"
            ]
          },
          "metadata": {
            "tags": []
          }
        },
        {
          "output_type": "display_data",
          "data": {
            "application/vnd.jupyter.widget-view+json": {
              "model_id": "705eefbc2ecc4d178e7f1957779291c5",
              "version_minor": 0,
              "version_major": 2
            },
            "text/plain": [
              "HBox(children=(FloatProgress(value=0.0, description='Epoch 1', max=1595.0, style=ProgressStyle(description_wid…"
            ]
          },
          "metadata": {
            "tags": []
          }
        },
        {
          "output_type": "stream",
          "text": [
            "\r\r\r\n",
            "Epoch 1\n",
            "Training loss: 0.5419387039468626\n",
            "Validation loss: 0.05313367645004134\n",
            "F1 Score (Weighted): 0.9920294261986637\n"
          ],
          "name": "stdout"
        },
        {
          "output_type": "display_data",
          "data": {
            "application/vnd.jupyter.widget-view+json": {
              "model_id": "acf1b07f4fef469c9d2899538d8f78c9",
              "version_minor": 0,
              "version_major": 2
            },
            "text/plain": [
              "HBox(children=(FloatProgress(value=0.0, description='Epoch 2', max=1595.0, style=ProgressStyle(description_wid…"
            ]
          },
          "metadata": {
            "tags": []
          }
        },
        {
          "output_type": "stream",
          "text": [
            "\r\r\r\n",
            "Epoch 2\n",
            "Training loss: 0.036105727803306564\n",
            "Validation loss: 0.03604652079853362\n",
            "F1 Score (Weighted): 0.9947349274823766\n"
          ],
          "name": "stdout"
        },
        {
          "output_type": "display_data",
          "data": {
            "application/vnd.jupyter.widget-view+json": {
              "model_id": "50a03baae476412b901006469580f189",
              "version_minor": 0,
              "version_major": 2
            },
            "text/plain": [
              "HBox(children=(FloatProgress(value=0.0, description='Epoch 3', max=1595.0, style=ProgressStyle(description_wid…"
            ]
          },
          "metadata": {
            "tags": []
          }
        },
        {
          "output_type": "stream",
          "text": [
            "\r\r\r\n",
            "Epoch 3\n",
            "Training loss: 0.022422375769404035\n",
            "Validation loss: 0.03246861748345707\n",
            "F1 Score (Weighted): 0.9952122570748156\n",
            "\n"
          ],
          "name": "stdout"
        }
      ]
    },
    {
      "cell_type": "markdown",
      "metadata": {
        "id": "4fCZyacT5DqS"
      },
      "source": [
        "We can see above that the BERT model's performance is great! 99,5% of F1-score."
      ]
    },
    {
      "cell_type": "markdown",
      "metadata": {
        "id": "z5-bS2Bc44k3"
      },
      "source": [
        "#### Saving the best model"
      ]
    },
    {
      "cell_type": "code",
      "metadata": {
        "id": "9nQeNgTPEgDq"
      },
      "source": [
        "!cp /content/finetuned_BERT_epoch_3.model /content/drive/MyDrive"
      ],
      "execution_count": null,
      "outputs": []
    },
    {
      "cell_type": "markdown",
      "metadata": {
        "id": "mAsKOqj5492-"
      },
      "source": [
        "#### Running evaluation scripts"
      ]
    },
    {
      "cell_type": "code",
      "metadata": {
        "id": "s1awImgYbl3Y"
      },
      "source": [
        "_, predictions, true_vals = evaluate(dataloader_test)"
      ],
      "execution_count": null,
      "outputs": []
    },
    {
      "cell_type": "code",
      "metadata": {
        "colab": {
          "base_uri": "https://localhost:8080/"
        },
        "id": "YdRamPbmbt0m",
        "outputId": "dd8b3ff8-8e14-45f6-93d1-507640a95a5d"
      },
      "source": [
        "accuracy_per_class(predictions, true_vals)"
      ],
      "execution_count": null,
      "outputs": [
        {
          "output_type": "stream",
          "text": [
            "Class: PT\n",
            "Accuracy: 3109/3118\n",
            "\n",
            "Class: PDT\n",
            "Accuracy: 463/463\n",
            "\n",
            "Class: DEM\n",
            "Accuracy: 944/950\n",
            "\n",
            "Class: MDB\n",
            "Accuracy: 3557/3571\n",
            "\n",
            "Class: PODEMOS\n",
            "Accuracy: 732/735\n",
            "\n",
            "Class: PL\n",
            "Accuracy: 403/409\n",
            "\n",
            "Class: PCdoB\n",
            "Accuracy: 260/260\n",
            "\n",
            "Class: SOLIDARIEDADE\n",
            "Accuracy: 84/84\n",
            "\n",
            "Class: S/Partido\n",
            "Accuracy: 275/279\n",
            "\n",
            "Class: PSDB\n",
            "Accuracy: 3078/3095\n",
            "\n",
            "Class: PROS\n",
            "Accuracy: 164/165\n",
            "\n",
            "Class: PTB\n",
            "Accuracy: 998/1000\n",
            "\n",
            "Class: PP\n",
            "Accuracy: 553/556\n",
            "\n",
            "Class: PSB\n",
            "Accuracy: 864/869\n",
            "\n",
            "Class: PSD\n",
            "Accuracy: 158/159\n",
            "\n",
            "Class: CIDADANIA\n",
            "Accuracy: 339/340\n",
            "\n",
            "Class: PV\n",
            "Accuracy: 132/133\n",
            "\n",
            "Class: PSC\n",
            "Accuracy: 291/292\n",
            "\n",
            "Class: REDE\n",
            "Accuracy: 146/146\n",
            "\n",
            "Class: PSOL\n",
            "Accuracy: 207/208\n",
            "\n",
            "Class: REPUBLICANOS\n",
            "Accuracy: 161/162\n",
            "\n",
            "Class: PPL\n",
            "Accuracy: 0/2\n",
            "\n",
            "Class: PSL\n",
            "Accuracy: 11/12\n",
            "\n",
            "Class: PRTB\n",
            "Accuracy: 0/1\n",
            "\n"
          ],
          "name": "stdout"
        }
      ]
    },
    {
      "cell_type": "markdown",
      "metadata": {
        "id": "uJVovPKi6XFu"
      },
      "source": [
        "Comparing to the baseline results, BERT's model performed with a nifty 99,5% F1-Score."
      ]
    },
    {
      "cell_type": "code",
      "metadata": {
        "colab": {
          "base_uri": "https://localhost:8080/",
          "height": 111
        },
        "id": "BSqtG2aVsUvQ",
        "outputId": "0ff19886-16ec-44e5-b0c3-d425333a6d92"
      },
      "source": [
        "results"
      ],
      "execution_count": null,
      "outputs": [
        {
          "output_type": "execute_result",
          "data": {
            "text/html": [
              "<div>\n",
              "<style scoped>\n",
              "    .dataframe tbody tr th:only-of-type {\n",
              "        vertical-align: middle;\n",
              "    }\n",
              "\n",
              "    .dataframe tbody tr th {\n",
              "        vertical-align: top;\n",
              "    }\n",
              "\n",
              "    .dataframe thead th {\n",
              "        text-align: right;\n",
              "    }\n",
              "</style>\n",
              "<table border=\"1\" class=\"dataframe\">\n",
              "  <thead>\n",
              "    <tr style=\"text-align: right;\">\n",
              "      <th></th>\n",
              "      <th>Precision</th>\n",
              "      <th>Recall</th>\n",
              "      <th>F1 score</th>\n",
              "      <th>support</th>\n",
              "    </tr>\n",
              "  </thead>\n",
              "  <tbody>\n",
              "    <tr>\n",
              "      <th>tfidf + regressão</th>\n",
              "      <td>0.828300</td>\n",
              "      <td>0.806926</td>\n",
              "      <td>0.799848</td>\n",
              "      <td>NaN</td>\n",
              "    </tr>\n",
              "    <tr>\n",
              "      <th>tfidf + SVM</th>\n",
              "      <td>0.898456</td>\n",
              "      <td>0.895937</td>\n",
              "      <td>0.895464</td>\n",
              "      <td>NaN</td>\n",
              "    </tr>\n",
              "  </tbody>\n",
              "</table>\n",
              "</div>"
            ],
            "text/plain": [
              "                   Precision    Recall  F1 score  support\n",
              "tfidf + regressão   0.828300  0.806926  0.799848      NaN\n",
              "tfidf + SVM         0.898456  0.895937  0.895464      NaN"
            ]
          },
          "metadata": {
            "tags": []
          },
          "execution_count": 53
        }
      ]
    },
    {
      "cell_type": "markdown",
      "metadata": {
        "id": "Uv2HlDU1pbdf"
      },
      "source": [
        "### Embeddings"
      ]
    },
    {
      "cell_type": "markdown",
      "metadata": {
        "id": "BqIoKV1GkXu_"
      },
      "source": [
        "#### Stratified Sampling"
      ]
    },
    {
      "cell_type": "code",
      "metadata": {
        "colab": {
          "base_uri": "https://localhost:8080/"
        },
        "id": "rhMivcWiY96o",
        "outputId": "48b03aa2-5d8c-45f7-a515-5767339a774e"
      },
      "source": [
        "data.shape[0]"
      ],
      "execution_count": null,
      "outputs": [
        {
          "output_type": "execute_result",
          "data": {
            "text/plain": [
              "68848"
            ]
          },
          "metadata": {
            "tags": []
          },
          "execution_count": 10
        }
      ]
    },
    {
      "cell_type": "markdown",
      "metadata": {
        "id": "Oa6w7SxmhIcS"
      },
      "source": [
        "The original dataset tested before have 68848 rows. Build a embedding representation for the whole dataset is computational unfeasiable due to the 12 GB of RAM in Colab. For this reason, I sampled 5% of the original size and removed the categories with few examples."
      ]
    },
    {
      "cell_type": "code",
      "metadata": {
        "id": "3v8c9FDFM9fJ"
      },
      "source": [
        "N = np.floor(data.shape[0]/20)\n",
        "# Ref below: https://www.statology.org/stratified-sampling-pandas/\n",
        "sample_str = data.groupby('SiglaPartidoParlamentar').apply(lambda x: x.sample(int(np.rint(N*len(x)/len(data))))).sample(frac=1).reset_index(drop=True)"
      ],
      "execution_count": null,
      "outputs": []
    },
    {
      "cell_type": "code",
      "metadata": {
        "colab": {
          "base_uri": "https://localhost:8080/"
        },
        "id": "MUwEaZzCPrDe",
        "outputId": "ded7a0fb-dba3-4999-bc94-3d13e7b9422e"
      },
      "source": [
        "data.SiglaPartidoParlamentar.value_counts()"
      ],
      "execution_count": null,
      "outputs": [
        {
          "output_type": "execute_result",
          "data": {
            "text/plain": [
              "MDB              14460\n",
              "PT               12608\n",
              "PSDB             12484\n",
              "PTB               4047\n",
              "DEM               3848\n",
              "PSB               3517\n",
              "PODEMOS           2962\n",
              "PP                2263\n",
              "PDT               1872\n",
              "PL                1653\n",
              "CIDADANIA         1364\n",
              "PSC               1168\n",
              "S/Partido         1166\n",
              "PCdoB             1087\n",
              "PSOL               831\n",
              "PROS               662\n",
              "REPUBLICANOS       654\n",
              "PSD                649\n",
              "REDE               617\n",
              "PV                 536\n",
              "SOLIDARIEDADE      337\n",
              "PSL                 50\n",
              "PPL                  8\n",
              "PRTB                 5\n",
              "Name: SiglaPartidoParlamentar, dtype: int64"
            ]
          },
          "metadata": {
            "tags": []
          },
          "execution_count": 12
        }
      ]
    },
    {
      "cell_type": "code",
      "metadata": {
        "colab": {
          "base_uri": "https://localhost:8080/"
        },
        "id": "xyUMsjV0PS3t",
        "outputId": "26bddcbb-44ab-400e-cc81-33df57524038"
      },
      "source": [
        "sample_str.SiglaPartidoParlamentar.value_counts()"
      ],
      "execution_count": null,
      "outputs": [
        {
          "output_type": "execute_result",
          "data": {
            "text/plain": [
              "MDB              723\n",
              "PT               630\n",
              "PSDB             624\n",
              "PTB              202\n",
              "DEM              192\n",
              "PSB              176\n",
              "PODEMOS          148\n",
              "PP               113\n",
              "PDT               94\n",
              "PL                83\n",
              "CIDADANIA         68\n",
              "PSC               58\n",
              "S/Partido         58\n",
              "PCdoB             54\n",
              "PSOL              42\n",
              "REPUBLICANOS      33\n",
              "PROS              33\n",
              "PSD               32\n",
              "REDE              31\n",
              "PV                27\n",
              "SOLIDARIEDADE     17\n",
              "PSL                2\n",
              "Name: SiglaPartidoParlamentar, dtype: int64"
            ]
          },
          "metadata": {
            "tags": []
          },
          "execution_count": 13
        }
      ]
    },
    {
      "cell_type": "markdown",
      "metadata": {
        "id": "rrSgo-g4bJ3-"
      },
      "source": [
        "We'll remove PSL instances because of the small amount of instances."
      ]
    },
    {
      "cell_type": "code",
      "metadata": {
        "colab": {
          "base_uri": "https://localhost:8080/"
        },
        "id": "EPDFRTosbJRB",
        "outputId": "c2566eb8-e2f4-48de-a79b-b27aebf51d41"
      },
      "source": [
        "sample_str = sample_str[sample_str.SiglaPartidoParlamentar != 'PSL']\n",
        "sample_str.SiglaPartidoParlamentar.value_counts()"
      ],
      "execution_count": null,
      "outputs": [
        {
          "output_type": "execute_result",
          "data": {
            "text/plain": [
              "MDB              723\n",
              "PT               630\n",
              "PSDB             624\n",
              "PTB              202\n",
              "DEM              192\n",
              "PSB              176\n",
              "PODEMOS          148\n",
              "PP               113\n",
              "PDT               94\n",
              "PL                83\n",
              "CIDADANIA         68\n",
              "S/Partido         58\n",
              "PSC               58\n",
              "PCdoB             54\n",
              "PSOL              42\n",
              "PROS              33\n",
              "REPUBLICANOS      33\n",
              "PSD               32\n",
              "REDE              31\n",
              "PV                27\n",
              "SOLIDARIEDADE     17\n",
              "Name: SiglaPartidoParlamentar, dtype: int64"
            ]
          },
          "metadata": {
            "tags": []
          },
          "execution_count": 14
        }
      ]
    },
    {
      "cell_type": "markdown",
      "metadata": {
        "id": "Kw-ZAbb-OAde"
      },
      "source": [
        "#### Embedding dataframe creation"
      ]
    },
    {
      "cell_type": "code",
      "metadata": {
        "id": "QO3gu9OyogY8"
      },
      "source": [
        "path_w2v_cbow300 = '/content/drive/My Drive/pesquisa/embeddings_NILC_W2V/cbow_s300.txt'"
      ],
      "execution_count": null,
      "outputs": []
    },
    {
      "cell_type": "markdown",
      "metadata": {
        "id": "XQs35KraOGhz"
      },
      "source": [
        "Here, we'll instantiate a dict and append the first 100000 terms as keys and lists with their vector representations. As we have an embedding of 300 dimensions, each list will store 300 float values."
      ]
    },
    {
      "cell_type": "code",
      "metadata": {
        "colab": {
          "base_uri": "https://localhost:8080/"
        },
        "id": "hfJ-eX31qycF",
        "outputId": "ae21391e-f06a-4f77-cb62-5f01ad0823fa"
      },
      "source": [
        "dictionary = open(path_w2v_cbow300, 'r', encoding='utf-8',\n",
        "                  newline='\\n', errors='ignore')\n",
        "embeds = {}\n",
        "for line in dictionary:\n",
        "    tokens = line.rstrip().split(' ')\n",
        "    embeds[tokens[0]] = [float(x) for x in tokens[1:]]\n",
        "    \n",
        "    if len(embeds) == 100000:\n",
        "        break\n",
        "\n",
        "print(len(embeds))"
      ],
      "execution_count": null,
      "outputs": [
        {
          "output_type": "stream",
          "text": [
            "100000\n"
          ],
          "name": "stdout"
        }
      ]
    },
    {
      "cell_type": "markdown",
      "metadata": {
        "id": "GmWBu-ydbJH_"
      },
      "source": [
        "We'll build a list containing the speeches' texts and use a function for tokenize them. We'll use only the first 256 tokens of each speech - for BERT comparision purposes!"
      ]
    },
    {
      "cell_type": "code",
      "metadata": {
        "colab": {
          "base_uri": "https://localhost:8080/",
          "height": 197
        },
        "id": "z5R0TiHkw2zs",
        "outputId": "c4ed7ea4-3a1a-4412-f9cc-4e0c61786904"
      },
      "source": [
        "speeches = sample_str.Conteudo.to_list()\n",
        "speeches[0]"
      ],
      "execution_count": null,
      "outputs": [
        {
          "output_type": "execute_result",
          "data": {
            "application/vnd.google.colaboratory.intrinsic+json": {
              "type": "string"
            },
            "text/plain": [
              "'O SR. AROLDE DE OLIVEIRA  (PSD - RJ. Para discursar.) – Presidente Soraya Thronicke, colegas Parlamentares, Senadores Marcos do Val, Eduardo Girão, Elmano Férrer, Jayme Campos, eu serei breve. O escopo, a estrutura da frente parlamentar já foi devidamente colocada pela Presidente, então, eu vou apenas tratar de outros assuntos que são mais ou menos paralelos e que são importantes. \\xa0\\xa0\\xa0\\xa0Quando se trata de gastos públicos, nós estamos tratando de orçamentação, de Orçamento. \\xa0\\xa0\\xa0\\xa0No Brasil, o nosso orçamento é um orçamento autorizativo, simplesmente autorizativo. O que significa isso? Significa que a elaboração do orçamento decorre muito da vontade política do próprio Governo e é apresentado ao Congresso Nacional, que tem comissão mista que avalia e que faz. E existem naturalmente ali muitas negociações para a destinação desse orçamento, do orçamento público.  \\xa0\\xa0\\xa0\\xa0O importante é levar em conta que um orçamento autorizativo, então, não está focado na elaboração orçamentária de acordo com o pensamento e a percepção das necessidades que tem a própria Nação. Então, ele é um orçamento frouxo, um orçamento que facilita, até através de desvinculações de despesas etc., o uso indevido e o desvio de conduta na execução orçamentária. \\xa0\\xa0\\xa0\\xa0Esse, rapidamente, é o primeiro item que eu quero falar. \\xa0\\xa0\\xa0\\xa0Então, nós temos que, já como consequência desta Frente Parlamentar, lutar para um orçamento cada vez mais impositivo, um orçamento de execução obrigatória, com a criminalização de responsabilidade do executor do orçamento. O executor do orçamento, o agente que executa e cumpre a execução do orçamento, tem que ser criminalizado, com responsabilidade... Tem de haver crime de responsabilidade se ele não executar o orçamento de acordo com o que está planejado. \\xa0\\xa0\\xa0\\xa0Então, esse é o esquema dos orçamentos impositivos. A outra vantagem do orçamento impositivo é que a elaboração ocorre também da base da sociedade, a elaboração do orçamento. E, quando as partes se somam, ao final elas interpretam melhor a vontade, os interesses e as necessidades reais, os anseios da população. Então, enquanto se executa o orçamento, ao mesmo tempo se elabora o orçamento do ano seguinte, naturalmente de acordo com os planos plurianuais etc., que também são do orçamento, e com as regras. \\xa0\\xa0\\xa0\\xa0É assim nos países das democracias avançadas, nos Estados Unidos, na Europa, as principais democracias todas usam o orçamento impositivo. O nível de corrupção, de desvio de conduta, quando se tem um orçamento impositivo de ponta a ponta, é muito reduzido. A corrupção existe sempre, está com o ser humano, mas, em termos de gestão, reduz-se demais a corrupção nesses países. Nas questões orçamentárias, vocês podem pesquisar e vocês vão ver que é mínima. Então, o orçamento impositivo é fundamental.  \\xa0\\xa0\\xa0\\xa0Há um outro aspecto que eu quero falar rapidamente e que ainda tem a ver com a nossa frente parlamentar: a transparência é naturalmente a percepção da sociedade sobre a forma como os agentes executores do orçamento estão aplicando os recursos, se estão de acordo etc. – essa é a percepção –, mas há outra coisa que é fundamental, mais importante, que foi mostrada aqui na sua fala e também na breve apresentação no vídeo: que 13% apenas dos desvios são nocivos ao orçamento, são aquele ativo que é o desvio do dinheiro para si próprio ou para instituições próprias – enfim, não importa –; e que 87% – o drama é muito maior – são o passivo, que é a incompetência, porque, numa execução orçamentária que tem foco em desvio de conduta – que facilita, que é permissivo –, a tendência é que os agentes sejam escolhidos e nomeados de acordo com o objetivo não da aplicação orçamentária, que é o desejo da Nação e de acordo com os anseios da Nação, mas de acordo com a vontade daqueles que querem praticar os desvios de conduta, enfim, a corrupção. \\xa0\\xa0\\xa0\\xa0Com isso, abandona-se a gestão e, abandonando a gestão, os cargos são escolhidos não por mérito funcional – não existe o mérito funcional. Então, facilita toda corrupção, e esses cargos que deveriam gerir passam a ter a incompetência de mãos dadas com a má-fé, e aí\\xa0é o desastre sobre o qual o Brasil já tem uma grande experiência.  \\xa0\\xa0\\xa0\\xa0Eu queria falar para vocês esses dois pontos, porque realmente isso é muito importante. \\xa0\\xa0\\xa0\\xa0Agora, por outro lado, para a transparência hoje, para esta frente – e é o último item, já encerrando, Presidente –, há a questão da tecnologia. A tecnologia é um instrumento formidável de que se dispõe hoje para nós fazermos uma gestão transparente do orçamento e de todas as políticas públicas. Por quê? Porque a tecnologia permite isso, o mundo está cada vez mais conectado. O Brasil é conectado. Recentemente saiu uma pesquisa no Ibope em que, na opinião pública, 70% dos brasileiros só se informam nas redes sociais, apenas 30% ainda usam outros meios outros, outros mecanismos. E o aumento diz que é muito radical: nesses próximos três, quatro anos, os senhores verão o advento da tecnologia de 5G, de banda ilimitada, de latência praticamente zero, na ordem de milissegundos o retardo da comunicação; os senhores vão ver o que vai haver de investimento em banda larga para acesso de todas as comunidades. Estaremos todos conectados. Nós não podemos deixar de impor que os sistemas de tecnologia da informação usados pelo Governo sejam cada vez mais integrados. E hoje nós vamos controles muito diversificados, atomizados dentro dos órgãos do Governo, então isso prejudica, não permite uma percepção mais clara do que está acontecendo. Então, a busca da integração dos sistemas é fundamental. Então, esse é o outro aspecto em que a tecnologia pode nos ajudar. E vamos, então, trabalhar.  \\xa0\\xa0\\xa0\\xa0Eu gostaria de falar mais uma questão: por que a frente parlamentar é tão importante? Porque nós temos mais de 30 partidos no País. Quando você tem mais de 30 partidos no País para comportar meia dúzia de filosofias, de princípios, de valores e de programas partidários, evidentemente esses partidos não têm significado dentro da sociedade, eles não têm liderança, eles não têm programas definidos e, não tendo programas definidos, nós temos isto aqui no nosso Congresso: nós temos esses partidos atrapalhando o processo legislativo. Mas não é isso que é o importante; o importante é que cede lugar ao fortalecimento das frentes parlamentares, que têm unidade de pensamento, têm proposta. Aqui nós vemos Frente Parlamentar do Agronegócio, da Agricultura, Frente Parlamentar Evangélica, agora a Frente Parlamentar da Transparência. Então, a unidade que deveria estar dentro do partido passa para a frente parlamentar. Por isso, esta Frente Parlamentar também é muito importante. \\xa0\\xa0\\xa0\\xa0Eu queria só dizer isso rapidamente. \\xa0\\xa0\\xa0\\xa0Muito obrigado, desculpa.'"
            ]
          },
          "metadata": {
            "tags": []
          },
          "execution_count": 18
        }
      ]
    },
    {
      "cell_type": "code",
      "metadata": {
        "id": "x1m_CpFFwsKf"
      },
      "source": [
        "from tqdm import tqdm\n",
        "\n",
        "tqdm.pandas(desc=\"progress-bar\")\n",
        "# Function for tokenizing\n",
        "def tokenize_text(text):\n",
        "    tokens = []\n",
        "    for sent in nltk.sent_tokenize(text):\n",
        "        for word in nltk.word_tokenize(sent):\n",
        "            if len(word) < 2:\n",
        "                continue\n",
        "            tokens.append(word.lower())\n",
        "        if len(tokens) == 256:\n",
        "          return tokens\n",
        "    return tokens"
      ],
      "execution_count": null,
      "outputs": []
    },
    {
      "cell_type": "code",
      "metadata": {
        "colab": {
          "base_uri": "https://localhost:8080/"
        },
        "id": "RoXPqLD9zcAA",
        "outputId": "035fef26-6355-43ef-ad05-27bdeeefeac0"
      },
      "source": [
        "import nltk\n",
        "nltk.download('punkt')"
      ],
      "execution_count": null,
      "outputs": [
        {
          "output_type": "stream",
          "text": [
            "[nltk_data] Downloading package punkt to /root/nltk_data...\n",
            "[nltk_data]   Package punkt is already up-to-date!\n"
          ],
          "name": "stdout"
        },
        {
          "output_type": "execute_result",
          "data": {
            "text/plain": [
              "True"
            ]
          },
          "metadata": {
            "tags": []
          },
          "execution_count": 20
        }
      ]
    },
    {
      "cell_type": "markdown",
      "metadata": {
        "id": "lBYpjPn0QOs3"
      },
      "source": [
        "Here is where we build the embedding representation of our dataset. \n",
        "1. Create a dataframe;\n",
        "2. We tokenize and save the first 256 terms of each speech in a variable `words`;\n",
        "3. For each element in `words` we check its correspondant vector representation in our earlier created dict. If the term doesn't exist in the dict, we just move on to the next one;\n",
        "4. If each one of the 256 tokens do exist in our dict, our row will have a shape of (1, 76800). In cases where we have less than 256 terms added - when the term doesn't exist in the dict, for instance - we would have a different shape, and it could bring us trouble during training. To solve that issue, we save in a variable `array_length` the size we expect for each dataframe row and add zeroes to the row which had less than 256 terms. This way we make sure that the shape of each row will be always (1, 76800);\n",
        "5. We append each processed line in the created dataframe."
      ]
    },
    {
      "cell_type": "code",
      "metadata": {
        "id": "tcYrBovdrwhg",
        "colab": {
          "base_uri": "https://localhost:8080/"
        },
        "outputId": "39d2d3c1-c0fd-4361-e17c-06eac828f038"
      },
      "source": [
        "# 256 tokens * 300 dimensions\n",
        "array_length = 76800\n",
        "embedding_features = pd.DataFrame()\n",
        "for document in tqdm(speeches):\n",
        "    # Saving the first 256 words of the document as a sequence\n",
        "    words = tokenize_text(document)[0:256]\n",
        "    \n",
        "    # Retrieving the vector representation of each word and \n",
        "    # appending it to the feature vector \n",
        "    feature_vector = []\n",
        "    for word in words:\n",
        "        try:\n",
        "            feature_vector = np.append(feature_vector, \n",
        "                                       np.array(embeds[word]))\n",
        "        except KeyError:\n",
        "            # In the event that a word is not included in our \n",
        "            # dictionary skip that word\n",
        "            pass\n",
        "    # If the text has less then 100 words, fill remaining vector with\n",
        "    # zeros\n",
        "    zeroes_to_add = array_length - len(feature_vector)\n",
        "    if zeroes_to_add > 0:\n",
        "      feature_vector = np.append(feature_vector, \n",
        "                                np.zeros(zeroes_to_add)\n",
        "                                ).reshape((1,-1))\n",
        "    \n",
        "    feature_vector = feature_vector.reshape((1,-1))\n",
        "    \n",
        "    # Append the document feature vector to the feature table\n",
        "    embedding_features = embedding_features.append( \n",
        "                                     pd.DataFrame(feature_vector))\n",
        "print(embedding_features.shape)"
      ],
      "execution_count": null,
      "outputs": [
        {
          "output_type": "stream",
          "text": [
            "100%|██████████| 3438/3438 [21:29<00:00,  2.67it/s]"
          ],
          "name": "stderr"
        },
        {
          "output_type": "stream",
          "text": [
            "(3438, 76800)\n"
          ],
          "name": "stdout"
        },
        {
          "output_type": "stream",
          "text": [
            "\n"
          ],
          "name": "stderr"
        }
      ]
    },
    {
      "cell_type": "markdown",
      "metadata": {
        "id": "LXfKxElZS66q"
      },
      "source": [
        "#### Split and classifiers instantiation\n",
        "\n",
        "Here we split the embedding dataframe in train and test. The same setup configurations of the last tests were keeped for comparasion reasons."
      ]
    },
    {
      "cell_type": "code",
      "metadata": {
        "id": "-SsFAugecC5O"
      },
      "source": [
        "X_train_samp, X_test_samp, y_train_samp, y_test_samp = train_test_split(sample_str['Conteudo'], sample_str['label'], test_size=0.25, random_state=14, stratify=sample_str['label'])"
      ],
      "execution_count": null,
      "outputs": []
    },
    {
      "cell_type": "code",
      "metadata": {
        "colab": {
          "base_uri": "https://localhost:8080/"
        },
        "id": "Qva1RPlRbrgp",
        "outputId": "0ae8ff14-c004-4129-8b55-31099ea98e9d"
      },
      "source": [
        "from sklearn.feature_extraction.text import TfidfVectorizer\n",
        "\n",
        "vectorizer = TfidfVectorizer()\n",
        "\n",
        "# fit_transform no treino\n",
        "X_csr_train_samp = vectorizer.fit_transform(X_train_samp)\n",
        "print(X_csr_train_samp.shape)\n",
        "\n",
        "# apenas transform no teste\n",
        "X_csr_test_samp = vectorizer.transform(X_test_samp)\n",
        "print(X_csr_test_samp.shape)"
      ],
      "execution_count": null,
      "outputs": [
        {
          "output_type": "stream",
          "text": [
            "(5159, 86513)\n",
            "(1720, 86513)\n"
          ],
          "name": "stdout"
        }
      ]
    },
    {
      "cell_type": "code",
      "metadata": {
        "colab": {
          "base_uri": "https://localhost:8080/"
        },
        "id": "FOfhPxwnCAh2",
        "outputId": "e4483f83-d0d5-4d43-95b6-e3eb87f440d2"
      },
      "source": [
        "emb_train, emb_test = train_test_split(embedding_features, test_size=0.25, random_state=14, stratify=sample_str['label'])\n",
        "\n",
        "print(emb_train.shape, emb_test.shape)"
      ],
      "execution_count": null,
      "outputs": [
        {
          "output_type": "stream",
          "text": [
            "(2578, 76800) (860, 76800)\n"
          ],
          "name": "stdout"
        }
      ]
    },
    {
      "cell_type": "markdown",
      "metadata": {
        "id": "OJylsJLibA0b"
      },
      "source": [
        "The embedding used here is Word2vec CBOW 300 dimensions. The classifiers used were SVM and Logistic Regression, both with standard parameters,  the same setup employed in TFIDF representation test."
      ]
    },
    {
      "cell_type": "code",
      "metadata": {
        "id": "nHywJpSpC2bu"
      },
      "source": [
        "svm_w2v_cbow300 = LinearSVC(max_iter=40000)\n",
        "svm_w2v_cbow300.fit(emb_train, y_train_samp)\n",
        "svm_pred_w2v_cbow300 = svm_w2v_cbow300.predict(emb_test)"
      ],
      "execution_count": null,
      "outputs": []
    },
    {
      "cell_type": "code",
      "metadata": {
        "id": "PN47IF7VDmT7"
      },
      "source": [
        "w2v_cbow300_logreg = LogisticRegression(max_iter=25000)\n",
        "w2v_cbow300_logreg.fit(emb_train, y_train_samp)\n",
        "y_pred_w2v_cbow300_reg = w2v_cbow300_logreg.predict(emb_test)"
      ],
      "execution_count": null,
      "outputs": []
    },
    {
      "cell_type": "markdown",
      "metadata": {
        "id": "9MW4Q1MzK0TW"
      },
      "source": [
        "#### Evaluation"
      ]
    },
    {
      "cell_type": "code",
      "metadata": {
        "id": "bNrFWfwgLA-F"
      },
      "source": [
        "from sklearn.metrics import precision_recall_fscore_support"
      ],
      "execution_count": null,
      "outputs": []
    },
    {
      "cell_type": "code",
      "metadata": {
        "id": "7sqYKuktK6AZ"
      },
      "source": [
        "results = pd.DataFrame(columns = ['Precision', 'Recall', 'F1 score', 'support']\n",
        "          )\n",
        "results.loc['w2v + log reg'] = precision_recall_fscore_support(\n",
        "          y_test_samp, \n",
        "          y_pred_w2v_cbow300_reg, \n",
        "          average = 'weighted'\n",
        "          )\n",
        "results.loc['w2v + SVM'] = precision_recall_fscore_support(\n",
        "          y_test_samp, \n",
        "          svm_pred_w2v_cbow300, \n",
        "          average = 'weighted'\n",
        "          )"
      ],
      "execution_count": null,
      "outputs": []
    },
    {
      "cell_type": "code",
      "metadata": {
        "colab": {
          "base_uri": "https://localhost:8080/",
          "height": 111
        },
        "id": "b17T8kG6EPZL",
        "outputId": "8a3126af-6cce-4975-937f-14455c604c05"
      },
      "source": [
        "results"
      ],
      "execution_count": null,
      "outputs": [
        {
          "output_type": "execute_result",
          "data": {
            "text/html": [
              "<div>\n",
              "<style scoped>\n",
              "    .dataframe tbody tr th:only-of-type {\n",
              "        vertical-align: middle;\n",
              "    }\n",
              "\n",
              "    .dataframe tbody tr th {\n",
              "        vertical-align: top;\n",
              "    }\n",
              "\n",
              "    .dataframe thead th {\n",
              "        text-align: right;\n",
              "    }\n",
              "</style>\n",
              "<table border=\"1\" class=\"dataframe\">\n",
              "  <thead>\n",
              "    <tr style=\"text-align: right;\">\n",
              "      <th></th>\n",
              "      <th>Precision</th>\n",
              "      <th>Recall</th>\n",
              "      <th>F1 score</th>\n",
              "      <th>support</th>\n",
              "    </tr>\n",
              "  </thead>\n",
              "  <tbody>\n",
              "    <tr>\n",
              "      <th>w2v + log reg</th>\n",
              "      <td>0.599741</td>\n",
              "      <td>0.590698</td>\n",
              "      <td>0.541338</td>\n",
              "      <td>NaN</td>\n",
              "    </tr>\n",
              "    <tr>\n",
              "      <th>w2v + SVM</th>\n",
              "      <td>0.671685</td>\n",
              "      <td>0.639535</td>\n",
              "      <td>0.606722</td>\n",
              "      <td>NaN</td>\n",
              "    </tr>\n",
              "  </tbody>\n",
              "</table>\n",
              "</div>"
            ],
            "text/plain": [
              "               Precision    Recall  F1 score  support\n",
              "w2v + log reg   0.599741  0.590698  0.541338      NaN\n",
              "w2v + SVM       0.671685  0.639535  0.606722      NaN"
            ]
          },
          "metadata": {
            "tags": []
          },
          "execution_count": 52
        }
      ]
    }
  ]
}